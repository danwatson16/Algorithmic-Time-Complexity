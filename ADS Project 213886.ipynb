{
 "cells": [
  {
   "cell_type": "markdown",
   "metadata": {},
   "source": [
    "# Algorithmic Data Science Project 213886"
   ]
  },
  {
   "cell_type": "markdown",
   "metadata": {},
   "source": [
    "## Introduction and document construction"
   ]
  },
  {
   "cell_type": "markdown",
   "metadata": {},
   "source": [
    "In this notebook I aim to investigate the time complexity of various algorithms that aim to find the similarities between documents consisting of random words using a bag-of-words representation. We will mainly be working with the Jaccard and Cosine similarity measures."
   ]
  },
  {
   "cell_type": "markdown",
   "metadata": {},
   "source": [
    "First we are going to import our text document populated by our 2000 random words that were generated online."
   ]
  },
  {
   "cell_type": "code",
   "execution_count": 1,
   "metadata": {},
   "outputs": [
    {
     "data": {
      "text/plain": [
       "2000"
      ]
     },
     "execution_count": 1,
     "metadata": {},
     "output_type": "execute_result"
    }
   ],
   "source": [
    "import pandas as pd\n",
    "import numpy as np \n",
    "file = \"example_words.txt\"\n",
    "with open(file) as file:\n",
    "    file = file.read().replace(\".\",\" \") #Removing full stops at the end of words as not using tokenise.\n",
    "    \n",
    "file = file.split()\n",
    "len(file)"
   ]
  },
  {
   "cell_type": "markdown",
   "metadata": {},
   "source": [
    "We will now split up the 2000 words into 20 lists (documents) of 100 words each. We then use the frequency_dict function to generate our list_of_dicts, a list populated by 20 dictionaries with our random words and their corresponding frequencies."
   ]
  },
  {
   "cell_type": "code",
   "execution_count": 2,
   "metadata": {},
   "outputs": [
    {
     "name": "stdout",
     "output_type": "stream",
     "text": [
      "{'Adieus': 1, 'except': 1, 'say': 1, 'barton': 1, 'put': 1, 'feebly': 1, 'favour': 1, 'him': 2, 'Entreaties': 1, 'unpleasant': 1, 'sufficient': 1, 'few': 2, 'pianoforte': 1, 'discovered': 1, 'uncommonly': 1, 'ask': 1, 'Morning': 1, 'cousins': 1, 'amongst': 1, 'in': 1, 'mr': 1, 'weather': 1, 'do': 1, 'neither': 1, 'Warmth': 1, 'object': 1, 'matter': 1, 'course': 1, 'active': 2, 'law': 1, 'spring': 1, 'six': 2, 'Pursuit': 1, 'showing': 1, 'tedious': 1, 'unknown': 1, 'winding': 1, 'see': 1, 'had': 2, 'man': 1, 'add': 3, 'And': 1, 'park': 1, 'eyes': 1, 'too': 1, 'more': 1, 'Simple': 1, 'excuse': 2, 'son': 1, 'wholly': 1, 'coming': 1, 'number': 1, 'Though': 1, 'all': 1, 'ladies': 1, 'rather': 1, 'regard': 1, 'assure': 1, 'yet': 1, 'If': 1, 'feelings': 1, 'so': 1, 'prospect': 1, 'no': 1, 'as': 1, 'raptures': 1, 'quitting': 1, 'Betrayed': 1, 'cheerful': 1, 'declared': 1, 'end': 1, 'and': 1, 'Questions': 1, 'we': 1, 'additions': 1, 'is': 1, 'extremely': 1, 'incommode': 1, 'Next': 1, 'half': 1, 'call': 1, 'them': 1, 'eat': 1, 'face': 1, 'Age': 1, 'lived': 1, 'smile': 1, 'defer': 1, 'bed': 1, 'their': 1, 'Had': 1, 'admitting': 1}\n"
     ]
    }
   ],
   "source": [
    "wordlist = [file[x:x+100] for x in range(0, len(file), 100)] #Splitting up our 2000 words.\n",
    "\n",
    "def frequency(word_list):\n",
    "    dict_1={}\n",
    "    for word in word_list:\n",
    "        if word in dict_1:\n",
    "            dict_1[word]+=1\n",
    "        else:\n",
    "            dict_1[word]=1\n",
    "    return dict_1\n",
    "\n",
    "list_of_dicts=[]\n",
    "for chunk in wordlist:\n",
    "    list_of_dicts.append(frequency(chunk))\n",
    "#These lines of code generate a dictionary for each document with the words as the keys and the frequency of the word in each\n",
    "#document as the values.\n",
    "print(list_of_dicts[0])\n",
    "#This gives a sparse representation\n"
   ]
  },
  {
   "cell_type": "markdown",
   "metadata": {},
   "source": [
    "# Q1) Jaccard Similarity measure"
   ]
  },
  {
   "cell_type": "markdown",
   "metadata": {},
   "source": [
    "We are now going to try and find the worst case running time of the Jaccard similarity algorithm. We aim to find the time complexity of the algorithm, as well as the constant corresponding to this.\n",
    "\n",
    "The formula for the Jaccard measure is:\n",
    "\n",
    "$J(A,B) = {{|A \\cap B|}\\over{|A \\cup B|}} = {{|A \\cap B|}\\over{|A| + |B| - |A \\cap B|}}$\n",
    "\n",
    "Where $A \\cap B$ is the our intersection defined below and $|A| + |B| - |A \\cap B|$ is the union.\n",
    "\n",
    "The Jaccard measure is a statistic used in understanding the similarities between sample sets, or in our case, the similarities between documents represented as bag-of-words."
   ]
  },
  {
   "cell_type": "markdown",
   "metadata": {},
   "source": [
    "### Producing a function that computes Jaccard similarity between two documents"
   ]
  },
  {
   "cell_type": "code",
   "execution_count": 3,
   "metadata": {},
   "outputs": [
    {
     "data": {
      "text/plain": [
       "0.04712041884816754"
      ]
     },
     "execution_count": 3,
     "metadata": {},
     "output_type": "execute_result"
    }
   ],
   "source": [
    "def maketotal(dict1):\n",
    "    total=0 #This function allows us to calculate the total number of appearances in each document for each word.\n",
    "    for item in dict1:\n",
    "        total += dict1[item]\n",
    "    return total\n",
    "\n",
    "def jaccard(dict1,dict2):\n",
    "    intersection={}\n",
    "    for item in dict1.keys(): #Loop over all keys in the document, increasing time complexity. \n",
    "        if item in dict2.keys():\n",
    "            intersection[item]=min(dict1[item],dict2[item])\n",
    "            \n",
    "    intersectiontot=maketotal(intersection) #Finding the total number of intersected words and their frequencies.\n",
    "    union = maketotal(dict1)+maketotal(dict2)-intersectiontot\n",
    "    return intersectiontot/union\n",
    "\n",
    "jaccard(list_of_dicts[0], list_of_dicts[1]) #Calculating the similarity between our first 2 documents."
   ]
  },
  {
   "cell_type": "markdown",
   "metadata": {},
   "source": [
    "From inspecting the jaccard function above, I predict that the time complexity of this algorithm is $O(n)$ where $n$ is the length of dict1. This is mainly due to the fact that there is a for loop over dict1, meaning that every value in dict1 must be looked over by the computer during the algorithms run time."
   ]
  },
  {
   "cell_type": "markdown",
   "metadata": {},
   "source": [
    "We now construct our timeit function with the use of the time module. This will allow us to record the run-time of the algorithms that we will be using throughout this project."
   ]
  },
  {
   "cell_type": "code",
   "execution_count": 4,
   "metadata": {},
   "outputs": [],
   "source": [
    "import time\n",
    "def timeit(somefunc,*args,repeats=1000,**kwargs):\n",
    "    times=[]\n",
    "  \n",
    "    while repeats>0:\n",
    "        starttime=time.time()\n",
    "        ans=somefunc(*args,**kwargs)\n",
    "        endtime=time.time()\n",
    "        timetaken=endtime-starttime\n",
    "        times.append(timetaken)\n",
    "        repeats-=1\n",
    "    \n",
    "    mean=np.mean(times)\n",
    "    stdev=np.std(times)\n",
    "    error=stdev/(len(times)**0.5)\n",
    " \n",
    "    return ans, mean, error"
   ]
  },
  {
   "cell_type": "markdown",
   "metadata": {},
   "source": [
    "We now create a function named collate. This function automatically increasingly collates our documents, returning a large list of lists (collated_dicts) that contain increasingly larger pairs of dictionaries that are made up of our documents. For example, the first list contains a dictionary populated by our first document and another dictionary populated by our last document. The second list then contains a dictionary of the first and second documents and another dictionary of the second last and last document. This process is repeated up until the last list which contains a dictionary populated by the first ten documents and another dictionary containing the last ten documents. \n",
    "\n",
    "The motivaiton for producing this function is so that we can test how long it takes our following algorithms to perform as their inputs increases. This is also known as testing the worst case running time for a certain algorithm."
   ]
  },
  {
   "cell_type": "markdown",
   "metadata": {},
   "source": [
    "### Manipulating our documents to be of increasing size"
   ]
  },
  {
   "cell_type": "code",
   "execution_count": 5,
   "metadata": {},
   "outputs": [
    {
     "name": "stdout",
     "output_type": "stream",
     "text": [
      "[{'Adieus': 1, 'except': 1, 'say': 1, 'barton': 1, 'put': 1, 'feebly': 1, 'favour': 1, 'him': 2, 'Entreaties': 1, 'unpleasant': 1, 'sufficient': 1, 'few': 2, 'pianoforte': 1, 'discovered': 1, 'uncommonly': 1, 'ask': 1, 'Morning': 1, 'cousins': 1, 'amongst': 1, 'in': 1, 'mr': 1, 'weather': 1, 'do': 1, 'neither': 1, 'Warmth': 1, 'object': 1, 'matter': 1, 'course': 1, 'active': 2, 'law': 1, 'spring': 1, 'six': 2, 'Pursuit': 1, 'showing': 1, 'tedious': 1, 'unknown': 1, 'winding': 1, 'see': 1, 'had': 2, 'man': 1, 'add': 3, 'And': 1, 'park': 1, 'eyes': 1, 'too': 1, 'more': 1, 'Simple': 1, 'excuse': 2, 'son': 1, 'wholly': 1, 'coming': 1, 'number': 1, 'Though': 1, 'all': 1, 'ladies': 1, 'rather': 1, 'regard': 1, 'assure': 1, 'yet': 1, 'If': 1, 'feelings': 1, 'so': 1, 'prospect': 1, 'no': 1, 'as': 1, 'raptures': 1, 'quitting': 1, 'Betrayed': 1, 'cheerful': 1, 'declared': 1, 'end': 1, 'and': 1, 'Questions': 1, 'we': 1, 'additions': 1, 'is': 1, 'extremely': 1, 'incommode': 1, 'Next': 1, 'half': 1, 'call': 1, 'them': 1, 'eat': 1, 'face': 1, 'Age': 1, 'lived': 1, 'smile': 1, 'defer': 1, 'bed': 1, 'their': 1, 'Had': 1, 'admitting': 1}, {'Supposing': 1, 'exquisite': 1, 'daughters': 1, 'eagerness': 1, 'why': 1, 'repulsive': 1, 'for': 1, 'Praise': 1, 'turned': 1, 'it': 5, 'lovers': 1, 'be': 3, 'warmly': 1, 'by': 1, 'Little': 1, 'do': 1, 'eldest': 1, 'former': 1, 'if': 1, 'Had': 1, 'denoting': 1, 'properly': 1, 'jointure': 1, 'you': 1, 'occasion': 1, 'directly': 1, 'raillery': 1, 'In': 1, 'said': 1, 'to': 2, 'of': 1, 'poor': 1, 'full': 1, 'post': 1, 'face': 1, 'snug': 1, 'Introduced': 1, 'imprudence': 1, 'see': 1, 'say': 1, 'unpleasing': 1, 'devonshire': 1, 'acceptance': 1, 'son': 1, 'Exeter': 1, 'longer': 1, 'wisdom': 1, 'gay': 1, 'nor': 1, 'design': 1, 'age': 1, 'Am': 1, 'weather': 1, 'entered': 1, 'norland': 1, 'no': 3, 'in': 1, 'showing': 1, 'service': 1, 'Nor': 1, 'repeated': 1, 'speaking': 1, 'shy': 1, 'appetite': 1, 'Excited': 1, 'hastily': 1, 'an': 3, 'pasture': 1, 'observe': 1, 'Snug': 1, 'hand': 1, 'how': 1, 'dare': 1, 'here': 1, 'too': 1, 'Still': 1, 'court': 1, 'small': 1, 'think': 1, 'death': 1, 'so': 1, 'wrote': 1, 'Incommode': 1, 'necessary': 1, 'behaviour': 1, 'convinced': 1, 'distrusts': 1, 'unfeeling': 1, 'he': 1}]\n"
     ]
    }
   ],
   "source": [
    "import matplotlib.pyplot as plt \n",
    "def collate(dicts):\n",
    "    x = [] #Start with an empty list\n",
    "    temp = dicts[0]\n",
    "    temp2 = dicts[19]\n",
    "    x.append([temp, temp2])\n",
    "    for i in range(1,10): #Loop over 10 times so that our last list consists of two dictionaries each containing 10 documents.\n",
    "        temp = {**temp, **dicts[i]} #This operation collates dictionaries directly.\n",
    "        temp2 = {**temp2, **dicts[19-i]}\n",
    "        a = [temp,temp2]\n",
    "        x.append(a)\n",
    "    return x   \n",
    "collated_dicts = collate(list_of_dicts)\n",
    "print(collated_dicts[0])"
   ]
  },
  {
   "cell_type": "markdown",
   "metadata": {},
   "source": [
    "Now we are going to use our collated_dicts list to see how the time it takes for the Jaccard measure to run increases with the number of words (in the form of documents) that it takes as input. "
   ]
  },
  {
   "cell_type": "markdown",
   "metadata": {},
   "source": [
    "### Computing Jaccard similarity and finding worst-case running time"
   ]
  },
  {
   "cell_type": "code",
   "execution_count": 6,
   "metadata": {
    "scrolled": true
   },
   "outputs": [
    {
     "name": "stdout",
     "output_type": "stream",
     "text": [
      "Times: \n",
      "[4.099917411804199e-05, 8.197045326232911e-05, 0.00011205482482910157, 0.00015900039672851562, 0.0001899263858795166, 0.00021600031852722168, 0.00026901769638061526, 0.00030000519752502444, 0.00033299899101257326, 0.00036300468444824217]\n"
     ]
    },
    {
     "data": {
      "image/png": "[encoded data removed]",
      "text/plain": [
       "<Figure size 432x288 with 1 Axes>"
      ]
     },
     "metadata": {
      "needs_background": "light"
     },
     "output_type": "display_data"
    }
   ],
   "source": [
    "x_values = []\n",
    "for n in range(100,1100,100):\n",
    "    x_values.append(n) #This for loop produces our x-axis which is the number of words in each collated document.\n",
    "\n",
    "y_values = []\n",
    "for i in range(0,10):\n",
    "    first = collated_dicts[i][0]\n",
    "    second = collated_dicts[i][1]\n",
    "    (ans, mean,error) = timeit(jaccard, first, second) #Taking the Jaccard between two increasingly large values.\n",
    "    y_values.append(mean)\n",
    "    \n",
    "print(\"Times: \\n{}\".format(y_values))\n",
    "\n",
    "z = np.polyfit(x_values, y_values, 1)\n",
    "p = np.poly1d(z) #Plotting a linear regression on top of our scatter graph for aesthetic reasons.\n",
    "plt.plot(x_values, p(x_values))\n",
    "\n",
    "\n",
    "plt.scatter(x_values, y_values)\n",
    "plt.xlim(0,1100)\n",
    "plt.xlabel(\"Number of words\") #Plotting our produced values.\n",
    "plt.ylabel(\"Average time to compute Jaccard\")\n",
    "plt.title(\"Worst case running time of Jaccard similarity\")\n",
    "plt.show()"
   ]
  },
  {
   "cell_type": "markdown",
   "metadata": {},
   "source": [
    "### Estimating the time complexity of the Jaccard measure"
   ]
  },
  {
   "cell_type": "markdown",
   "metadata": {},
   "source": [
    "It is clear that there seems to be a very linear relationship between the number of words that the Jaccard algorithm has to calculate the similarity between (in their respective documents) and the time it takes to do so. This result supports our previous claim that the Jaccard algorithm runs in $O(n)$.\n",
    "\n",
    "We now verify this claim emperically by taking $y = c_ax^n$. We can manipulate this equation with logarithms to produce:\n",
    "\n",
    "$log(y) = log(c_a) + nlog(x)$. If we plot $log(y)$ against $log(x)$, the gradient will give the $n$ value which we hope will be 1. The y intercept will also be $log(c_a)$. The logarithms we take are in base 10 so we can then take 10 to the power of our produced intercept value to give us our $c_a$ value."
   ]
  },
  {
   "cell_type": "code",
   "execution_count": 7,
   "metadata": {},
   "outputs": [
    {
     "data": {
      "image/png": "[encoded data removed]",
      "text/plain": [
       "<Figure size 432x288 with 1 Axes>"
      ]
     },
     "metadata": {
      "needs_background": "light"
     },
     "output_type": "display_data"
    },
    {
     "name": "stdout",
     "output_type": "stream",
     "text": [
      "Intercept: -6.282100742619131, Slope: 0.9488252240825855\n",
      "C_a: 5.222750236170996e-07\n"
     ]
    }
   ],
   "source": [
    "logxs=[np.log10(x) for x in x_values] #Taking the log of both our x and y values in their respective lists.\n",
    "logys=[np.log10(y) for y in y_values]\n",
    "plt.scatter(logxs,logys)\n",
    "plt.xlabel(\"Log number of dictionary keys\")\n",
    "plt.ylabel(\"Log of average time to compute Jaccard\")\n",
    "plt.title(\"Worst case running time of Jaccard similarity\")\n",
    "plt.show()\n",
    "slope, intercept = np.polyfit(logxs, logys, 1)\n",
    "print(\"Intercept: {}, Slope: {}\".format(intercept, slope))\n",
    "constant = 10**intercept\n",
    "print(\"C_a: {}\".format(constant))"
   ]
  },
  {
   "cell_type": "markdown",
   "metadata": {},
   "source": [
    "Our slope ranges from around 0.9-1.0, meaning that $n$ is close to our predicted value of 1, a completely linear relationship. Our constant is also very small as expected."
   ]
  },
  {
   "cell_type": "markdown",
   "metadata": {},
   "source": [
    "# Q2) Cosine similarity measure (dense representation)"
   ]
  },
  {
   "cell_type": "markdown",
   "metadata": {},
   "source": [
    "We now aim to do the same for the cosine similarity measure. The cosine similarity is a more geometric approach to computing similarity measures when compared to the Jaccard implementation. This is because the cosine of the angle between the two inputs is computed. The formula for the cosine similarity is:\n",
    "\n",
    "${\\displaystyle {\\text{similarity}}=\\cos(\\theta )={\\mathbf {A} \\cdot \\mathbf {B}  \\over \\|\\mathbf {A} \\|\\|\\mathbf {B} \\|}={\\frac {\\sum \\limits _{i=1}^{n}{A_{i}B_{i}}}{{\\sqrt {\\sum \\limits _{i=1}^{n}{A_{i}^{2}}}}{\\sqrt {\\sum \\limits _{i=1}^{n}{B_{i}^{2}}}}}},}$\n",
    "\n",
    "To start computing this, we need to first produce a characteristic matrix that corresponds to our input, which in this case will be our large list of lists named list_of_dicts. We then transpose this matrix to produce our vectors A and B which then be fed into the cosine function below."
   ]
  },
  {
   "cell_type": "markdown",
   "metadata": {},
   "source": [
    "### Producing the cosine function"
   ]
  },
  {
   "cell_type": "code",
   "execution_count": 8,
   "metadata": {},
   "outputs": [],
   "source": [
    "import math\n",
    "def make_matrix(list_of_dicts):\n",
    "    allfeatures={}    \n",
    "    for docdict in list_of_dicts:\n",
    "        for feat in docdict.keys():\n",
    "            allfeatures[feat]=1\n",
    "    \n",
    "    dimensions=list(allfeatures.keys())\n",
    "    #Sorting for reproducibility\n",
    "    sorted(dimensions)\n",
    "    \n",
    "    matrix=[]\n",
    "    #each row in the matrix correlates to a dimension\n",
    "    for dimension in dimensions:\n",
    "        row=[]\n",
    "        for docdict in list_of_dicts:\n",
    "            row.append(docdict.get(dimension,0)) #Append the document's value if present, 0 otherwise\n",
    "        matrix.append(row)\n",
    "        \n",
    "        \n",
    "    return matrix"
   ]
  },
  {
   "cell_type": "code",
   "execution_count": 9,
   "metadata": {},
   "outputs": [
    {
     "name": "stdout",
     "output_type": "stream",
     "text": [
      "Characteristic matrix of our documents:\n",
      "[[1, 0, 0, 0, 0, 0, 0, 0, 0, 0, 0, 0, 0, 0, 0, 0, 0, 0, 0, 0], [1, 0, 0, 0, 0, 0, 0, 0, 0, 0, 0, 0, 0, 0, 0, 1, 0, 0, 0, 0], [1, 0, 0, 0, 0, 0, 0, 0, 0, 1, 0, 0, 0, 0, 1, 1, 0, 1, 0, 1], [1, 0, 0, 0, 0, 0, 0, 0, 0, 0, 0, 0, 0, 0, 0, 0, 0, 0, 0, 0], [1, 0, 0, 0, 0, 0, 0, 0, 0, 0, 1, 1, 1, 1, 0, 1, 0, 0, 1, 0], [1, 0, 0, 1, 0, 0, 0, 0, 0, 0, 0, 0, 0, 0, 0, 0, 1, 0, 0, 0], [1, 0, 0, 0, 0, 0, 0, 0, 0, 0, 0, 0, 0, 0, 0, 1, 0, 0, 0, 0], [2, 1, 0, 1, 0, 0, 1, 1, 1, 1, 0, 0, 0, 0, 0, 1, 0, 0, 1, 0], [1, 0, 0, 0, 0, 0, 0, 0, 0, 0, 0, 0, 0, 0, 1, 0, 0, 0, 0, 0], [1, 0, 0, 0, 0, 0, 0, 0, 0, 0, 0, 0, 0, 1, 0, 0, 0, 0, 0, 0], [1, 0, 0, 0, 0, 1, 0, 0, 1, 0, 0, 0, 1, 0, 0, 0, 0, 0, 1, 0], [2, 0, 0, 1, 0, 1, 0, 0, 0, 0, 0, 0, 0, 1, 0, 0, 0, 0, 0, 0], [1, 0, 0, 0, 0, 0, 0, 0, 0, 0, 0, 1, 0, 0, 0, 0, 0, 0, 0, 0], [1, 0, 0, 0, 0, 0, 0, 0, 0, 0, 0, 0, 0, 0, 0, 0, 0, 0, 0, 0], [1, 0, 0, 0, 0, 0, 0, 0, 0, 1, 0, 0, 0, 0, 0, 0, 0, 0, 0, 0], [1, 0, 0, 0, 0, 0, 0, 0, 0, 2, 1, 0, 0, 1, 0, 0, 0, 0, 0, 0], [1, 0, 0, 0, 0, 0, 0, 0, 0, 0, 0, 0, 0, 0, 0, 0, 0, 0, 0, 0], [1, 0, 0, 0, 0, 0, 0, 0, 0, 0, 0, 0, 0, 1, 0, 0, 0, 0, 0, 0], [1, 0, 0, 0, 0, 0, 0, 0, 0, 0, 0, 0, 0, 0, 0, 0, 0, 0, 0, 0], [1, 1, 1, 1, 1, 1, 2, 1, 3, 2, 3, 1, 1, 3, 0, 1, 1, 2, 1, 1], [1, 0, 2, 0, 2, 1, 0, 1, 1, 0, 0, 1, 0, 0, 2, 0, 1, 0, 0, 0], [1, 0, 0, 0, 0, 0, 0, 0, 0, 0, 0, 0, 0, 0, 0, 0, 0, 0, 0, 1], [1, 2, 1, 2, 1, 1, 0, 1, 1, 2, 1, 1, 0, 2, 1, 1, 2, 1, 1, 1], [1, 0, 0, 0, 0, 0, 0, 1, 0, 0, 0, 0, 0, 0, 0, 0, 0, 0, 0, 0], [1, 0, 0, 0, 0, 0, 0, 0, 0, 0, 0, 0, 0, 0, 0, 0, 0, 0, 0, 0], [1, 0, 0, 0, 0, 0, 0, 0, 0, 0, 1, 0, 0, 0, 0, 0, 0, 0, 0, 0], [1, 0, 0, 0, 0, 0, 0, 0, 0, 0, 0, 0, 0, 0, 0, 0, 0, 0, 0, 0], [1, 0, 0, 0, 0, 0, 0, 0, 0, 0, 0, 0, 0, 0, 0, 0, 0, 0, 0, 0], [2, 0, 0, 0, 0, 0, 0, 0, 0, 0, 0, 0, 0, 0, 0, 0, 0, 0, 0, 0], [1, 0, 0, 0, 0, 0, 1, 0, 0, 0, 0, 1, 0, 0, 0, 2, 0, 1, 0, 0], [1, 0, 0, 0, 0, 0, 1, 0, 0, 0, 0, 0, 0, 0, 1, 0, 0, 0, 0, 0], [2, 0, 0, 0, 0, 0, 0, 0, 0, 0, 0, 0, 0, 0, 0, 1, 0, 0, 1, 0], [1, 0, 0, 0, 0, 0, 0, 0, 0, 0, 0, 0, 0, 0, 0, 0, 0, 0, 0, 0], [1, 0, 0, 0, 0, 0, 0, 0, 0, 0, 0, 0, 0, 0, 0, 0, 0, 0, 0, 1], [1, 0, 0, 0, 0, 0, 0, 0, 0, 0, 0, 0, 0, 0, 0, 0, 0, 0, 0, 0], [1, 0, 0, 0, 0, 1, 0, 0, 0, 0, 0, 0, 0, 0, 0, 0, 0, 0, 0, 0], [1, 0, 0, 0, 0, 0, 0, 0, 0, 0, 0, 0, 1, 0, 0, 0, 0, 0, 1, 0], [1, 0, 0, 0, 0, 1, 1, 0, 1, 0, 0, 0, 0, 0, 0, 0, 0, 0, 2, 1], [2, 0, 0, 0, 1, 0, 0, 0, 0, 0, 1, 1, 0, 1, 0, 0, 0, 1, 0, 0], [1, 0, 0, 0, 0, 0, 0, 0, 0, 0, 0, 1, 1, 0, 0, 0, 1, 0, 0, 0], [3, 0, 0, 0, 0, 0, 1, 0, 1, 1, 0, 1, 2, 0, 1, 0, 1, 0, 0, 0], [1, 0, 0, 0, 0, 0, 0, 0, 1, 1, 0, 0, 0, 0, 0, 0, 0, 0, 0, 0], [1, 0, 0, 0, 0, 1, 0, 0, 0, 0, 0, 0, 0, 0, 0, 0, 0, 0, 0, 0], [1, 0, 0, 0, 0, 0, 0, 0, 0, 0, 0, 0, 0, 0, 0, 0, 1, 0, 0, 0], [1, 1, 0, 1, 0, 0, 0, 0, 0, 0, 1, 1, 0, 0, 0, 0, 0, 0, 0, 1], [1, 0, 0, 0, 0, 0, 0, 0, 0, 0, 0, 0, 0, 0, 0, 0, 0, 0, 0, 0], [1, 0, 0, 0, 0, 0, 0, 0, 0, 0, 0, 0, 0, 0, 0, 0, 0, 0, 0, 0], [2, 0, 1, 0, 0, 0, 0, 0, 0, 0, 0, 0, 0, 0, 0, 0, 0, 0, 1, 0], [1, 0, 0, 0, 0, 1, 1, 0, 0, 0, 0, 0, 1, 0, 0, 1, 0, 0, 1, 1], [1, 0, 0, 0, 0, 0, 0, 0, 0, 0, 0, 0, 0, 0, 0, 0, 0, 0, 0, 0], [1, 0, 0, 0, 0, 0, 0, 0, 0, 0, 1, 0, 0, 0, 0, 0, 0, 0, 0, 0], [1, 0, 0, 0, 0, 0, 0, 0, 0, 0, 0, 0, 0, 0, 0, 0, 0, 0, 0, 0], [1, 0, 0, 0, 0, 0, 0, 0, 0, 0, 0, 0, 0, 0, 0, 0, 0, 0, 0, 0], [1, 1, 0, 0, 0, 0, 0, 0, 0, 1, 1, 0, 0, 0, 0, 0, 0, 0, 0, 0], [1, 0, 0, 1, 0, 0, 0, 0, 0, 1, 0, 0, 0, 0, 0, 0, 0, 0, 0, 0], [1, 0, 0, 0, 0, 0, 0, 0, 0, 0, 0, 0, 0, 0, 0, 0, 0, 0, 0, 0], [1, 0, 0, 0, 0, 0, 0, 0, 0, 0, 0, 0, 0, 0, 0, 0, 0, 0, 0, 0], [1, 0, 0, 0, 0, 0, 0, 0, 0, 0, 0, 1, 0, 0, 0, 0, 0, 0, 0, 0], [1, 0, 0, 0, 0, 1, 1, 0, 0, 0, 0, 1, 0, 0, 0, 0, 0, 0, 1, 0], [1, 2, 0, 0, 0, 0, 0, 1, 0, 0, 0, 0, 0, 0, 0, 0, 0, 0, 0, 0], [1, 0, 0, 0, 0, 0, 0, 0, 0, 0, 0, 0, 0, 0, 0, 0, 0, 0, 0, 0], [1, 2, 0, 0, 0, 3, 1, 0, 3, 1, 0, 2, 2, 0, 0, 0, 1, 1, 0, 1], [1, 0, 0, 0, 0, 0, 0, 2, 0, 0, 0, 0, 0, 0, 0, 0, 0, 0, 0, 0], [1, 0, 1, 1, 1, 2, 1, 1, 1, 1, 0, 0, 0, 0, 2, 1, 2, 1, 0, 3], [1, 0, 1, 0, 3, 1, 0, 1, 3, 3, 0, 1, 0, 2, 0, 0, 1, 4, 1, 0], [1, 0, 0, 0, 0, 0, 0, 0, 0, 0, 0, 1, 0, 0, 0, 0, 0, 0, 0, 0], [1, 0, 0, 0, 0, 0, 0, 0, 0, 0, 0, 0, 0, 0, 0, 0, 0, 0, 0, 0], [1, 0, 0, 0, 0, 0, 0, 0, 0, 0, 0, 0, 0, 0, 0, 0, 0, 0, 0, 0], [1, 0, 0, 0, 0, 1, 0, 0, 0, 0, 0, 0, 0, 0, 0, 0, 0, 0, 0, 0], [1, 0, 0, 0, 0, 0, 1, 1, 0, 0, 0, 0, 0, 0, 0, 0, 0, 1, 0, 0], [1, 0, 0, 0, 0, 0, 0, 1, 1, 0, 0, 1, 0, 0, 2, 0, 0, 0, 0, 0], [1, 0, 1, 1, 1, 0, 0, 2, 0, 0, 2, 0, 1, 0, 0, 0, 0, 0, 1, 0], [1, 0, 0, 0, 0, 0, 0, 0, 0, 0, 0, 0, 0, 0, 0, 0, 0, 0, 0, 0], [1, 1, 0, 1, 0, 1, 0, 1, 0, 0, 1, 0, 1, 2, 0, 0, 1, 0, 1, 0], [1, 0, 0, 0, 0, 0, 0, 0, 0, 1, 0, 0, 0, 0, 1, 0, 0, 1, 1, 0], [1, 1, 1, 0, 1, 0, 1, 2, 0, 0, 1, 2, 0, 3, 0, 0, 2, 0, 1, 0], [1, 0, 0, 0, 0, 0, 0, 0, 0, 0, 0, 0, 0, 0, 0, 0, 0, 0, 0, 0], [1, 0, 0, 0, 0, 0, 0, 0, 0, 0, 0, 0, 0, 0, 0, 0, 1, 0, 0, 0], [1, 0, 0, 0, 0, 0, 0, 0, 0, 0, 1, 0, 0, 0, 0, 0, 0, 0, 0, 0], [1, 0, 0, 0, 0, 0, 0, 0, 0, 0, 0, 0, 0, 0, 0, 0, 0, 0, 0, 0], [1, 0, 0, 0, 0, 0, 0, 0, 0, 0, 0, 0, 0, 0, 0, 0, 0, 0, 0, 0], [1, 0, 0, 0, 0, 0, 0, 0, 0, 0, 0, 0, 0, 0, 0, 0, 0, 0, 0, 0], [1, 0, 0, 0, 0, 0, 0, 0, 0, 0, 0, 0, 0, 0, 0, 0, 0, 0, 0, 0], [1, 0, 0, 0, 0, 0, 0, 0, 0, 0, 0, 0, 0, 0, 0, 0, 1, 0, 0, 1], [1, 0, 0, 0, 0, 0, 0, 0, 0, 0, 0, 0, 0, 0, 0, 0, 0, 0, 0, 0], [1, 0, 0, 0, 0, 0, 0, 0, 0, 0, 0, 0, 0, 0, 0, 0, 0, 0, 0, 0], [1, 0, 0, 0, 0, 0, 0, 0, 0, 0, 0, 0, 0, 0, 0, 0, 0, 0, 0, 0], [1, 0, 0, 0, 0, 0, 0, 0, 0, 0, 0, 0, 0, 0, 0, 0, 0, 0, 0, 0], [1, 0, 0, 0, 0, 0, 0, 0, 0, 0, 1, 1, 0, 0, 0, 0, 0, 0, 1, 0], [1, 0, 0, 0, 0, 0, 0, 2, 0, 0, 0, 0, 0, 0, 0, 0, 0, 1, 0, 0], [1, 0, 0, 0, 0, 0, 0, 0, 0, 0, 0, 1, 0, 0, 0, 0, 0, 0, 0, 1], [1, 0, 0, 0, 0, 0, 0, 0, 0, 1, 2, 0, 1, 0, 0, 0, 0, 0, 0, 0], [0, 1, 0, 0, 0, 1, 0, 0, 0, 0, 0, 0, 0, 0, 0, 0, 0, 0, 0, 0], [0, 1, 0, 0, 0, 0, 0, 1, 0, 0, 0, 0, 0, 0, 0, 0, 0, 0, 0, 1], [0, 1, 0, 0, 1, 0, 0, 0, 1, 1, 0, 0, 1, 0, 0, 0, 1, 0, 1, 0], [0, 1, 0, 0, 0, 1, 1, 0, 0, 0, 0, 0, 0, 0, 0, 0, 0, 0, 0, 0], [0, 1, 0, 0, 0, 0, 0, 0, 0, 0, 1, 0, 0, 0, 0, 0, 0, 0, 0, 1], [0, 4, 2, 1, 1, 0, 0, 0, 1, 0, 1, 0, 1, 4, 0, 0, 0, 1, 0, 2], [0, 3, 1, 2, 1, 1, 0, 1, 0, 1, 0, 1, 2, 0, 0, 0, 1, 0, 0, 0], [0, 1, 0, 0, 0, 0, 0, 0, 1, 0, 0, 0, 0, 0, 0, 0, 0, 0, 0, 0], [0, 1, 0, 0, 0, 0, 0, 0, 0, 0, 0, 0, 0, 0, 0, 0, 0, 0, 0, 0], [0, 1, 0, 0, 0, 0, 0, 0, 0, 0, 0, 0, 0, 0, 0, 0, 0, 0, 0, 0], [0, 1, 0, 0, 0, 0, 0, 0, 0, 0, 1, 0, 0, 0, 0, 0, 0, 0, 0, 0], [0, 1, 0, 0, 0, 0, 0, 0, 0, 0, 0, 0, 0, 0, 0, 0, 0, 0, 0, 0], [0, 1, 0, 0, 0, 0, 0, 0, 0, 0, 1, 0, 0, 0, 0, 0, 0, 0, 0, 1], [0, 1, 0, 0, 0, 0, 0, 0, 0, 0, 0, 0, 0, 0, 1, 0, 0, 0, 0, 0], [0, 1, 0, 0, 0, 0, 0, 0, 0, 0, 0, 0, 0, 0, 0, 0, 0, 0, 0, 0], [0, 3, 2, 4, 3, 3, 4, 0, 1, 0, 1, 2, 3, 3, 0, 3, 3, 4, 0, 1], [0, 1, 0, 0, 0, 0, 0, 0, 0, 0, 0, 0, 0, 1, 0, 0, 0, 0, 0, 0], [0, 1, 0, 0, 0, 0, 0, 0, 0, 0, 0, 0, 0, 0, 0, 0, 0, 0, 0, 0], [0, 1, 0, 0, 0, 0, 0, 0, 0, 0, 0, 0, 0, 0, 0, 0, 0, 0, 0, 0], [0, 1, 0, 0, 0, 0, 1, 0, 0, 0, 0, 0, 0, 0, 0, 0, 0, 0, 0, 0], [0, 1, 2, 0, 0, 1, 0, 0, 0, 0, 0, 1, 0, 0, 1, 0, 1, 0, 0, 0], [0, 1, 0, 0, 0, 0, 0, 0, 0, 0, 0, 0, 0, 0, 0, 0, 0, 0, 0, 0], [0, 1, 0, 1, 1, 0, 1, 0, 1, 1, 0, 0, 1, 0, 2, 1, 0, 1, 0, 0], [0, 1, 0, 0, 0, 0, 0, 0, 0, 0, 0, 0, 0, 0, 0, 0, 0, 0, 0, 0], [0, 1, 0, 0, 0, 1, 0, 0, 0, 0, 0, 0, 0, 0, 0, 0, 1, 0, 0, 0], [0, 1, 0, 0, 0, 0, 1, 0, 0, 0, 0, 0, 0, 0, 0, 0, 0, 0, 0, 0], [0, 1, 0, 0, 0, 0, 0, 0, 0, 0, 0, 0, 0, 0, 0, 0, 0, 0, 0, 0], [0, 1, 0, 0, 0, 0, 0, 0, 0, 0, 0, 0, 0, 0, 0, 0, 0, 0, 0, 0], [0, 1, 0, 0, 0, 0, 0, 0, 0, 0, 0, 0, 0, 0, 0, 0, 0, 0, 0, 0], [0, 1, 0, 0, 0, 0, 0, 0, 0, 0, 0, 0, 0, 0, 0, 0, 0, 0, 0, 0], [0, 1, 0, 0, 1, 0, 0, 0, 0, 0, 0, 0, 0, 0, 1, 0, 0, 0, 0, 0], [0, 1, 0, 0, 1, 0, 0, 0, 0, 0, 0, 0, 0, 0, 0, 0, 0, 0, 0, 1], [0, 1, 0, 0, 0, 0, 0, 1, 0, 0, 0, 0, 0, 0, 0, 0, 0, 0, 0, 0], [0, 1, 0, 0, 0, 0, 0, 1, 0, 0, 0, 0, 0, 0, 0, 0, 0, 0, 0, 0], [0, 1, 1, 1, 0, 1, 0, 0, 0, 0, 1, 0, 0, 0, 0, 0, 0, 0, 0, 0], [0, 1, 0, 0, 0, 0, 0, 0, 0, 0, 0, 0, 0, 0, 0, 0, 0, 0, 1, 0], [0, 1, 0, 0, 0, 0, 0, 0, 0, 0, 0, 0, 0, 0, 0, 0, 0, 0, 0, 0], [0, 1, 0, 1, 0, 0, 1, 0, 0, 0, 1, 0, 1, 0, 0, 0, 0, 0, 0, 0], [0, 1, 0, 0, 0, 0, 0, 0, 0, 1, 0, 0, 0, 0, 0, 0, 0, 0, 0, 0], [0, 1, 0, 0, 0, 0, 1, 0, 0, 0, 1, 0, 0, 0, 1, 0, 0, 0, 1, 0], [0, 1, 0, 0, 0, 0, 0, 0, 0, 0, 0, 0, 0, 0, 0, 0, 0, 0, 0, 0], [0, 1, 1, 0, 0, 0, 0, 0, 1, 0, 0, 0, 0, 0, 0, 0, 1, 0, 0, 1], [0, 1, 0, 0, 0, 0, 0, 0, 0, 0, 0, 0, 1, 0, 0, 0, 0, 0, 0, 0], [0, 1, 1, 0, 0, 0, 0, 0, 0, 1, 0, 0, 0, 0, 0, 0, 0, 1, 0, 0], [0, 1, 0, 1, 0, 0, 0, 0, 0, 1, 1, 1, 2, 0, 0, 0, 0, 0, 0, 0], [0, 1, 0, 0, 0, 0, 0, 0, 0, 0, 0, 0, 0, 0, 0, 1, 0, 0, 0, 0], [0, 1, 0, 0, 0, 0, 0, 0, 0, 0, 0, 0, 0, 1, 0, 0, 0, 0, 0, 0], [0, 2, 0, 0, 0, 0, 0, 0, 0, 0, 0, 0, 0, 0, 0, 0, 0, 0, 0, 0], [0, 1, 0, 1, 0, 1, 0, 0, 0, 0, 0, 0, 0, 0, 0, 0, 0, 0, 0, 0], [0, 1, 0, 0, 0, 0, 0, 0, 0, 0, 0, 0, 0, 0, 0, 1, 0, 0, 1, 0], [0, 1, 0, 0, 0, 0, 0, 0, 0, 0, 0, 0, 0, 0, 0, 0, 0, 0, 0, 0], [0, 1, 0, 0, 0, 0, 0, 0, 0, 1, 0, 0, 0, 0, 0, 0, 0, 0, 1, 0], [0, 1, 0, 0, 0, 0, 0, 0, 0, 0, 0, 0, 0, 0, 0, 0, 0, 0, 0, 0], [0, 1, 0, 0, 0, 0, 0, 0, 0, 0, 0, 0, 0, 0, 0, 0, 0, 0, 0, 0], [0, 2, 3, 3, 1, 0, 1, 0, 2, 0, 0, 0, 0, 0, 0, 1, 1, 1, 1, 1], [0, 1, 0, 0, 0, 0, 0, 0, 0, 0, 0, 1, 0, 0, 0, 0, 0, 0, 0, 0], [0, 1, 0, 0, 0, 0, 0, 0, 0, 0, 0, 0, 0, 0, 0, 0, 0, 0, 0, 0], [0, 1, 0, 0, 0, 0, 0, 0, 0, 0, 0, 0, 0, 0, 0, 0, 0, 0, 0, 0], [0, 1, 0, 0, 0, 1, 0, 0, 0, 0, 0, 0, 0, 1, 0, 0, 0, 0, 0, 0], [0, 1, 0, 0, 1, 0, 0, 0, 0, 0, 0, 0, 0, 0, 0, 0, 0, 0, 0, 0], [0, 1, 0, 0, 0, 0, 0, 0, 0, 0, 0, 0, 1, 0, 0, 0, 0, 0, 0, 0], [0, 1, 0, 0, 1, 0, 1, 0, 0, 0, 0, 0, 0, 0, 0, 0, 0, 0, 0, 0], [0, 1, 0, 0, 0, 0, 0, 0, 0, 0, 0, 0, 0, 0, 0, 0, 0, 0, 0, 0], [0, 1, 0, 0, 0, 0, 0, 0, 0, 0, 0, 1, 0, 0, 0, 0, 0, 0, 0, 0], [0, 1, 2, 0, 1, 2, 2, 4, 0, 0, 1, 1, 0, 1, 0, 2, 2, 0, 0, 3], [0, 1, 0, 0, 0, 0, 0, 0, 0, 0, 0, 0, 0, 0, 0, 0, 0, 0, 0, 0], [0, 1, 0, 0, 0, 0, 0, 0, 0, 1, 0, 0, 0, 0, 0, 0, 0, 0, 0, 0], [0, 1, 0, 0, 0, 0, 0, 0, 0, 0, 0, 0, 0, 0, 0, 0, 0, 0, 0, 0], [0, 1, 0, 0, 0, 0, 0, 0, 0, 0, 0, 0, 0, 0, 0, 0, 0, 0, 0, 0], [0, 1, 0, 0, 0, 0, 1, 1, 0, 0, 0, 1, 0, 1, 1, 0, 0, 1, 0, 0], [0, 1, 0, 0, 0, 0, 0, 0, 0, 0, 1, 0, 0, 0, 0, 0, 0, 0, 0, 0], [0, 1, 0, 0, 1, 0, 0, 0, 0, 0, 0, 0, 0, 0, 0, 0, 0, 0, 0, 0], [0, 1, 0, 0, 0, 0, 0, 0, 0, 0, 0, 0, 0, 0, 0, 0, 0, 0, 0, 0], [0, 1, 0, 1, 0, 0, 0, 0, 0, 0, 0, 1, 0, 0, 0, 0, 0, 0, 1, 0], [0, 1, 0, 0, 0, 0, 0, 1, 2, 0, 0, 2, 0, 1, 0, 2, 0, 1, 0, 0], [0, 1, 0, 0, 0, 0, 0, 0, 0, 0, 0, 0, 0, 1, 0, 0, 0, 0, 0, 0], [0, 1, 0, 0, 0, 0, 0, 0, 0, 0, 0, 0, 0, 1, 0, 0, 0, 0, 0, 0], [0, 1, 0, 0, 0, 0, 1, 0, 0, 0, 1, 0, 0, 0, 0, 0, 0, 0, 0, 0], [0, 1, 0, 0, 0, 0, 0, 1, 0, 0, 0, 0, 0, 0, 0, 0, 0, 0, 0, 0], [0, 0, 1, 0, 0, 0, 0, 0, 0, 0, 0, 0, 0, 0, 0, 0, 0, 0, 0, 0], [0, 0, 1, 0, 0, 0, 0, 0, 0, 0, 0, 0, 0, 0, 0, 0, 0, 0, 0, 0], [0, 0, 1, 0, 0, 0, 0, 0, 0, 0, 0, 0, 0, 0, 0, 0, 0, 0, 0, 0], [0, 0, 2, 0, 1, 2, 0, 0, 1, 0, 1, 0, 2, 1, 1, 2, 0, 0, 2, 0], [0, 0, 1, 0, 0, 0, 0, 0, 0, 0, 0, 0, 0, 0, 0, 0, 0, 0, 0, 0], [0, 0, 1, 0, 0, 0, 0, 0, 0, 0, 0, 0, 0, 0, 0, 0, 0, 0, 0, 0], [0, 0, 1, 0, 0, 0, 0, 0, 0, 0, 0, 0, 0, 0, 0, 0, 0, 0, 0, 0], [0, 0, 1, 0, 0, 0, 0, 0, 0, 0, 0, 0, 0, 0, 0, 0, 0, 0, 0, 0], [0, 0, 1, 0, 0, 0, 0, 0, 0, 0, 0, 0, 0, 0, 0, 0, 0, 0, 0, 0], [0, 0, 1, 0, 0, 0, 0, 0, 0, 2, 0, 0, 0, 0, 0, 0, 0, 0, 0, 1], [0, 0, 1, 0, 0, 0, 0, 0, 0, 0, 0, 1, 0, 1, 0, 0, 0, 0, 0, 0], [0, 0, 1, 0, 1, 0, 0, 0, 1, 0, 0, 0, 0, 0, 0, 0, 0, 0, 0, 0], [0, 0, 1, 0, 0, 0, 0, 0, 0, 0, 0, 0, 0, 0, 0, 0, 0, 0, 0, 1], [0, 0, 1, 0, 0, 0, 0, 1, 0, 0, 0, 0, 0, 0, 0, 0, 0, 0, 0, 0], [0, 0, 1, 0, 0, 0, 0, 0, 0, 0, 0, 0, 0, 0, 0, 0, 0, 0, 0, 0], [0, 0, 1, 0, 1, 0, 0, 0, 0, 0, 0, 0, 0, 0, 0, 0, 0, 0, 0, 1], [0, 0, 2, 0, 0, 0, 1, 2, 1, 1, 0, 0, 0, 0, 1, 1, 1, 0, 2, 0], [0, 0, 1, 0, 0, 0, 0, 0, 0, 0, 0, 0, 0, 0, 0, 0, 0, 0, 0, 1], [0, 0, 1, 0, 0, 0, 0, 0, 0, 0, 0, 1, 0, 0, 0, 0, 0, 0, 0, 0], [0, 0, 1, 0, 0, 0, 0, 0, 0, 0, 0, 0, 0, 0, 0, 0, 0, 0, 0, 0], [0, 0, 1, 1, 0, 0, 0, 0, 0, 0, 0, 0, 0, 0, 0, 0, 0, 0, 0, 0], [0, 0, 1, 0, 0, 0, 0, 0, 0, 0, 0, 1, 0, 0, 0, 0, 0, 0, 0, 0], [0, 0, 1, 0, 0, 0, 0, 0, 0, 0, 0, 1, 0, 0, 1, 0, 0, 0, 0, 0], [0, 0, 1, 0, 0, 0, 0, 0, 0, 0, 0, 0, 0, 0, 0, 0, 0, 0, 0, 0], [0, 0, 1, 0, 0, 0, 0, 0, 0, 1, 0, 0, 0, 0, 0, 1, 0, 0, 0, 0], [0, 0, 1, 0, 0, 0, 0, 0, 0, 0, 0, 0, 0, 0, 0, 0, 0, 0, 0, 1], [0, 0, 1, 0, 0, 0, 0, 1, 0, 0, 0, 0, 0, 0, 1, 0, 0, 0, 0, 0], [0, 0, 1, 0, 0, 0, 0, 0, 0, 0, 1, 0, 0, 0, 0, 0, 0, 0, 0, 0], [0, 0, 1, 0, 0, 0, 0, 1, 0, 0, 0, 0, 0, 0, 0, 0, 0, 0, 0, 0], [0, 0, 1, 0, 1, 0, 0, 0, 0, 0, 0, 0, 0, 0, 0, 0, 0, 0, 0, 0], [0, 0, 1, 0, 0, 0, 0, 0, 0, 0, 0, 0, 0, 0, 0, 0, 0, 0, 0, 0], [0, 0, 1, 1, 1, 1, 1, 0, 0, 0, 0, 0, 0, 0, 0, 0, 0, 1, 0, 3], [0, 0, 1, 1, 0, 0, 0, 0, 0, 0, 0, 0, 0, 0, 0, 0, 0, 0, 0, 0], [0, 0, 1, 0, 0, 0, 0, 0, 0, 0, 0, 0, 0, 0, 0, 0, 0, 0, 0, 0], [0, 0, 1, 0, 0, 0, 0, 0, 1, 0, 0, 0, 0, 0, 0, 1, 0, 0, 0, 0], [0, 0, 1, 0, 0, 0, 0, 0, 0, 0, 0, 0, 0, 0, 0, 0, 0, 0, 0, 0], [0, 0, 1, 0, 0, 0, 0, 0, 0, 0, 0, 0, 0, 0, 0, 0, 0, 0, 0, 0], [0, 0, 1, 0, 0, 0, 0, 0, 0, 0, 0, 0, 0, 0, 0, 0, 0, 0, 0, 0], [0, 0, 1, 0, 0, 0, 0, 0, 0, 0, 0, 0, 0, 0, 0, 0, 0, 0, 0, 0], [0, 0, 1, 0, 0, 0, 0, 0, 0, 0, 0, 0, 0, 0, 0, 0, 0, 0, 0, 0], [0, 0, 1, 0, 0, 0, 0, 0, 0, 0, 0, 1, 0, 0, 0, 0, 0, 0, 0, 0], [0, 0, 1, 0, 0, 0, 0, 0, 0, 0, 0, 0, 0, 0, 0, 0, 0, 0, 0, 0], [0, 0, 1, 0, 0, 0, 0, 0, 0, 0, 0, 0, 0, 0, 0, 0, 0, 0, 0, 0], [0, 0, 1, 0, 0, 0, 0, 0, 0, 0, 0, 0, 0, 0, 0, 0, 0, 1, 0, 0], [0, 0, 1, 0, 0, 0, 0, 0, 0, 0, 0, 1, 0, 1, 0, 0, 0, 0, 0, 0], [0, 0, 1, 0, 0, 0, 0, 0, 0, 0, 0, 0, 0, 0, 0, 0, 0, 0, 0, 0], [0, 0, 1, 0, 0, 0, 0, 0, 0, 0, 0, 0, 0, 0, 0, 0, 0, 0, 0, 0], [0, 0, 2, 1, 0, 0, 1, 1, 0, 0, 0, 0, 1, 0, 0, 0, 1, 0, 0, 0], [0, 0, 1, 0, 0, 0, 1, 0, 0, 0, 1, 0, 1, 0, 0, 0, 1, 0, 0, 0], [0, 0, 1, 0, 0, 0, 0, 0, 0, 0, 0, 0, 0, 0, 0, 0, 0, 0, 0, 0], [0, 0, 1, 0, 0, 0, 0, 0, 0, 0, 0, 0, 0, 0, 0, 0, 0, 0, 0, 0], [0, 0, 1, 0, 0, 0, 0, 0, 0, 0, 0, 0, 0, 0, 0, 0, 0, 0, 0, 0], [0, 0, 1, 0, 0, 0, 0, 0, 0, 0, 0, 0, 0, 0, 0, 0, 0, 0, 0, 0], [0, 0, 1, 0, 0, 0, 0, 0, 0, 0, 0, 0, 0, 0, 0, 0, 0, 0, 0, 0], [0, 0, 1, 0, 0, 0, 0, 0, 0, 0, 0, 1, 0, 0, 0, 0, 1, 0, 0, 0], [0, 0, 1, 0, 0, 0, 0, 0, 0, 0, 1, 1, 0, 0, 0, 0, 0, 0, 0, 0], [0, 0, 1, 0, 0, 0, 0, 0, 0, 0, 0, 0, 0, 0, 0, 0, 0, 0, 0, 0], [0, 0, 1, 0, 0, 0, 0, 0, 0, 0, 0, 0, 0, 0, 0, 0, 0, 1, 0, 0], [0, 0, 1, 0, 0, 0, 0, 0, 0, 0, 0, 0, 0, 0, 0, 1, 0, 1, 0, 0], [0, 0, 1, 0, 0, 0, 0, 0, 0, 0, 0, 0, 0, 0, 0, 0, 0, 0, 0, 0], [0, 0, 2, 0, 0, 0, 0, 0, 0, 0, 0, 0, 0, 0, 0, 0, 0, 0, 0, 0], [0, 0, 1, 0, 0, 0, 0, 0, 0, 0, 0, 0, 0, 0, 0, 0, 0, 0, 0, 0], [0, 0, 1, 0, 0, 0, 0, 0, 0, 0, 0, 0, 0, 0, 0, 0, 0, 0, 0, 0], [0, 0, 1, 0, 0, 1, 0, 0, 1, 2, 0, 0, 0, 0, 0, 2, 0, 0, 0, 1], [0, 0, 1, 1, 0, 0, 0, 0, 0, 0, 0, 0, 0, 0, 3, 0, 0, 0, 0, 0], [0, 0, 1, 0, 0, 0, 0, 0, 0, 0, 0, 0, 0, 0, 0, 0, 1, 0, 0, 0], [0, 0, 1, 0, 0, 0, 0, 0, 0, 0, 0, 0, 0, 0, 0, 0, 0, 0, 0, 0], [0, 0, 1, 0, 0, 0, 0, 0, 0, 0, 0, 0, 0, 0, 0, 0, 0, 0, 0, 0], [0, 0, 1, 0, 0, 0, 0, 0, 0, 0, 0, 0, 0, 0, 0, 0, 0, 0, 0, 0], [0, 0, 1, 0, 0, 0, 1, 0, 0, 0, 0, 0, 0, 0, 0, 0, 0, 0, 1, 0], [0, 0, 1, 0, 0, 0, 1, 1, 0, 1, 0, 0, 1, 0, 0, 0, 1, 0, 0, 1], [0, 0, 1, 0, 0, 0, 0, 0, 0, 0, 0, 0, 0, 0, 0, 0, 0, 0, 0, 0], [0, 0, 0, 1, 0, 0, 0, 0, 0, 0, 0, 0, 0, 0, 0, 0, 0, 0, 1, 0], [0, 0, 0, 1, 0, 0, 0, 0, 0, 0, 0, 0, 0, 0, 0, 0, 1, 0, 0, 0], [0, 0, 0, 1, 0, 0, 0, 0, 0, 0, 0, 0, 0, 0, 0, 0, 0, 0, 0, 0], [0, 0, 0, 1, 0, 0, 0, 0, 0, 1, 1, 1, 1, 0, 0, 0, 1, 0, 0, 0], [0, 0, 0, 1, 0, 0, 0, 0, 0, 0, 0, 0, 0, 0, 0, 0, 0, 0, 1, 0], [0, 0, 0, 1, 0, 0, 0, 0, 0, 0, 0, 0, 0, 0, 1, 0, 0, 0, 0, 0], [0, 0, 0, 1, 0, 0, 1, 0, 0, 0, 1, 0, 0, 0, 1, 0, 0, 0, 0, 0], [0, 0, 0, 1, 0, 0, 1, 0, 0, 0, 2, 0, 0, 0, 0, 0, 0, 0, 0, 0], [0, 0, 0, 1, 0, 0, 0, 0, 0, 0, 1, 0, 0, 1, 0, 0, 0, 0, 0, 0], [0, 0, 0, 1, 0, 0, 0, 0, 1, 0, 0, 0, 0, 0, 0, 0, 0, 0, 0, 0], [0, 0, 0, 1, 1, 0, 0, 0, 0, 0, 0, 0, 1, 0, 0, 1, 0, 0, 0, 0], [0, 0, 0, 1, 0, 0, 0, 0, 0, 0, 0, 0, 0, 0, 0, 0, 0, 0, 0, 0], [0, 0, 0, 1, 0, 0, 0, 0, 0, 0, 0, 0, 0, 0, 0, 0, 0, 0, 0, 0], [0, 0, 0, 1, 0, 0, 0, 0, 0, 0, 0, 0, 0, 0, 1, 0, 0, 0, 0, 0], [0, 0, 0, 1, 0, 0, 0, 0, 0, 0, 0, 0, 0, 0, 0, 0, 0, 0, 0, 0], [0, 0, 0, 1, 0, 0, 0, 0, 0, 0, 0, 0, 0, 0, 0, 1, 0, 0, 0, 0], [0, 0, 0, 2, 0, 0, 0, 0, 0, 1, 0, 0, 0, 0, 0, 0, 0, 0, 1, 0], [0, 0, 0, 1, 0, 0, 0, 0, 0, 0, 0, 0, 0, 0, 0, 0, 0, 0, 0, 0], [0, 0, 0, 1, 0, 0, 0, 0, 0, 0, 0, 1, 0, 0, 0, 0, 0, 0, 0, 0], [0, 0, 0, 1, 0, 0, 0, 0, 0, 0, 0, 1, 0, 0, 0, 0, 0, 0, 0, 0], [0, 0, 0, 1, 0, 0, 0, 0, 0, 0, 0, 0, 0, 0, 0, 0, 0, 0, 0, 0], [0, 0, 0, 1, 0, 0, 0, 0, 0, 0, 0, 0, 0, 0, 0, 1, 0, 0, 0, 0], [0, 0, 0, 1, 0, 0, 0, 0, 0, 0, 0, 1, 0, 0, 0, 0, 0, 0, 0, 0], [0, 0, 0, 1, 0, 1, 0, 0, 0, 0, 0, 0, 0, 0, 0, 0, 0, 1, 0, 0], [0, 0, 0, 1, 0, 0, 0, 0, 0, 0, 0, 0, 0, 0, 2, 0, 2, 0, 0, 0], [0, 0, 0, 1, 0, 0, 0, 0, 0, 0, 0, 0, 0, 0, 0, 0, 0, 0, 0, 0], [0, 0, 0, 1, 0, 0, 0, 0, 0, 0, 0, 0, 0, 0, 0, 0, 0, 0, 1, 0], [0, 0, 0, 1, 0, 0, 0, 0, 0, 0, 0, 0, 0, 0, 0, 0, 0, 0, 0, 0], [0, 0, 0, 1, 1, 0, 0, 0, 0, 0, 2, 0, 0, 1, 0, 1, 1, 4, 0, 0], [0, 0, 0, 1, 0, 0, 0, 0, 0, 0, 0, 0, 0, 0, 0, 0, 0, 0, 0, 1], [0, 0, 0, 1, 0, 0, 0, 0, 0, 0, 0, 0, 0, 0, 0, 0, 0, 0, 0, 0], [0, 0, 0, 1, 1, 0, 0, 0, 0, 0, 0, 0, 0, 0, 0, 0, 0, 0, 0, 0], [0, 0, 0, 1, 0, 0, 0, 0, 0, 0, 0, 0, 1, 0, 0, 0, 0, 0, 0, 0], [0, 0, 0, 1, 0, 0, 0, 0, 0, 1, 0, 0, 0, 0, 0, 0, 0, 0, 0, 0], [0, 0, 0, 1, 0, 0, 0, 0, 0, 0, 0, 0, 0, 0, 0, 0, 0, 0, 0, 0], [0, 0, 0, 1, 0, 0, 0, 0, 0, 0, 1, 0, 0, 0, 0, 1, 0, 0, 0, 0], [0, 0, 0, 1, 0, 0, 0, 0, 0, 1, 0, 0, 0, 0, 0, 0, 0, 1, 0, 0], [0, 0, 0, 2, 0, 0, 0, 0, 0, 0, 0, 0, 0, 0, 0, 0, 0, 1, 0, 0], [0, 0, 0, 1, 0, 0, 0, 0, 0, 0, 0, 0, 0, 0, 0, 0, 0, 1, 0, 0], [0, 0, 0, 1, 0, 0, 0, 0, 0, 0, 0, 0, 0, 0, 0, 0, 0, 0, 0, 0], [0, 0, 0, 1, 0, 0, 0, 0, 0, 0, 0, 0, 0, 0, 0, 0, 0, 0, 0, 0], [0, 0, 0, 1, 0, 0, 0, 0, 0, 0, 0, 0, 0, 0, 0, 0, 0, 0, 0, 0], [0, 0, 0, 1, 0, 0, 0, 0, 0, 0, 1, 0, 0, 0, 0, 0, 0, 0, 0, 0], [0, 0, 0, 1, 0, 0, 0, 0, 0, 0, 0, 0, 0, 0, 0, 0, 0, 0, 0, 0], [0, 0, 0, 1, 0, 0, 0, 0, 0, 0, 0, 0, 0, 0, 0, 0, 0, 0, 0, 0], [0, 0, 0, 1, 0, 0, 0, 0, 0, 0, 0, 0, 0, 0, 0, 0, 0, 0, 0, 0], [0, 0, 0, 1, 0, 0, 0, 0, 0, 0, 0, 0, 0, 0, 0, 0, 0, 0, 0, 0], [0, 0, 0, 2, 0, 0, 0, 0, 0, 0, 0, 0, 0, 0, 0, 0, 0, 0, 0, 0], [0, 0, 0, 2, 0, 0, 0, 0, 0, 0, 1, 1, 0, 0, 0, 0, 0, 0, 0, 1], [0, 0, 0, 1, 0, 0, 0, 0, 0, 0, 0, 0, 0, 0, 0, 0, 0, 0, 0, 0], [0, 0, 0, 1, 1, 1, 0, 0, 0, 0, 0, 0, 0, 0, 0, 0, 0, 0, 0, 0], [0, 0, 0, 1, 0, 0, 0, 0, 0, 0, 0, 0, 0, 0, 0, 0, 1, 0, 0, 0], [0, 0, 0, 1, 0, 0, 0, 0, 0, 0, 0, 0, 0, 0, 1, 0, 0, 0, 0, 0], [0, 0, 0, 1, 0, 0, 0, 0, 0, 0, 0, 0, 0, 0, 0, 0, 0, 0, 0, 0], [0, 0, 0, 1, 0, 0, 0, 0, 0, 0, 0, 1, 0, 0, 0, 0, 0, 0, 0, 0], [0, 0, 0, 1, 0, 1, 0, 0, 0, 0, 0, 0, 0, 0, 0, 0, 0, 1, 0, 0], [0, 0, 0, 1, 0, 0, 0, 0, 0, 0, 0, 1, 0, 0, 0, 0, 0, 0, 0, 0], [0, 0, 0, 1, 0, 0, 0, 0, 0, 0, 0, 0, 0, 0, 0, 0, 0, 0, 0, 0], [0, 0, 0, 1, 0, 0, 0, 0, 0, 0, 0, 0, 0, 0, 0, 0, 0, 0, 0, 0], [0, 0, 0, 1, 0, 0, 0, 0, 0, 0, 0, 0, 0, 0, 0, 0, 0, 0, 0, 0], [0, 0, 0, 1, 0, 0, 0, 0, 0, 0, 0, 0, 0, 0, 0, 0, 0, 0, 0, 0], [0, 0, 0, 1, 0, 0, 0, 1, 0, 0, 0, 0, 0, 0, 0, 0, 0, 0, 0, 0], [0, 0, 0, 1, 0, 0, 0, 0, 0, 0, 0, 0, 0, 0, 1, 0, 0, 0, 0, 1], [0, 0, 0, 1, 2, 1, 2, 0, 2, 1, 1, 0, 1, 1, 1, 1, 2, 2, 1, 0], [0, 0, 0, 0, 1, 0, 0, 0, 0, 0, 0, 0, 0, 0, 0, 0, 0, 0, 0, 0], [0, 0, 0, 0, 1, 0, 0, 0, 0, 0, 0, 0, 0, 0, 0, 0, 0, 0, 0, 0], [0, 0, 0, 0, 1, 0, 0, 0, 0, 0, 0, 0, 0, 0, 0, 0, 0, 0, 0, 0], [0, 0, 0, 0, 1, 0, 0, 0, 0, 0, 0, 0, 0, 0, 0, 1, 0, 0, 0, 0], [0, 0, 0, 0, 1, 0, 0, 0, 0, 0, 0, 0, 0, 0, 0, 0, 0, 0, 0, 0], [0, 0, 0, 0, 1, 0, 0, 0, 0, 0, 0, 0, 0, 0, 0, 0, 0, 0, 0, 0], [0, 0, 0, 0, 1, 0, 0, 0, 0, 0, 0, 0, 0, 0, 0, 0, 0, 0, 1, 0], [0, 0, 0, 0, 1, 0, 0, 0, 0, 0, 0, 0, 0, 0, 0, 0, 0, 0, 0, 0], [0, 0, 0, 0, 1, 0, 0, 0, 1, 0, 1, 0, 1, 0, 1, 1, 0, 0, 0, 1], [0, 0, 0, 0, 1, 0, 0, 0, 0, 0, 0, 0, 1, 0, 0, 0, 0, 0, 0, 0], [0, 0, 0, 0, 1, 0, 0, 0, 0, 0, 0, 0, 0, 0, 0, 1, 0, 0, 0, 0], [0, 0, 0, 0, 1, 0, 0, 0, 0, 0, 0, 0, 0, 0, 0, 0, 0, 0, 0, 0], [0, 0, 0, 0, 1, 0, 0, 0, 0, 0, 0, 0, 0, 0, 0, 0, 0, 1, 0, 0], [0, 0, 0, 0, 1, 0, 0, 0, 0, 0, 0, 0, 0, 0, 0, 0, 0, 0, 0, 0], [0, 0, 0, 0, 1, 0, 1, 0, 0, 0, 0, 0, 0, 0, 0, 0, 0, 0, 0, 0], [0, 0, 0, 0, 1, 0, 0, 0, 0, 0, 0, 0, 0, 0, 0, 0, 0, 0, 0, 0], [0, 0, 0, 0, 1, 0, 0, 1, 0, 0, 0, 0, 0, 0, 0, 0, 0, 0, 0, 0], [0, 0, 0, 0, 1, 0, 0, 0, 0, 0, 0, 0, 0, 0, 0, 0, 0, 0, 0, 0], [0, 0, 0, 0, 1, 0, 0, 0, 0, 0, 0, 0, 0, 0, 0, 0, 0, 0, 0, 0], [0, 0, 0, 0, 1, 0, 1, 0, 1, 0, 0, 0, 0, 0, 1, 0, 0, 0, 2, 1], [0, 0, 0, 0, 1, 1, 0, 0, 0, 0, 0, 1, 0, 0, 0, 0, 0, 0, 0, 0], [0, 0, 0, 0, 1, 0, 0, 0, 0, 0, 0, 0, 0, 0, 0, 0, 0, 0, 0, 1], [0, 0, 0, 0, 1, 0, 0, 0, 0, 0, 0, 0, 0, 0, 0, 0, 0, 0, 0, 0], [0, 0, 0, 0, 1, 0, 0, 0, 0, 0, 0, 0, 0, 0, 0, 0, 0, 0, 0, 0], [0, 0, 0, 0, 1, 0, 0, 0, 0, 0, 0, 0, 0, 0, 0, 0, 0, 0, 0, 0], [0, 0, 0, 0, 1, 0, 0, 0, 0, 0, 0, 1, 0, 0, 0, 0, 0, 0, 0, 0], [0, 0, 0, 0, 1, 0, 0, 0, 1, 0, 0, 0, 0, 0, 0, 0, 0, 0, 0, 0], [0, 0, 0, 0, 1, 0, 0, 0, 0, 0, 0, 0, 0, 0, 0, 0, 0, 0, 0, 0], [0, 0, 0, 0, 1, 0, 0, 0, 0, 0, 0, 0, 0, 0, 0, 0, 0, 0, 0, 0], [0, 0, 0, 0, 1, 0, 0, 0, 0, 0, 0, 0, 0, 0, 0, 0, 0, 0, 0, 0], [0, 0, 0, 0, 1, 0, 0, 1, 0, 0, 0, 0, 0, 0, 0, 0, 0, 0, 0, 0], [0, 0, 0, 0, 1, 0, 0, 0, 0, 0, 0, 0, 0, 0, 0, 0, 0, 0, 0, 0], [0, 0, 0, 0, 1, 0, 0, 1, 0, 1, 1, 0, 0, 0, 0, 0, 0, 0, 1, 0], [0, 0, 0, 0, 1, 0, 0, 0, 0, 0, 0, 0, 0, 0, 1, 0, 0, 0, 0, 0], [0, 0, 0, 0, 1, 0, 0, 1, 0, 0, 0, 0, 0, 0, 1, 0, 0, 0, 0, 0], [0, 0, 0, 0, 1, 0, 0, 0, 0, 0, 0, 0, 0, 0, 0, 0, 0, 0, 0, 0], [0, 0, 0, 0, 1, 0, 0, 0, 0, 0, 0, 0, 0, 0, 0, 0, 0, 0, 0, 0], [0, 0, 0, 0, 1, 0, 0, 0, 0, 0, 0, 0, 0, 0, 0, 0, 0, 0, 1, 0], [0, 0, 0, 0, 1, 0, 1, 0, 0, 0, 0, 0, 0, 0, 0, 0, 0, 0, 0, 0], [0, 0, 0, 0, 1, 0, 0, 0, 0, 0, 0, 0, 1, 0, 0, 0, 0, 0, 0, 0], [0, 0, 0, 0, 1, 0, 0, 0, 0, 0, 0, 1, 0, 0, 1, 0, 0, 0, 0, 0], [0, 0, 0, 0, 1, 0, 0, 0, 0, 0, 0, 0, 0, 0, 0, 0, 0, 0, 0, 0], [0, 0, 0, 0, 1, 0, 0, 0, 0, 0, 0, 0, 0, 0, 0, 0, 0, 0, 0, 0], [0, 0, 0, 0, 1, 0, 0, 0, 0, 0, 0, 0, 0, 0, 0, 0, 0, 0, 0, 0], [0, 0, 0, 0, 1, 0, 0, 0, 0, 0, 0, 0, 1, 0, 1, 0, 1, 0, 0, 0], [0, 0, 0, 0, 1, 0, 0, 1, 0, 0, 0, 0, 0, 0, 0, 0, 0, 0, 0, 0], [0, 0, 0, 0, 1, 0, 0, 0, 0, 0, 0, 1, 0, 0, 0, 0, 0, 0, 0, 0], [0, 0, 0, 0, 1, 0, 0, 0, 0, 0, 0, 0, 0, 0, 0, 0, 0, 0, 0, 0], [0, 0, 0, 0, 1, 0, 0, 0, 0, 0, 0, 0, 0, 0, 0, 0, 0, 0, 0, 0], [0, 0, 0, 0, 1, 0, 0, 0, 0, 0, 0, 0, 0, 0, 0, 0, 0, 0, 0, 0], [0, 0, 0, 0, 1, 0, 0, 0, 0, 0, 0, 0, 0, 0, 0, 0, 0, 0, 0, 0], [0, 0, 0, 0, 1, 0, 0, 0, 0, 0, 0, 0, 0, 0, 0, 0, 0, 0, 0, 0], [0, 0, 0, 0, 1, 0, 0, 0, 0, 0, 0, 0, 0, 0, 0, 0, 0, 0, 0, 0], [0, 0, 0, 0, 1, 1, 0, 0, 0, 0, 0, 0, 1, 0, 0, 0, 0, 0, 0, 1], [0, 0, 0, 0, 1, 0, 0, 0, 0, 0, 0, 0, 0, 0, 0, 0, 0, 0, 1, 0], [0, 0, 0, 0, 1, 0, 0, 0, 0, 0, 0, 0, 0, 0, 0, 0, 0, 0, 0, 0], [0, 0, 0, 0, 1, 0, 0, 0, 0, 0, 0, 0, 0, 0, 0, 0, 0, 0, 0, 0], [0, 0, 0, 0, 1, 0, 0, 0, 0, 0, 0, 0, 0, 0, 0, 0, 0, 0, 0, 0], [0, 0, 0, 0, 1, 0, 0, 0, 0, 0, 1, 0, 0, 0, 0, 0, 0, 1, 0, 0], [0, 0, 0, 0, 1, 0, 0, 0, 0, 0, 0, 0, 0, 0, 1, 0, 0, 0, 0, 0], [0, 0, 0, 0, 1, 0, 0, 0, 0, 0, 1, 0, 0, 1, 1, 0, 0, 0, 0, 0], [0, 0, 0, 0, 1, 0, 0, 0, 0, 0, 0, 0, 0, 0, 0, 0, 0, 0, 0, 0], [0, 0, 0, 0, 1, 0, 0, 0, 0, 0, 0, 0, 1, 0, 0, 0, 0, 0, 0, 0], [0, 0, 0, 0, 1, 0, 0, 0, 0, 0, 0, 0, 0, 0, 0, 0, 0, 0, 0, 0], [0, 0, 0, 0, 0, 1, 0, 0, 0, 0, 0, 0, 0, 0, 0, 1, 1, 0, 0, 0], [0, 0, 0, 0, 0, 1, 0, 0, 0, 0, 0, 0, 0, 0, 0, 0, 0, 0, 0, 0], [0, 0, 0, 0, 0, 1, 0, 0, 0, 0, 0, 1, 0, 0, 0, 0, 0, 0, 0, 0], [0, 0, 0, 0, 0, 1, 1, 0, 0, 0, 0, 0, 0, 0, 0, 0, 0, 0, 0, 0], [0, 0, 0, 0, 0, 1, 0, 0, 0, 0, 0, 0, 0, 0, 0, 0, 0, 0, 0, 0], [0, 0, 0, 0, 0, 1, 0, 1, 0, 1, 0, 0, 1, 0, 0, 1, 0, 1, 1, 0], [0, 0, 0, 0, 0, 1, 0, 0, 0, 0, 0, 0, 0, 0, 0, 0, 0, 0, 0, 0], [0, 0, 0, 0, 0, 1, 0, 0, 0, 0, 0, 0, 0, 0, 0, 0, 0, 0, 0, 0], [0, 0, 0, 0, 0, 1, 0, 0, 0, 0, 0, 0, 0, 0, 0, 0, 0, 0, 0, 0], [0, 0, 0, 0, 0, 1, 0, 0, 0, 0, 0, 1, 0, 0, 0, 0, 0, 0, 0, 0], [0, 0, 0, 0, 0, 1, 0, 0, 0, 0, 0, 0, 0, 1, 0, 0, 0, 0, 0, 0], [0, 0, 0, 0, 0, 1, 1, 0, 0, 0, 0, 0, 0, 0, 0, 0, 0, 0, 1, 0], [0, 0, 0, 0, 0, 1, 0, 0, 0, 0, 0, 0, 0, 0, 0, 0, 0, 1, 0, 0], [0, 0, 0, 0, 0, 1, 0, 0, 1, 0, 0, 0, 0, 0, 0, 0, 0, 0, 0, 0], [0, 0, 0, 0, 0, 1, 0, 1, 0, 0, 0, 0, 0, 0, 0, 0, 0, 0, 0, 0], [0, 0, 0, 0, 0, 1, 0, 0, 0, 0, 0, 0, 0, 0, 0, 0, 0, 0, 0, 0], [0, 0, 0, 0, 0, 1, 0, 0, 0, 0, 0, 0, 0, 0, 0, 0, 0, 0, 0, 0], [0, 0, 0, 0, 0, 1, 0, 0, 0, 0, 0, 1, 1, 0, 0, 0, 0, 0, 0, 0], [0, 0, 0, 0, 0, 1, 0, 0, 0, 0, 0, 0, 0, 0, 1, 0, 0, 0, 1, 0], [0, 0, 0, 0, 0, 1, 1, 0, 0, 0, 0, 0, 1, 0, 0, 1, 0, 0, 0, 0], [0, 0, 0, 0, 0, 1, 1, 0, 0, 0, 0, 0, 0, 0, 0, 0, 0, 0, 0, 0], [0, 0, 0, 0, 0, 1, 1, 0, 0, 2, 0, 1, 0, 0, 0, 0, 3, 2, 1, 5], [0, 0, 0, 0, 0, 1, 0, 0, 0, 0, 0, 0, 0, 0, 0, 0, 0, 0, 1, 0], [0, 0, 0, 0, 0, 1, 0, 0, 0, 0, 0, 0, 0, 0, 0, 0, 0, 0, 0, 0], [0, 0, 0, 0, 0, 1, 0, 0, 0, 0, 0, 0, 0, 0, 0, 0, 0, 0, 0, 0], [0, 0, 0, 0, 0, 1, 0, 0, 0, 0, 0, 0, 0, 0, 0, 1, 0, 0, 0, 0], [0, 0, 0, 0, 0, 1, 1, 0, 0, 0, 0, 0, 0, 0, 0, 0, 0, 0, 0, 0], [0, 0, 0, 0, 0, 1, 0, 0, 0, 0, 0, 0, 0, 0, 0, 1, 0, 0, 0, 0], [0, 0, 0, 0, 0, 1, 0, 0, 0, 0, 0, 0, 0, 0, 0, 0, 0, 0, 0, 0], [0, 0, 0, 0, 0, 1, 0, 1, 0, 0, 0, 0, 0, 0, 0, 0, 0, 0, 0, 0], [0, 0, 0, 0, 0, 1, 0, 0, 0, 0, 0, 0, 0, 0, 0, 0, 0, 0, 0, 0], [0, 0, 0, 0, 0, 1, 0, 0, 0, 0, 0, 1, 0, 0, 1, 0, 0, 0, 0, 0], [0, 0, 0, 0, 0, 1, 0, 0, 0, 0, 0, 0, 0, 0, 0, 0, 0, 0, 0, 0], [0, 0, 0, 0, 0, 1, 0, 0, 0, 0, 0, 0, 0, 0, 0, 0, 0, 0, 0, 0], [0, 0, 0, 0, 0, 1, 0, 0, 0, 0, 0, 1, 0, 0, 1, 0, 0, 0, 0, 0], [0, 0, 0, 0, 0, 1, 0, 0, 0, 0, 0, 0, 0, 0, 0, 0, 0, 0, 0, 0], [0, 0, 0, 0, 0, 1, 0, 0, 0, 0, 0, 0, 0, 0, 0, 0, 0, 0, 0, 0], [0, 0, 0, 0, 0, 1, 0, 0, 0, 0, 0, 0, 0, 0, 0, 0, 0, 1, 0, 1], [0, 0, 0, 0, 0, 1, 1, 0, 0, 0, 0, 0, 0, 0, 0, 1, 0, 0, 0, 0], [0, 0, 0, 0, 0, 1, 0, 0, 0, 0, 0, 0, 0, 0, 0, 0, 0, 0, 0, 0], [0, 0, 0, 0, 0, 1, 0, 0, 0, 0, 0, 0, 0, 0, 0, 0, 0, 0, 0, 0], [0, 0, 0, 0, 0, 1, 0, 0, 0, 0, 0, 0, 1, 0, 0, 0, 0, 0, 0, 0], [0, 0, 0, 0, 0, 1, 0, 0, 0, 0, 0, 0, 0, 0, 0, 0, 0, 0, 0, 0], [0, 0, 0, 0, 0, 1, 0, 0, 0, 0, 0, 0, 0, 0, 0, 0, 0, 0, 0, 0], [0, 0, 0, 0, 0, 1, 0, 0, 0, 0, 0, 0, 0, 0, 0, 0, 0, 0, 0, 0], [0, 0, 0, 0, 0, 1, 0, 0, 0, 0, 1, 0, 0, 0, 0, 0, 0, 0, 0, 0], [0, 0, 0, 0, 0, 1, 0, 0, 0, 0, 1, 0, 0, 0, 0, 0, 0, 1, 0, 0], [0, 0, 0, 0, 0, 1, 2, 2, 0, 0, 0, 1, 1, 0, 1, 0, 1, 2, 0, 0], [0, 0, 0, 0, 0, 1, 0, 0, 0, 0, 0, 0, 0, 0, 0, 0, 0, 0, 0, 0], [0, 0, 0, 0, 0, 1, 0, 0, 1, 0, 0, 0, 0, 0, 0, 0, 0, 0, 0, 0], [0, 0, 0, 0, 0, 1, 0, 0, 0, 0, 0, 0, 0, 0, 0, 0, 0, 0, 0, 0], [0, 0, 0, 0, 0, 1, 0, 0, 0, 0, 0, 0, 0, 0, 0, 0, 0, 0, 0, 0], [0, 0, 0, 0, 0, 1, 0, 0, 1, 0, 1, 0, 0, 0, 0, 0, 0, 0, 0, 0], [0, 0, 0, 0, 0, 1, 0, 0, 0, 0, 0, 0, 0, 0, 0, 0, 0, 0, 0, 0], [0, 0, 0, 0, 0, 1, 0, 0, 0, 0, 0, 0, 1, 0, 0, 1, 0, 0, 0, 0], [0, 0, 0, 0, 0, 1, 0, 0, 0, 1, 0, 0, 0, 1, 0, 1, 0, 1, 0, 1], [0, 0, 0, 0, 0, 1, 0, 0, 0, 0, 0, 0, 0, 0, 0, 0, 0, 0, 0, 0], [0, 0, 0, 0, 0, 1, 0, 0, 0, 0, 0, 0, 0, 0, 0, 0, 0, 0, 0, 1], [0, 0, 0, 0, 0, 1, 1, 0, 0, 0, 0, 0, 0, 0, 0, 0, 0, 0, 0, 0], [0, 0, 0, 0, 0, 0, 1, 0, 0, 0, 0, 0, 0, 0, 0, 0, 0, 0, 0, 0], [0, 0, 0, 0, 0, 0, 1, 1, 0, 0, 1, 0, 0, 0, 0, 0, 0, 0, 0, 0], [0, 0, 0, 0, 0, 0, 1, 0, 0, 0, 0, 0, 0, 0, 0, 0, 0, 0, 0, 0], [0, 0, 0, 0, 0, 0, 1, 0, 0, 0, 0, 0, 0, 0, 0, 0, 0, 0, 0, 0], [0, 0, 0, 0, 0, 0, 1, 0, 0, 0, 0, 0, 0, 0, 0, 0, 0, 0, 0, 0], [0, 0, 0, 0, 0, 0, 1, 0, 0, 0, 0, 0, 0, 0, 1, 0, 0, 0, 0, 0], [0, 0, 0, 0, 0, 0, 1, 0, 0, 0, 0, 0, 0, 0, 0, 0, 0, 1, 0, 0], [0, 0, 0, 0, 0, 0, 1, 0, 1, 0, 0, 0, 0, 0, 0, 0, 0, 0, 0, 0], [0, 0, 0, 0, 0, 0, 1, 0, 0, 0, 0, 0, 0, 0, 0, 0, 0, 0, 0, 0], [0, 0, 0, 0, 0, 0, 1, 0, 0, 0, 0, 0, 0, 0, 0, 0, 0, 0, 0, 0], [0, 0, 0, 0, 0, 0, 1, 0, 0, 0, 0, 0, 0, 0, 0, 0, 0, 0, 0, 0], [0, 0, 0, 0, 0, 0, 1, 1, 1, 0, 0, 0, 0, 0, 0, 0, 0, 0, 0, 1], [0, 0, 0, 0, 0, 0, 1, 0, 0, 0, 0, 0, 0, 0, 0, 0, 0, 0, 1, 0], [0, 0, 0, 0, 0, 0, 1, 0, 0, 0, 0, 0, 0, 0, 0, 0, 0, 0, 0, 0], [0, 0, 0, 0, 0, 0, 1, 0, 0, 0, 0, 0, 0, 0, 0, 0, 1, 0, 0, 0], [0, 0, 0, 0, 0, 0, 1, 1, 0, 0, 0, 0, 0, 0, 0, 0, 0, 0, 0, 0], [0, 0, 0, 0, 0, 0, 1, 0, 0, 0, 0, 0, 0, 0, 0, 0, 0, 0, 0, 0], [0, 0, 0, 0, 0, 0, 1, 0, 0, 0, 0, 0, 0, 0, 0, 0, 0, 0, 0, 0], [0, 0, 0, 0, 0, 0, 1, 0, 0, 0, 0, 0, 1, 0, 1, 0, 0, 0, 0, 1], [0, 0, 0, 0, 0, 0, 1, 0, 0, 0, 0, 0, 0, 0, 1, 0, 0, 0, 1, 0], [0, 0, 0, 0, 0, 0, 1, 0, 0, 0, 0, 0, 0, 0, 0, 0, 0, 0, 0, 1], [0, 0, 0, 0, 0, 0, 1, 1, 1, 0, 0, 0, 1, 0, 0, 0, 0, 0, 0, 0], [0, 0, 0, 0, 0, 0, 1, 0, 0, 0, 0, 0, 0, 0, 0, 0, 0, 0, 0, 0], [0, 0, 0, 0, 0, 0, 1, 0, 0, 0, 0, 0, 0, 0, 0, 0, 0, 0, 0, 0], [0, 0, 0, 0, 0, 0, 1, 0, 0, 0, 0, 0, 0, 0, 0, 0, 0, 0, 0, 0], [0, 0, 0, 0, 0, 0, 1, 0, 0, 0, 0, 0, 0, 0, 0, 0, 0, 0, 0, 0], [0, 0, 0, 0, 0, 0, 1, 0, 0, 0, 0, 0, 0, 0, 0, 0, 0, 0, 0, 0], [0, 0, 0, 0, 0, 0, 1, 0, 0, 0, 0, 1, 0, 0, 0, 0, 0, 0, 0, 0], [0, 0, 0, 0, 0, 0, 2, 0, 0, 0, 0, 0, 0, 0, 1, 0, 0, 1, 1, 1], [0, 0, 0, 0, 0, 0, 1, 0, 0, 0, 0, 0, 0, 0, 0, 0, 0, 0, 0, 0], [0, 0, 0, 0, 0, 0, 1, 0, 0, 0, 0, 0, 0, 0, 0, 0, 0, 0, 0, 0], [0, 0, 0, 0, 0, 0, 1, 0, 0, 0, 0, 0, 0, 0, 0, 0, 0, 0, 0, 0], [0, 0, 0, 0, 0, 0, 1, 0, 0, 0, 0, 2, 0, 0, 0, 0, 0, 0, 0, 0], [0, 0, 0, 0, 0, 0, 1, 0, 0, 0, 0, 0, 0, 0, 0, 0, 0, 0, 0, 0], [0, 0, 0, 0, 0, 0, 1, 0, 0, 0, 0, 0, 0, 0, 0, 0, 0, 0, 0, 0], [0, 0, 0, 0, 0, 0, 1, 0, 0, 0, 0, 0, 0, 0, 0, 0, 0, 0, 0, 0], [0, 0, 0, 0, 0, 0, 1, 0, 0, 0, 0, 0, 0, 0, 0, 0, 0, 0, 0, 0], [0, 0, 0, 0, 0, 0, 1, 0, 0, 0, 0, 0, 0, 0, 0, 0, 0, 0, 0, 0], [0, 0, 0, 0, 0, 0, 1, 0, 0, 0, 0, 0, 0, 0, 0, 0, 0, 0, 0, 0], [0, 0, 0, 0, 0, 0, 1, 0, 0, 1, 0, 0, 0, 0, 0, 1, 1, 0, 0, 0], [0, 0, 0, 0, 0, 0, 1, 0, 0, 0, 0, 0, 0, 0, 0, 0, 0, 0, 0, 0], [0, 0, 0, 0, 0, 0, 1, 0, 0, 0, 0, 0, 0, 0, 0, 0, 0, 0, 0, 0], [0, 0, 0, 0, 0, 0, 1, 0, 0, 0, 0, 0, 0, 0, 0, 0, 0, 2, 0, 0], [0, 0, 0, 0, 0, 0, 1, 0, 0, 0, 0, 0, 0, 0, 0, 0, 0, 0, 0, 1], [0, 0, 0, 0, 0, 0, 1, 0, 0, 0, 0, 0, 0, 0, 0, 0, 0, 0, 0, 0], [0, 0, 0, 0, 0, 0, 1, 0, 0, 0, 0, 0, 0, 0, 0, 0, 0, 0, 0, 0], [0, 0, 0, 0, 0, 0, 1, 0, 0, 0, 0, 0, 0, 0, 0, 0, 0, 0, 0, 0], [0, 0, 0, 0, 0, 0, 0, 1, 0, 0, 0, 0, 0, 0, 0, 0, 0, 0, 0, 0], [0, 0, 0, 0, 0, 0, 0, 1, 0, 0, 0, 0, 0, 0, 0, 0, 0, 0, 0, 0], [0, 0, 0, 0, 0, 0, 0, 1, 0, 0, 0, 0, 0, 0, 0, 0, 0, 0, 0, 0], [0, 0, 0, 0, 0, 0, 0, 1, 0, 0, 0, 0, 0, 0, 0, 0, 0, 0, 0, 0], [0, 0, 0, 0, 0, 0, 0, 1, 0, 0, 0, 0, 0, 0, 0, 0, 0, 0, 0, 0], [0, 0, 0, 0, 0, 0, 0, 1, 0, 0, 0, 0, 0, 0, 0, 0, 0, 0, 0, 0], [0, 0, 0, 0, 0, 0, 0, 1, 0, 0, 0, 0, 0, 0, 0, 0, 0, 0, 0, 0], [0, 0, 0, 0, 0, 0, 0, 1, 0, 0, 0, 0, 0, 0, 0, 0, 0, 0, 0, 0], [0, 0, 0, 0, 0, 0, 0, 1, 0, 0, 0, 0, 0, 0, 0, 0, 0, 0, 0, 0], [0, 0, 0, 0, 0, 0, 0, 1, 0, 0, 0, 0, 0, 0, 0, 0, 0, 0, 0, 0], [0, 0, 0, 0, 0, 0, 0, 1, 0, 1, 0, 0, 0, 0, 0, 0, 0, 0, 0, 0], [0, 0, 0, 0, 0, 0, 0, 1, 0, 0, 0, 0, 0, 0, 0, 0, 0, 0, 0, 0], [0, 0, 0, 0, 0, 0, 0, 1, 0, 0, 0, 0, 0, 0, 0, 0, 0, 1, 0, 0], [0, 0, 0, 0, 0, 0, 0, 1, 0, 0, 0, 0, 0, 0, 0, 0, 0, 0, 0, 0], [0, 0, 0, 0, 0, 0, 0, 1, 0, 0, 0, 0, 0, 0, 0, 0, 0, 0, 0, 0], [0, 0, 0, 0, 0, 0, 0, 1, 1, 2, 1, 0, 1, 0, 0, 1, 0, 0, 2, 0], [0, 0, 0, 0, 0, 0, 0, 1, 0, 0, 0, 0, 0, 0, 0, 0, 0, 0, 0, 0], [0, 0, 0, 0, 0, 0, 0, 1, 0, 0, 0, 0, 0, 0, 0, 0, 0, 0, 0, 0], [0, 0, 0, 0, 0, 0, 0, 1, 0, 0, 0, 0, 0, 0, 0, 0, 0, 0, 0, 0], [0, 0, 0, 0, 0, 0, 0, 1, 0, 0, 0, 0, 0, 0, 0, 0, 0, 0, 0, 0], [0, 0, 0, 0, 0, 0, 0, 1, 0, 0, 0, 0, 1, 0, 0, 0, 0, 0, 0, 0], [0, 0, 0, 0, 0, 0, 0, 1, 0, 0, 0, 0, 0, 0, 0, 0, 0, 0, 0, 0], [0, 0, 0, 0, 0, 0, 0, 1, 0, 0, 0, 1, 2, 0, 0, 0, 0, 0, 0, 0], [0, 0, 0, 0, 0, 0, 0, 1, 0, 0, 0, 0, 0, 0, 0, 0, 0, 0, 0, 0], [0, 0, 0, 0, 0, 0, 0, 1, 0, 0, 0, 0, 0, 0, 0, 0, 0, 0, 0, 0], [0, 0, 0, 0, 0, 0, 0, 1, 0, 0, 0, 0, 0, 0, 0, 0, 0, 0, 0, 0], [0, 0, 0, 0, 0, 0, 0, 1, 0, 0, 0, 0, 0, 1, 0, 0, 0, 0, 0, 0], [0, 0, 0, 0, 0, 0, 0, 1, 0, 0, 0, 0, 0, 0, 0, 0, 0, 0, 0, 0], [0, 0, 0, 0, 0, 0, 0, 1, 0, 0, 0, 0, 0, 0, 0, 0, 0, 0, 0, 0], [0, 0, 0, 0, 0, 0, 0, 1, 0, 0, 0, 0, 0, 0, 0, 0, 0, 0, 0, 0], [0, 0, 0, 0, 0, 0, 0, 1, 0, 0, 0, 0, 0, 0, 0, 0, 0, 0, 0, 0], [0, 0, 0, 0, 0, 0, 0, 1, 0, 1, 0, 0, 0, 0, 1, 0, 0, 0, 0, 0], [0, 0, 0, 0, 0, 0, 0, 1, 0, 0, 0, 0, 0, 0, 0, 0, 0, 0, 0, 0], [0, 0, 0, 0, 0, 0, 0, 1, 0, 0, 0, 0, 0, 0, 0, 0, 0, 0, 0, 0], [0, 0, 0, 0, 0, 0, 0, 1, 0, 0, 0, 0, 0, 0, 0, 0, 0, 0, 0, 0], [0, 0, 0, 0, 0, 0, 0, 1, 0, 0, 0, 0, 0, 0, 0, 0, 0, 0, 0, 0], [0, 0, 0, 0, 0, 0, 0, 2, 0, 0, 0, 0, 0, 0, 0, 0, 0, 1, 0, 0], [0, 0, 0, 0, 0, 0, 0, 1, 0, 0, 0, 0, 0, 0, 0, 0, 0, 0, 0, 0], [0, 0, 0, 0, 0, 0, 0, 1, 0, 0, 0, 0, 0, 0, 0, 0, 0, 0, 0, 0], [0, 0, 0, 0, 0, 0, 0, 1, 0, 0, 0, 0, 0, 0, 0, 0, 0, 0, 0, 0], [0, 0, 0, 0, 0, 0, 0, 1, 0, 0, 0, 0, 0, 0, 1, 0, 0, 0, 0, 0], [0, 0, 0, 0, 0, 0, 0, 1, 0, 0, 0, 0, 0, 0, 0, 0, 0, 0, 0, 0], [0, 0, 0, 0, 0, 0, 0, 1, 0, 0, 0, 0, 0, 0, 0, 0, 0, 0, 0, 0], [0, 0, 0, 0, 0, 0, 0, 1, 0, 0, 0, 0, 0, 0, 0, 0, 0, 0, 0, 0], [0, 0, 0, 0, 0, 0, 0, 1, 0, 0, 0, 0, 0, 1, 0, 0, 0, 0, 0, 0], [0, 0, 0, 0, 0, 0, 0, 1, 0, 0, 0, 0, 0, 0, 0, 0, 0, 0, 0, 0], [0, 0, 0, 0, 0, 0, 0, 1, 0, 0, 0, 0, 0, 0, 0, 0, 1, 0, 0, 0], [0, 0, 0, 0, 0, 0, 0, 0, 1, 0, 0, 0, 0, 0, 0, 0, 0, 0, 0, 0], [0, 0, 0, 0, 0, 0, 0, 0, 1, 0, 0, 0, 0, 0, 0, 0, 0, 0, 0, 0], [0, 0, 0, 0, 0, 0, 0, 0, 1, 0, 0, 0, 0, 0, 0, 0, 0, 0, 0, 0], [0, 0, 0, 0, 0, 0, 0, 0, 1, 0, 0, 0, 0, 0, 0, 0, 0, 0, 0, 0], [0, 0, 0, 0, 0, 0, 0, 0, 1, 0, 0, 0, 0, 0, 0, 0, 0, 0, 0, 0], [0, 0, 0, 0, 0, 0, 0, 0, 1, 0, 0, 0, 0, 0, 1, 0, 0, 0, 0, 0], [0, 0, 0, 0, 0, 0, 0, 0, 1, 0, 0, 0, 0, 0, 0, 0, 0, 1, 0, 0], [0, 0, 0, 0, 0, 0, 0, 0, 1, 0, 0, 0, 0, 0, 0, 0, 0, 0, 0, 0], [0, 0, 0, 0, 0, 0, 0, 0, 1, 0, 0, 0, 0, 0, 0, 0, 0, 0, 0, 0], [0, 0, 0, 0, 0, 0, 0, 0, 1, 0, 0, 0, 0, 0, 0, 1, 0, 0, 0, 0], [0, 0, 0, 0, 0, 0, 0, 0, 1, 0, 0, 0, 0, 0, 0, 0, 0, 0, 0, 0], [0, 0, 0, 0, 0, 0, 0, 0, 1, 0, 0, 0, 0, 0, 0, 0, 0, 0, 0, 1], [0, 0, 0, 0, 0, 0, 0, 0, 1, 0, 0, 0, 0, 0, 0, 0, 0, 0, 0, 1], [0, 0, 0, 0, 0, 0, 0, 0, 1, 0, 0, 0, 0, 1, 0, 0, 1, 0, 0, 0], [0, 0, 0, 0, 0, 0, 0, 0, 1, 0, 0, 0, 0, 0, 0, 0, 0, 0, 0, 0], [0, 0, 0, 0, 0, 0, 0, 0, 1, 0, 0, 0, 0, 0, 0, 0, 0, 0, 0, 0], [0, 0, 0, 0, 0, 0, 0, 0, 1, 0, 0, 0, 0, 0, 0, 1, 0, 0, 0, 0], [0, 0, 0, 0, 0, 0, 0, 0, 1, 0, 0, 0, 0, 0, 0, 0, 0, 0, 0, 0], [0, 0, 0, 0, 0, 0, 0, 0, 1, 0, 0, 0, 0, 1, 0, 0, 0, 0, 0, 0], [0, 0, 0, 0, 0, 0, 0, 0, 1, 0, 0, 0, 0, 0, 0, 0, 0, 0, 0, 1], [0, 0, 0, 0, 0, 0, 0, 0, 1, 0, 0, 0, 0, 0, 0, 0, 0, 0, 0, 0], [0, 0, 0, 0, 0, 0, 0, 0, 1, 0, 0, 0, 0, 0, 0, 0, 0, 0, 0, 0], [0, 0, 0, 0, 0, 0, 0, 0, 1, 0, 0, 0, 0, 0, 0, 0, 0, 1, 0, 0], [0, 0, 0, 0, 0, 0, 0, 0, 1, 0, 0, 0, 0, 0, 0, 0, 0, 0, 0, 0], [0, 0, 0, 0, 0, 0, 0, 0, 1, 1, 0, 1, 0, 0, 0, 0, 0, 0, 0, 0], [0, 0, 0, 0, 0, 0, 0, 0, 1, 0, 0, 0, 0, 0, 0, 0, 0, 0, 0, 0], [0, 0, 0, 0, 0, 0, 0, 0, 1, 0, 0, 0, 0, 0, 1, 0, 0, 0, 0, 0], [0, 0, 0, 0, 0, 0, 0, 0, 1, 0, 0, 0, 0, 0, 0, 0, 0, 0, 0, 0], [0, 0, 0, 0, 0, 0, 0, 0, 1, 0, 0, 0, 0, 0, 0, 0, 0, 0, 1, 0], [0, 0, 0, 0, 0, 0, 0, 0, 1, 0, 0, 0, 0, 0, 0, 1, 0, 0, 0, 0], [0, 0, 0, 0, 0, 0, 0, 0, 1, 0, 0, 0, 1, 0, 0, 0, 0, 0, 1, 0], [0, 0, 0, 0, 0, 0, 0, 0, 1, 0, 0, 0, 0, 0, 0, 0, 0, 0, 0, 0], [0, 0, 0, 0, 0, 0, 0, 0, 1, 0, 0, 0, 0, 0, 0, 0, 0, 0, 0, 0], [0, 0, 0, 0, 0, 0, 0, 0, 1, 0, 0, 0, 0, 0, 0, 0, 0, 0, 0, 0], [0, 0, 0, 0, 0, 0, 0, 0, 1, 0, 0, 0, 0, 0, 0, 0, 0, 0, 0, 0], [0, 0, 0, 0, 0, 0, 0, 0, 1, 1, 0, 0, 2, 0, 1, 0, 0, 0, 1, 0], [0, 0, 0, 0, 0, 0, 0, 0, 1, 0, 0, 0, 0, 0, 0, 0, 0, 0, 0, 1], [0, 0, 0, 0, 0, 0, 0, 0, 1, 0, 0, 0, 0, 0, 0, 0, 0, 0, 0, 0], [0, 0, 0, 0, 0, 0, 0, 0, 1, 0, 0, 0, 0, 0, 0, 0, 0, 0, 0, 0], [0, 0, 0, 0, 0, 0, 0, 0, 1, 0, 0, 0, 0, 0, 0, 0, 0, 0, 0, 0], [0, 0, 0, 0, 0, 0, 0, 0, 1, 0, 0, 0, 0, 0, 0, 0, 0, 0, 0, 0], [0, 0, 0, 0, 0, 0, 0, 0, 1, 0, 0, 0, 0, 0, 0, 0, 0, 0, 0, 0], [0, 0, 0, 0, 0, 0, 0, 0, 1, 0, 0, 0, 0, 0, 0, 0, 0, 0, 0, 0], [0, 0, 0, 0, 0, 0, 0, 0, 1, 0, 0, 0, 0, 0, 0, 0, 0, 0, 0, 0], [0, 0, 0, 0, 0, 0, 0, 0, 1, 0, 0, 0, 0, 0, 0, 0, 0, 0, 0, 0], [0, 0, 0, 0, 0, 0, 0, 0, 1, 0, 0, 0, 0, 0, 0, 1, 0, 0, 0, 0], [0, 0, 0, 0, 0, 0, 0, 0, 1, 0, 0, 0, 0, 0, 0, 0, 0, 0, 0, 0], [0, 0, 0, 0, 0, 0, 0, 0, 1, 0, 0, 0, 0, 0, 0, 0, 0, 0, 0, 0], [0, 0, 0, 0, 0, 0, 0, 0, 1, 0, 0, 0, 0, 0, 0, 0, 0, 0, 0, 0], [0, 0, 0, 0, 0, 0, 0, 0, 1, 0, 0, 0, 0, 0, 0, 0, 0, 0, 0, 0], [0, 0, 0, 0, 0, 0, 0, 0, 1, 0, 0, 0, 0, 0, 0, 0, 0, 0, 0, 0], [0, 0, 0, 0, 0, 0, 0, 0, 1, 0, 0, 0, 0, 1, 0, 0, 0, 0, 0, 0], [0, 0, 0, 0, 0, 0, 0, 0, 1, 0, 0, 0, 0, 0, 0, 0, 0, 0, 0, 0], [0, 0, 0, 0, 0, 0, 0, 0, 1, 0, 0, 1, 0, 0, 1, 0, 0, 0, 0, 0], [0, 0, 0, 0, 0, 0, 0, 0, 0, 1, 0, 0, 0, 0, 0, 0, 0, 0, 0, 0], [0, 0, 0, 0, 0, 0, 0, 0, 0, 1, 0, 0, 0, 0, 0, 0, 0, 0, 0, 0], [0, 0, 0, 0, 0, 0, 0, 0, 0, 1, 0, 0, 0, 0, 0, 0, 0, 0, 0, 0], [0, 0, 0, 0, 0, 0, 0, 0, 0, 1, 0, 0, 0, 0, 0, 0, 0, 0, 0, 0], [0, 0, 0, 0, 0, 0, 0, 0, 0, 1, 0, 0, 0, 0, 0, 0, 0, 0, 0, 0], [0, 0, 0, 0, 0, 0, 0, 0, 0, 1, 0, 0, 0, 0, 0, 0, 0, 0, 0, 0], [0, 0, 0, 0, 0, 0, 0, 0, 0, 1, 0, 0, 0, 0, 0, 0, 0, 0, 0, 0], [0, 0, 0, 0, 0, 0, 0, 0, 0, 1, 0, 0, 0, 0, 0, 0, 0, 0, 0, 0], [0, 0, 0, 0, 0, 0, 0, 0, 0, 1, 0, 0, 0, 0, 0, 0, 0, 0, 0, 0], [0, 0, 0, 0, 0, 0, 0, 0, 0, 1, 0, 0, 1, 0, 0, 0, 0, 0, 1, 0], [0, 0, 0, 0, 0, 0, 0, 0, 0, 1, 0, 0, 0, 0, 0, 0, 0, 0, 0, 0], [0, 0, 0, 0, 0, 0, 0, 0, 0, 1, 0, 0, 0, 0, 0, 0, 0, 0, 0, 0], [0, 0, 0, 0, 0, 0, 0, 0, 0, 1, 0, 0, 0, 0, 0, 0, 0, 0, 0, 0], [0, 0, 0, 0, 0, 0, 0, 0, 0, 1, 0, 0, 0, 0, 0, 0, 0, 0, 0, 0], [0, 0, 0, 0, 0, 0, 0, 0, 0, 1, 0, 0, 0, 1, 0, 0, 0, 0, 0, 0], [0, 0, 0, 0, 0, 0, 0, 0, 0, 2, 0, 0, 0, 0, 1, 0, 0, 0, 1, 0], [0, 0, 0, 0, 0, 0, 0, 0, 0, 1, 0, 0, 0, 0, 0, 0, 0, 0, 0, 0], [0, 0, 0, 0, 0, 0, 0, 0, 0, 1, 0, 0, 0, 0, 0, 0, 0, 0, 0, 0], [0, 0, 0, 0, 0, 0, 0, 0, 0, 1, 0, 0, 0, 0, 0, 0, 0, 0, 0, 0], [0, 0, 0, 0, 0, 0, 0, 0, 0, 1, 0, 0, 0, 0, 0, 0, 0, 0, 0, 0], [0, 0, 0, 0, 0, 0, 0, 0, 0, 1, 0, 0, 0, 0, 0, 0, 0, 0, 0, 0], [0, 0, 0, 0, 0, 0, 0, 0, 0, 1, 0, 0, 0, 0, 0, 0, 0, 2, 0, 0], [0, 0, 0, 0, 0, 0, 0, 0, 0, 1, 0, 0, 0, 0, 0, 0, 0, 0, 0, 0], [0, 0, 0, 0, 0, 0, 0, 0, 0, 1, 0, 0, 0, 0, 0, 0, 0, 0, 0, 0], [0, 0, 0, 0, 0, 0, 0, 0, 0, 1, 0, 0, 0, 0, 0, 0, 0, 0, 0, 0], [0, 0, 0, 0, 0, 0, 0, 0, 0, 1, 0, 0, 0, 0, 0, 0, 0, 0, 0, 0], [0, 0, 0, 0, 0, 0, 0, 0, 0, 1, 0, 0, 0, 0, 1, 0, 0, 0, 1, 0], [0, 0, 0, 0, 0, 0, 0, 0, 0, 1, 0, 0, 0, 0, 0, 0, 0, 0, 0, 0], [0, 0, 0, 0, 0, 0, 0, 0, 0, 1, 0, 0, 0, 0, 0, 0, 0, 0, 0, 0], [0, 0, 0, 0, 0, 0, 0, 0, 0, 1, 0, 0, 0, 0, 0, 0, 0, 0, 0, 0], [0, 0, 0, 0, 0, 0, 0, 0, 0, 1, 0, 0, 0, 0, 0, 0, 0, 0, 0, 0], [0, 0, 0, 0, 0, 0, 0, 0, 0, 1, 0, 0, 0, 0, 0, 0, 0, 1, 0, 0], [0, 0, 0, 0, 0, 0, 0, 0, 0, 1, 0, 0, 0, 0, 0, 0, 0, 0, 0, 0], [0, 0, 0, 0, 0, 0, 0, 0, 0, 1, 0, 0, 0, 0, 0, 0, 0, 0, 0, 0], [0, 0, 0, 0, 0, 0, 0, 0, 0, 1, 0, 0, 1, 0, 0, 0, 1, 0, 0, 0], [0, 0, 0, 0, 0, 0, 0, 0, 0, 1, 0, 0, 0, 0, 0, 0, 0, 0, 0, 0], [0, 0, 0, 0, 0, 0, 0, 0, 0, 1, 1, 0, 0, 0, 0, 0, 0, 0, 0, 0], [0, 0, 0, 0, 0, 0, 0, 0, 0, 2, 0, 0, 0, 0, 0, 0, 0, 0, 0, 0], [0, 0, 0, 0, 0, 0, 0, 0, 0, 1, 0, 0, 0, 0, 0, 0, 0, 0, 0, 0], [0, 0, 0, 0, 0, 0, 0, 0, 0, 1, 0, 0, 0, 0, 0, 0, 0, 0, 0, 0], [0, 0, 0, 0, 0, 0, 0, 0, 0, 1, 0, 0, 0, 0, 0, 0, 0, 0, 0, 0], [0, 0, 0, 0, 0, 0, 0, 0, 0, 1, 0, 0, 0, 0, 0, 0, 0, 0, 0, 0], [0, 0, 0, 0, 0, 0, 0, 0, 0, 1, 0, 0, 0, 0, 0, 0, 0, 0, 0, 0], [0, 0, 0, 0, 0, 0, 0, 0, 0, 1, 0, 0, 0, 0, 0, 0, 0, 0, 0, 0], [0, 0, 0, 0, 0, 0, 0, 0, 0, 1, 0, 0, 0, 0, 0, 0, 1, 0, 0, 0], [0, 0, 0, 0, 0, 0, 0, 0, 0, 1, 0, 0, 0, 0, 0, 0, 0, 0, 0, 0], [0, 0, 0, 0, 0, 0, 0, 0, 0, 0, 1, 0, 0, 0, 0, 0, 0, 1, 0, 0], [0, 0, 0, 0, 0, 0, 0, 0, 0, 0, 1, 0, 0, 0, 0, 0, 0, 0, 0, 0], [0, 0, 0, 0, 0, 0, 0, 0, 0, 0, 1, 0, 0, 0, 0, 0, 0, 0, 0, 0], [0, 0, 0, 0, 0, 0, 0, 0, 0, 0, 1, 0, 0, 0, 0, 0, 0, 0, 0, 0], [0, 0, 0, 0, 0, 0, 0, 0, 0, 0, 1, 0, 0, 0, 0, 0, 1, 0, 0, 0], [0, 0, 0, 0, 0, 0, 0, 0, 0, 0, 1, 0, 0, 0, 0, 0, 0, 0, 0, 0], [0, 0, 0, 0, 0, 0, 0, 0, 0, 0, 1, 0, 0, 0, 0, 0, 0, 0, 0, 0], [0, 0, 0, 0, 0, 0, 0, 0, 0, 0, 1, 0, 0, 0, 0, 0, 0, 0, 0, 0], [0, 0, 0, 0, 0, 0, 0, 0, 0, 0, 1, 0, 0, 0, 0, 0, 0, 0, 0, 0], [0, 0, 0, 0, 0, 0, 0, 0, 0, 0, 1, 0, 0, 0, 0, 0, 0, 0, 0, 0], [0, 0, 0, 0, 0, 0, 0, 0, 0, 0, 1, 0, 0, 0, 1, 0, 0, 0, 0, 0], [0, 0, 0, 0, 0, 0, 0, 0, 0, 0, 1, 0, 0, 0, 0, 0, 0, 0, 0, 0], [0, 0, 0, 0, 0, 0, 0, 0, 0, 0, 1, 0, 0, 0, 0, 0, 0, 0, 0, 0], [0, 0, 0, 0, 0, 0, 0, 0, 0, 0, 1, 0, 0, 0, 1, 0, 0, 0, 0, 0], [0, 0, 0, 0, 0, 0, 0, 0, 0, 0, 1, 0, 0, 0, 0, 0, 0, 0, 1, 0], [0, 0, 0, 0, 0, 0, 0, 0, 0, 0, 1, 0, 0, 0, 0, 0, 0, 0, 0, 0], [0, 0, 0, 0, 0, 0, 0, 0, 0, 0, 1, 0, 0, 0, 0, 0, 0, 0, 1, 0], [0, 0, 0, 0, 0, 0, 0, 0, 0, 0, 1, 0, 0, 0, 0, 0, 0, 0, 0, 0], [0, 0, 0, 0, 0, 0, 0, 0, 0, 0, 1, 0, 0, 1, 0, 1, 0, 0, 1, 0], [0, 0, 0, 0, 0, 0, 0, 0, 0, 0, 1, 0, 0, 0, 0, 0, 0, 0, 0, 0], [0, 0, 0, 0, 0, 0, 0, 0, 0, 0, 1, 0, 0, 1, 0, 0, 0, 0, 0, 0], [0, 0, 0, 0, 0, 0, 0, 0, 0, 0, 1, 0, 0, 0, 0, 0, 0, 0, 0, 0], [0, 0, 0, 0, 0, 0, 0, 0, 0, 0, 1, 0, 2, 0, 1, 0, 1, 0, 0, 0], [0, 0, 0, 0, 0, 0, 0, 0, 0, 0, 1, 0, 0, 0, 0, 0, 1, 0, 0, 0], [0, 0, 0, 0, 0, 0, 0, 0, 0, 0, 1, 0, 0, 0, 0, 0, 0, 0, 0, 0], [0, 0, 0, 0, 0, 0, 0, 0, 0, 0, 1, 0, 0, 0, 0, 0, 0, 0, 0, 0], [0, 0, 0, 0, 0, 0, 0, 0, 0, 0, 1, 0, 0, 0, 0, 0, 0, 0, 0, 0], [0, 0, 0, 0, 0, 0, 0, 0, 0, 0, 1, 0, 0, 1, 0, 0, 0, 0, 0, 0], [0, 0, 0, 0, 0, 0, 0, 0, 0, 0, 1, 0, 0, 0, 0, 0, 0, 0, 0, 0], [0, 0, 0, 0, 0, 0, 0, 0, 0, 0, 1, 0, 0, 0, 0, 0, 0, 0, 0, 0], [0, 0, 0, 0, 0, 0, 0, 0, 0, 0, 1, 1, 0, 1, 1, 0, 1, 0, 0, 0], [0, 0, 0, 0, 0, 0, 0, 0, 0, 0, 1, 0, 0, 0, 0, 0, 1, 0, 0, 1], [0, 0, 0, 0, 0, 0, 0, 0, 0, 0, 1, 0, 0, 0, 0, 0, 0, 0, 0, 0], [0, 0, 0, 0, 0, 0, 0, 0, 0, 0, 1, 0, 0, 0, 0, 0, 0, 0, 0, 1], [0, 0, 0, 0, 0, 0, 0, 0, 0, 0, 1, 0, 0, 0, 0, 0, 0, 0, 0, 0], [0, 0, 0, 0, 0, 0, 0, 0, 0, 0, 1, 0, 0, 0, 0, 0, 0, 0, 0, 0], [0, 0, 0, 0, 0, 0, 0, 0, 0, 0, 1, 0, 0, 0, 0, 0, 0, 0, 0, 0], [0, 0, 0, 0, 0, 0, 0, 0, 0, 0, 1, 0, 0, 0, 0, 0, 0, 0, 0, 0], [0, 0, 0, 0, 0, 0, 0, 0, 0, 0, 1, 0, 1, 0, 0, 0, 0, 0, 0, 1], [0, 0, 0, 0, 0, 0, 0, 0, 0, 0, 1, 0, 0, 0, 1, 0, 0, 0, 0, 0], [0, 0, 0, 0, 0, 0, 0, 0, 0, 0, 1, 1, 0, 0, 0, 0, 0, 0, 0, 0], [0, 0, 0, 0, 0, 0, 0, 0, 0, 0, 1, 0, 0, 0, 0, 0, 0, 0, 0, 0], [0, 0, 0, 0, 0, 0, 0, 0, 0, 0, 1, 0, 0, 0, 0, 0, 0, 0, 0, 0], [0, 0, 0, 0, 0, 0, 0, 0, 0, 0, 1, 0, 0, 0, 0, 0, 0, 0, 0, 0], [0, 0, 0, 0, 0, 0, 0, 0, 0, 0, 0, 1, 0, 0, 0, 0, 0, 0, 0, 0], [0, 0, 0, 0, 0, 0, 0, 0, 0, 0, 0, 1, 0, 0, 0, 0, 0, 0, 0, 0], [0, 0, 0, 0, 0, 0, 0, 0, 0, 0, 0, 2, 0, 1, 0, 0, 0, 0, 0, 0], [0, 0, 0, 0, 0, 0, 0, 0, 0, 0, 0, 1, 0, 0, 0, 0, 0, 0, 0, 0], [0, 0, 0, 0, 0, 0, 0, 0, 0, 0, 0, 1, 0, 1, 0, 0, 0, 0, 0, 0], [0, 0, 0, 0, 0, 0, 0, 0, 0, 0, 0, 1, 0, 0, 0, 0, 0, 0, 1, 0], [0, 0, 0, 0, 0, 0, 0, 0, 0, 0, 0, 1, 0, 0, 0, 0, 0, 0, 0, 0], [0, 0, 0, 0, 0, 0, 0, 0, 0, 0, 0, 1, 0, 0, 0, 0, 0, 0, 0, 0], [0, 0, 0, 0, 0, 0, 0, 0, 0, 0, 0, 1, 0, 0, 0, 0, 0, 0, 0, 1], [0, 0, 0, 0, 0, 0, 0, 0, 0, 0, 0, 1, 0, 0, 0, 0, 0, 0, 0, 0], [0, 0, 0, 0, 0, 0, 0, 0, 0, 0, 0, 1, 0, 0, 0, 0, 0, 0, 0, 0], [0, 0, 0, 0, 0, 0, 0, 0, 0, 0, 0, 1, 0, 0, 0, 0, 0, 0, 0, 0], [0, 0, 0, 0, 0, 0, 0, 0, 0, 0, 0, 1, 0, 0, 0, 0, 1, 0, 0, 0], [0, 0, 0, 0, 0, 0, 0, 0, 0, 0, 0, 1, 0, 0, 0, 0, 0, 0, 0, 0], [0, 0, 0, 0, 0, 0, 0, 0, 0, 0, 0, 1, 0, 0, 0, 0, 0, 0, 0, 0], [0, 0, 0, 0, 0, 0, 0, 0, 0, 0, 0, 1, 0, 0, 0, 0, 0, 0, 0, 0], [0, 0, 0, 0, 0, 0, 0, 0, 0, 0, 0, 1, 0, 0, 0, 0, 0, 0, 0, 0], [0, 0, 0, 0, 0, 0, 0, 0, 0, 0, 0, 1, 0, 0, 0, 0, 0, 0, 0, 0], [0, 0, 0, 0, 0, 0, 0, 0, 0, 0, 0, 1, 0, 0, 0, 0, 0, 0, 0, 0], [0, 0, 0, 0, 0, 0, 0, 0, 0, 0, 0, 1, 0, 0, 0, 0, 0, 0, 0, 0], [0, 0, 0, 0, 0, 0, 0, 0, 0, 0, 0, 1, 0, 0, 0, 0, 0, 0, 0, 0], [0, 0, 0, 0, 0, 0, 0, 0, 0, 0, 0, 1, 0, 1, 0, 0, 0, 0, 0, 0], [0, 0, 0, 0, 0, 0, 0, 0, 0, 0, 0, 1, 0, 0, 0, 0, 0, 0, 0, 0], [0, 0, 0, 0, 0, 0, 0, 0, 0, 0, 0, 1, 0, 0, 0, 0, 1, 0, 0, 0], [0, 0, 0, 0, 0, 0, 0, 0, 0, 0, 0, 1, 0, 0, 0, 0, 0, 0, 0, 0], [0, 0, 0, 0, 0, 0, 0, 0, 0, 0, 0, 1, 0, 0, 0, 0, 0, 1, 0, 0], [0, 0, 0, 0, 0, 0, 0, 0, 0, 0, 0, 1, 0, 0, 0, 0, 0, 0, 0, 0], [0, 0, 0, 0, 0, 0, 0, 0, 0, 0, 0, 1, 0, 0, 0, 0, 0, 0, 0, 0], [0, 0, 0, 0, 0, 0, 0, 0, 0, 0, 0, 1, 0, 0, 0, 0, 0, 0, 0, 0], [0, 0, 0, 0, 0, 0, 0, 0, 0, 0, 0, 1, 1, 0, 0, 0, 0, 0, 0, 0], [0, 0, 0, 0, 0, 0, 0, 0, 0, 0, 0, 1, 0, 0, 0, 0, 0, 0, 0, 0], [0, 0, 0, 0, 0, 0, 0, 0, 0, 0, 0, 1, 0, 0, 1, 0, 0, 0, 0, 0], [0, 0, 0, 0, 0, 0, 0, 0, 0, 0, 0, 0, 2, 0, 0, 0, 0, 0, 0, 0], [0, 0, 0, 0, 0, 0, 0, 0, 0, 0, 0, 0, 1, 0, 1, 0, 0, 0, 0, 0], [0, 0, 0, 0, 0, 0, 0, 0, 0, 0, 0, 0, 1, 0, 0, 0, 0, 0, 0, 0], [0, 0, 0, 0, 0, 0, 0, 0, 0, 0, 0, 0, 1, 0, 0, 0, 0, 0, 0, 0], [0, 0, 0, 0, 0, 0, 0, 0, 0, 0, 0, 0, 1, 0, 0, 0, 0, 0, 0, 0], [0, 0, 0, 0, 0, 0, 0, 0, 0, 0, 0, 0, 1, 0, 0, 0, 0, 0, 0, 0], [0, 0, 0, 0, 0, 0, 0, 0, 0, 0, 0, 0, 1, 0, 0, 0, 0, 0, 0, 0], [0, 0, 0, 0, 0, 0, 0, 0, 0, 0, 0, 0, 1, 0, 0, 0, 0, 0, 0, 0], [0, 0, 0, 0, 0, 0, 0, 0, 0, 0, 0, 0, 1, 0, 0, 0, 0, 0, 0, 0], [0, 0, 0, 0, 0, 0, 0, 0, 0, 0, 0, 0, 1, 0, 0, 0, 0, 0, 0, 0], [0, 0, 0, 0, 0, 0, 0, 0, 0, 0, 0, 0, 1, 1, 0, 0, 0, 0, 0, 0], [0, 0, 0, 0, 0, 0, 0, 0, 0, 0, 0, 0, 1, 0, 0, 0, 0, 0, 0, 0], [0, 0, 0, 0, 0, 0, 0, 0, 0, 0, 0, 0, 1, 0, 0, 0, 0, 0, 0, 0], [0, 0, 0, 0, 0, 0, 0, 0, 0, 0, 0, 0, 1, 0, 0, 0, 0, 1, 0, 0], [0, 0, 0, 0, 0, 0, 0, 0, 0, 0, 0, 0, 1, 0, 0, 0, 0, 0, 0, 0], [0, 0, 0, 0, 0, 0, 0, 0, 0, 0, 0, 0, 1, 0, 0, 0, 0, 0, 0, 0], [0, 0, 0, 0, 0, 0, 0, 0, 0, 0, 0, 0, 1, 0, 0, 0, 0, 0, 0, 0], [0, 0, 0, 0, 0, 0, 0, 0, 0, 0, 0, 0, 1, 0, 0, 0, 0, 0, 0, 0], [0, 0, 0, 0, 0, 0, 0, 0, 0, 0, 0, 0, 1, 1, 0, 0, 0, 0, 1, 0], [0, 0, 0, 0, 0, 0, 0, 0, 0, 0, 0, 0, 1, 0, 1, 1, 0, 0, 0, 0], [0, 0, 0, 0, 0, 0, 0, 0, 0, 0, 0, 0, 1, 0, 0, 0, 0, 0, 0, 0], [0, 0, 0, 0, 0, 0, 0, 0, 0, 0, 0, 0, 1, 0, 0, 0, 0, 0, 0, 0], [0, 0, 0, 0, 0, 0, 0, 0, 0, 0, 0, 0, 1, 0, 0, 0, 0, 0, 0, 0], [0, 0, 0, 0, 0, 0, 0, 0, 0, 0, 0, 0, 1, 0, 0, 0, 0, 0, 0, 0], [0, 0, 0, 0, 0, 0, 0, 0, 0, 0, 0, 0, 1, 0, 0, 0, 0, 0, 0, 0], [0, 0, 0, 0, 0, 0, 0, 0, 0, 0, 0, 0, 1, 0, 0, 0, 0, 0, 0, 0], [0, 0, 0, 0, 0, 0, 0, 0, 0, 0, 0, 0, 1, 0, 1, 0, 0, 0, 0, 0], [0, 0, 0, 0, 0, 0, 0, 0, 0, 0, 0, 0, 1, 0, 0, 0, 0, 0, 0, 0], [0, 0, 0, 0, 0, 0, 0, 0, 0, 0, 0, 0, 1, 0, 0, 0, 0, 0, 0, 0], [0, 0, 0, 0, 0, 0, 0, 0, 0, 0, 0, 0, 1, 0, 0, 0, 0, 0, 0, 0], [0, 0, 0, 0, 0, 0, 0, 0, 0, 0, 0, 0, 1, 0, 0, 0, 0, 0, 0, 0], [0, 0, 0, 0, 0, 0, 0, 0, 0, 0, 0, 0, 1, 0, 0, 0, 0, 0, 0, 0], [0, 0, 0, 0, 0, 0, 0, 0, 0, 0, 0, 0, 1, 0, 1, 0, 1, 0, 0, 0], [0, 0, 0, 0, 0, 0, 0, 0, 0, 0, 0, 0, 1, 0, 0, 0, 0, 0, 0, 0], [0, 0, 0, 0, 0, 0, 0, 0, 0, 0, 0, 0, 1, 0, 0, 0, 0, 0, 0, 0], [0, 0, 0, 0, 0, 0, 0, 0, 0, 0, 0, 0, 1, 0, 0, 0, 0, 0, 1, 0], [0, 0, 0, 0, 0, 0, 0, 0, 0, 0, 0, 0, 1, 0, 0, 0, 0, 0, 0, 0], [0, 0, 0, 0, 0, 0, 0, 0, 0, 0, 0, 0, 0, 2, 0, 0, 0, 0, 0, 0], [0, 0, 0, 0, 0, 0, 0, 0, 0, 0, 0, 0, 0, 1, 0, 0, 0, 0, 0, 0], [0, 0, 0, 0, 0, 0, 0, 0, 0, 0, 0, 0, 0, 3, 0, 0, 0, 0, 0, 0], [0, 0, 0, 0, 0, 0, 0, 0, 0, 0, 0, 0, 0, 2, 0, 0, 0, 0, 0, 1], [0, 0, 0, 0, 0, 0, 0, 0, 0, 0, 0, 0, 0, 1, 0, 0, 0, 0, 0, 0], [0, 0, 0, 0, 0, 0, 0, 0, 0, 0, 0, 0, 0, 1, 0, 0, 0, 0, 0, 0], [0, 0, 0, 0, 0, 0, 0, 0, 0, 0, 0, 0, 0, 1, 0, 0, 0, 0, 0, 0], [0, 0, 0, 0, 0, 0, 0, 0, 0, 0, 0, 0, 0, 1, 0, 0, 0, 0, 1, 0], [0, 0, 0, 0, 0, 0, 0, 0, 0, 0, 0, 0, 0, 1, 0, 0, 0, 0, 0, 0], [0, 0, 0, 0, 0, 0, 0, 0, 0, 0, 0, 0, 0, 1, 0, 0, 0, 0, 0, 0], [0, 0, 0, 0, 0, 0, 0, 0, 0, 0, 0, 0, 0, 1, 0, 0, 0, 0, 0, 0], [0, 0, 0, 0, 0, 0, 0, 0, 0, 0, 0, 0, 0, 1, 0, 0, 1, 0, 0, 0], [0, 0, 0, 0, 0, 0, 0, 0, 0, 0, 0, 0, 0, 1, 0, 0, 0, 0, 0, 1], [0, 0, 0, 0, 0, 0, 0, 0, 0, 0, 0, 0, 0, 1, 0, 0, 0, 0, 0, 0], [0, 0, 0, 0, 0, 0, 0, 0, 0, 0, 0, 0, 0, 1, 0, 0, 0, 0, 0, 0], [0, 0, 0, 0, 0, 0, 0, 0, 0, 0, 0, 0, 0, 1, 0, 0, 0, 0, 0, 0], [0, 0, 0, 0, 0, 0, 0, 0, 0, 0, 0, 0, 0, 1, 0, 0, 0, 0, 0, 0], [0, 0, 0, 0, 0, 0, 0, 0, 0, 0, 0, 0, 0, 1, 0, 0, 0, 0, 0, 0], [0, 0, 0, 0, 0, 0, 0, 0, 0, 0, 0, 0, 0, 1, 0, 1, 0, 0, 0, 0], [0, 0, 0, 0, 0, 0, 0, 0, 0, 0, 0, 0, 0, 1, 0, 0, 0, 0, 0, 0], [0, 0, 0, 0, 0, 0, 0, 0, 0, 0, 0, 0, 0, 1, 0, 0, 0, 0, 0, 0], [0, 0, 0, 0, 0, 0, 0, 0, 0, 0, 0, 0, 0, 1, 0, 0, 0, 0, 0, 0], [0, 0, 0, 0, 0, 0, 0, 0, 0, 0, 0, 0, 0, 1, 0, 0, 0, 0, 0, 0], [0, 0, 0, 0, 0, 0, 0, 0, 0, 0, 0, 0, 0, 1, 1, 0, 0, 0, 0, 0], [0, 0, 0, 0, 0, 0, 0, 0, 0, 0, 0, 0, 0, 1, 0, 0, 0, 0, 0, 0], [0, 0, 0, 0, 0, 0, 0, 0, 0, 0, 0, 0, 0, 1, 0, 0, 0, 0, 0, 0], [0, 0, 0, 0, 0, 0, 0, 0, 0, 0, 0, 0, 0, 1, 0, 0, 0, 0, 0, 0], [0, 0, 0, 0, 0, 0, 0, 0, 0, 0, 0, 0, 0, 1, 0, 0, 0, 0, 0, 0], [0, 0, 0, 0, 0, 0, 0, 0, 0, 0, 0, 0, 0, 1, 0, 0, 0, 0, 0, 0], [0, 0, 0, 0, 0, 0, 0, 0, 0, 0, 0, 0, 0, 1, 0, 0, 0, 0, 0, 0], [0, 0, 0, 0, 0, 0, 0, 0, 0, 0, 0, 0, 0, 1, 1, 0, 0, 0, 0, 0], [0, 0, 0, 0, 0, 0, 0, 0, 0, 0, 0, 0, 0, 1, 0, 0, 0, 0, 0, 0], [0, 0, 0, 0, 0, 0, 0, 0, 0, 0, 0, 0, 0, 1, 0, 0, 0, 0, 0, 0], [0, 0, 0, 0, 0, 0, 0, 0, 0, 0, 0, 0, 0, 1, 0, 0, 0, 0, 0, 0], [0, 0, 0, 0, 0, 0, 0, 0, 0, 0, 0, 0, 0, 1, 0, 0, 0, 0, 0, 0], [0, 0, 0, 0, 0, 0, 0, 0, 0, 0, 0, 0, 0, 1, 0, 0, 0, 0, 0, 0], [0, 0, 0, 0, 0, 0, 0, 0, 0, 0, 0, 0, 0, 1, 0, 0, 0, 0, 0, 0], [0, 0, 0, 0, 0, 0, 0, 0, 0, 0, 0, 0, 0, 1, 0, 0, 0, 0, 0, 0], [0, 0, 0, 0, 0, 0, 0, 0, 0, 0, 0, 0, 0, 1, 0, 0, 0, 0, 0, 0], [0, 0, 0, 0, 0, 0, 0, 0, 0, 0, 0, 0, 0, 0, 1, 0, 0, 0, 0, 0], [0, 0, 0, 0, 0, 0, 0, 0, 0, 0, 0, 0, 0, 0, 1, 0, 0, 0, 0, 0], [0, 0, 0, 0, 0, 0, 0, 0, 0, 0, 0, 0, 0, 0, 1, 0, 0, 0, 0, 0], [0, 0, 0, 0, 0, 0, 0, 0, 0, 0, 0, 0, 0, 0, 1, 0, 0, 0, 0, 0], [0, 0, 0, 0, 0, 0, 0, 0, 0, 0, 0, 0, 0, 0, 2, 0, 0, 0, 0, 0], [0, 0, 0, 0, 0, 0, 0, 0, 0, 0, 0, 0, 0, 0, 1, 0, 0, 0, 0, 0], [0, 0, 0, 0, 0, 0, 0, 0, 0, 0, 0, 0, 0, 0, 1, 0, 0, 0, 0, 0], [0, 0, 0, 0, 0, 0, 0, 0, 0, 0, 0, 0, 0, 0, 1, 0, 0, 0, 0, 0], [0, 0, 0, 0, 0, 0, 0, 0, 0, 0, 0, 0, 0, 0, 1, 0, 0, 0, 0, 0], [0, 0, 0, 0, 0, 0, 0, 0, 0, 0, 0, 0, 0, 0, 1, 0, 0, 0, 0, 0], [0, 0, 0, 0, 0, 0, 0, 0, 0, 0, 0, 0, 0, 0, 1, 0, 0, 0, 0, 0], [0, 0, 0, 0, 0, 0, 0, 0, 0, 0, 0, 0, 0, 0, 1, 0, 0, 0, 0, 0], [0, 0, 0, 0, 0, 0, 0, 0, 0, 0, 0, 0, 0, 0, 1, 0, 0, 0, 0, 0], [0, 0, 0, 0, 0, 0, 0, 0, 0, 0, 0, 0, 0, 0, 1, 0, 0, 0, 0, 0], [0, 0, 0, 0, 0, 0, 0, 0, 0, 0, 0, 0, 0, 0, 1, 0, 0, 0, 0, 0], [0, 0, 0, 0, 0, 0, 0, 0, 0, 0, 0, 0, 0, 0, 1, 0, 0, 0, 0, 0], [0, 0, 0, 0, 0, 0, 0, 0, 0, 0, 0, 0, 0, 0, 1, 0, 0, 0, 1, 1], [0, 0, 0, 0, 0, 0, 0, 0, 0, 0, 0, 0, 0, 0, 1, 0, 0, 0, 0, 0], [0, 0, 0, 0, 0, 0, 0, 0, 0, 0, 0, 0, 0, 0, 1, 0, 0, 0, 0, 0], [0, 0, 0, 0, 0, 0, 0, 0, 0, 0, 0, 0, 0, 0, 1, 0, 0, 0, 0, 0], [0, 0, 0, 0, 0, 0, 0, 0, 0, 0, 0, 0, 0, 0, 1, 0, 0, 0, 0, 0], [0, 0, 0, 0, 0, 0, 0, 0, 0, 0, 0, 0, 0, 0, 1, 0, 0, 0, 0, 0], [0, 0, 0, 0, 0, 0, 0, 0, 0, 0, 0, 0, 0, 0, 1, 0, 0, 0, 0, 0], [0, 0, 0, 0, 0, 0, 0, 0, 0, 0, 0, 0, 0, 0, 1, 1, 0, 0, 0, 0], [0, 0, 0, 0, 0, 0, 0, 0, 0, 0, 0, 0, 0, 0, 1, 1, 0, 0, 0, 0], [0, 0, 0, 0, 0, 0, 0, 0, 0, 0, 0, 0, 0, 0, 1, 0, 0, 0, 0, 0], [0, 0, 0, 0, 0, 0, 0, 0, 0, 0, 0, 0, 0, 0, 1, 0, 0, 0, 0, 0], [0, 0, 0, 0, 0, 0, 0, 0, 0, 0, 0, 0, 0, 0, 1, 0, 0, 0, 0, 0], [0, 0, 0, 0, 0, 0, 0, 0, 0, 0, 0, 0, 0, 0, 1, 0, 0, 0, 0, 0], [0, 0, 0, 0, 0, 0, 0, 0, 0, 0, 0, 0, 0, 0, 0, 1, 0, 0, 0, 0], [0, 0, 0, 0, 0, 0, 0, 0, 0, 0, 0, 0, 0, 0, 0, 1, 0, 0, 0, 0], [0, 0, 0, 0, 0, 0, 0, 0, 0, 0, 0, 0, 0, 0, 0, 1, 0, 0, 0, 1], [0, 0, 0, 0, 0, 0, 0, 0, 0, 0, 0, 0, 0, 0, 0, 1, 0, 0, 0, 0], [0, 0, 0, 0, 0, 0, 0, 0, 0, 0, 0, 0, 0, 0, 0, 1, 0, 0, 0, 0], [0, 0, 0, 0, 0, 0, 0, 0, 0, 0, 0, 0, 0, 0, 0, 1, 0, 0, 0, 1], [0, 0, 0, 0, 0, 0, 0, 0, 0, 0, 0, 0, 0, 0, 0, 1, 0, 0, 0, 0], [0, 0, 0, 0, 0, 0, 0, 0, 0, 0, 0, 0, 0, 0, 0, 1, 0, 0, 0, 0], [0, 0, 0, 0, 0, 0, 0, 0, 0, 0, 0, 0, 0, 0, 0, 1, 0, 0, 0, 0], [0, 0, 0, 0, 0, 0, 0, 0, 0, 0, 0, 0, 0, 0, 0, 1, 0, 0, 0, 1], [0, 0, 0, 0, 0, 0, 0, 0, 0, 0, 0, 0, 0, 0, 0, 1, 1, 0, 0, 0], [0, 0, 0, 0, 0, 0, 0, 0, 0, 0, 0, 0, 0, 0, 0, 1, 0, 0, 0, 0], [0, 0, 0, 0, 0, 0, 0, 0, 0, 0, 0, 0, 0, 0, 0, 2, 0, 0, 0, 0], [0, 0, 0, 0, 0, 0, 0, 0, 0, 0, 0, 0, 0, 0, 0, 1, 0, 0, 0, 0], [0, 0, 0, 0, 0, 0, 0, 0, 0, 0, 0, 0, 0, 0, 0, 1, 0, 0, 0, 0], [0, 0, 0, 0, 0, 0, 0, 0, 0, 0, 0, 0, 0, 0, 0, 1, 0, 0, 0, 1], [0, 0, 0, 0, 0, 0, 0, 0, 0, 0, 0, 0, 0, 0, 0, 1, 0, 0, 0, 0], [0, 0, 0, 0, 0, 0, 0, 0, 0, 0, 0, 0, 0, 0, 0, 1, 0, 0, 0, 0], [0, 0, 0, 0, 0, 0, 0, 0, 0, 0, 0, 0, 0, 0, 0, 1, 0, 0, 0, 0], [0, 0, 0, 0, 0, 0, 0, 0, 0, 0, 0, 0, 0, 0, 0, 1, 0, 0, 1, 0], [0, 0, 0, 0, 0, 0, 0, 0, 0, 0, 0, 0, 0, 0, 0, 1, 0, 0, 0, 0], [0, 0, 0, 0, 0, 0, 0, 0, 0, 0, 0, 0, 0, 0, 0, 1, 0, 0, 1, 0], [0, 0, 0, 0, 0, 0, 0, 0, 0, 0, 0, 0, 0, 0, 0, 1, 0, 0, 0, 0], [0, 0, 0, 0, 0, 0, 0, 0, 0, 0, 0, 0, 0, 0, 0, 1, 0, 0, 0, 0], [0, 0, 0, 0, 0, 0, 0, 0, 0, 0, 0, 0, 0, 0, 0, 1, 0, 0, 0, 0], [0, 0, 0, 0, 0, 0, 0, 0, 0, 0, 0, 0, 0, 0, 0, 1, 0, 0, 0, 0], [0, 0, 0, 0, 0, 0, 0, 0, 0, 0, 0, 0, 0, 0, 0, 1, 0, 0, 0, 0], [0, 0, 0, 0, 0, 0, 0, 0, 0, 0, 0, 0, 0, 0, 0, 1, 0, 0, 0, 0], [0, 0, 0, 0, 0, 0, 0, 0, 0, 0, 0, 0, 0, 0, 0, 1, 0, 0, 0, 0], [0, 0, 0, 0, 0, 0, 0, 0, 0, 0, 0, 0, 0, 0, 0, 1, 0, 0, 0, 0], [0, 0, 0, 0, 0, 0, 0, 0, 0, 0, 0, 0, 0, 0, 0, 1, 0, 0, 0, 0], [0, 0, 0, 0, 0, 0, 0, 0, 0, 0, 0, 0, 0, 0, 0, 1, 0, 0, 0, 0], [0, 0, 0, 0, 0, 0, 0, 0, 0, 0, 0, 0, 0, 0, 0, 1, 0, 0, 0, 0], [0, 0, 0, 0, 0, 0, 0, 0, 0, 0, 0, 0, 0, 0, 0, 1, 0, 0, 0, 0], [0, 0, 0, 0, 0, 0, 0, 0, 0, 0, 0, 0, 0, 0, 0, 1, 0, 0, 0, 0], [0, 0, 0, 0, 0, 0, 0, 0, 0, 0, 0, 0, 0, 0, 0, 1, 0, 0, 0, 0], [0, 0, 0, 0, 0, 0, 0, 0, 0, 0, 0, 0, 0, 0, 0, 1, 0, 0, 0, 1], [0, 0, 0, 0, 0, 0, 0, 0, 0, 0, 0, 0, 0, 0, 0, 1, 0, 0, 0, 1], [0, 0, 0, 0, 0, 0, 0, 0, 0, 0, 0, 0, 0, 0, 0, 1, 0, 0, 0, 0], [0, 0, 0, 0, 0, 0, 0, 0, 0, 0, 0, 0, 0, 0, 0, 1, 0, 0, 0, 0], [0, 0, 0, 0, 0, 0, 0, 0, 0, 0, 0, 0, 0, 0, 0, 0, 1, 0, 0, 0], [0, 0, 0, 0, 0, 0, 0, 0, 0, 0, 0, 0, 0, 0, 0, 0, 1, 0, 0, 0], [0, 0, 0, 0, 0, 0, 0, 0, 0, 0, 0, 0, 0, 0, 0, 0, 1, 0, 0, 0], [0, 0, 0, 0, 0, 0, 0, 0, 0, 0, 0, 0, 0, 0, 0, 0, 1, 0, 0, 0], [0, 0, 0, 0, 0, 0, 0, 0, 0, 0, 0, 0, 0, 0, 0, 0, 1, 0, 0, 0], [0, 0, 0, 0, 0, 0, 0, 0, 0, 0, 0, 0, 0, 0, 0, 0, 1, 0, 0, 0], [0, 0, 0, 0, 0, 0, 0, 0, 0, 0, 0, 0, 0, 0, 0, 0, 1, 0, 0, 0], [0, 0, 0, 0, 0, 0, 0, 0, 0, 0, 0, 0, 0, 0, 0, 0, 1, 0, 0, 0], [0, 0, 0, 0, 0, 0, 0, 0, 0, 0, 0, 0, 0, 0, 0, 0, 1, 0, 0, 0], [0, 0, 0, 0, 0, 0, 0, 0, 0, 0, 0, 0, 0, 0, 0, 0, 2, 0, 0, 0], [0, 0, 0, 0, 0, 0, 0, 0, 0, 0, 0, 0, 0, 0, 0, 0, 1, 1, 0, 0], [0, 0, 0, 0, 0, 0, 0, 0, 0, 0, 0, 0, 0, 0, 0, 0, 1, 0, 0, 0], [0, 0, 0, 0, 0, 0, 0, 0, 0, 0, 0, 0, 0, 0, 0, 0, 1, 0, 0, 0], [0, 0, 0, 0, 0, 0, 0, 0, 0, 0, 0, 0, 0, 0, 0, 0, 1, 0, 0, 0], [0, 0, 0, 0, 0, 0, 0, 0, 0, 0, 0, 0, 0, 0, 0, 0, 1, 0, 0, 0], [0, 0, 0, 0, 0, 0, 0, 0, 0, 0, 0, 0, 0, 0, 0, 0, 1, 0, 0, 0], [0, 0, 0, 0, 0, 0, 0, 0, 0, 0, 0, 0, 0, 0, 0, 0, 1, 0, 0, 0], [0, 0, 0, 0, 0, 0, 0, 0, 0, 0, 0, 0, 0, 0, 0, 0, 1, 0, 0, 0], [0, 0, 0, 0, 0, 0, 0, 0, 0, 0, 0, 0, 0, 0, 0, 0, 1, 0, 0, 0], [0, 0, 0, 0, 0, 0, 0, 0, 0, 0, 0, 0, 0, 0, 0, 0, 1, 1, 0, 0], [0, 0, 0, 0, 0, 0, 0, 0, 0, 0, 0, 0, 0, 0, 0, 0, 1, 0, 0, 0], [0, 0, 0, 0, 0, 0, 0, 0, 0, 0, 0, 0, 0, 0, 0, 0, 1, 0, 0, 0], [0, 0, 0, 0, 0, 0, 0, 0, 0, 0, 0, 0, 0, 0, 0, 0, 1, 1, 0, 0], [0, 0, 0, 0, 0, 0, 0, 0, 0, 0, 0, 0, 0, 0, 0, 0, 1, 0, 0, 0], [0, 0, 0, 0, 0, 0, 0, 0, 0, 0, 0, 0, 0, 0, 0, 0, 1, 0, 0, 0], [0, 0, 0, 0, 0, 0, 0, 0, 0, 0, 0, 0, 0, 0, 0, 0, 1, 0, 0, 0], [0, 0, 0, 0, 0, 0, 0, 0, 0, 0, 0, 0, 0, 0, 0, 0, 1, 0, 0, 0], [0, 0, 0, 0, 0, 0, 0, 0, 0, 0, 0, 0, 0, 0, 0, 0, 1, 0, 0, 0], [0, 0, 0, 0, 0, 0, 0, 0, 0, 0, 0, 0, 0, 0, 0, 0, 1, 0, 0, 0], [0, 0, 0, 0, 0, 0, 0, 0, 0, 0, 0, 0, 0, 0, 0, 0, 1, 0, 1, 0], [0, 0, 0, 0, 0, 0, 0, 0, 0, 0, 0, 0, 0, 0, 0, 0, 1, 0, 0, 0], [0, 0, 0, 0, 0, 0, 0, 0, 0, 0, 0, 0, 0, 0, 0, 0, 1, 1, 0, 0], [0, 0, 0, 0, 0, 0, 0, 0, 0, 0, 0, 0, 0, 0, 0, 0, 1, 1, 0, 0], [0, 0, 0, 0, 0, 0, 0, 0, 0, 0, 0, 0, 0, 0, 0, 0, 1, 0, 0, 0], [0, 0, 0, 0, 0, 0, 0, 0, 0, 0, 0, 0, 0, 0, 0, 0, 1, 0, 0, 0], [0, 0, 0, 0, 0, 0, 0, 0, 0, 0, 0, 0, 0, 0, 0, 0, 0, 1, 0, 1], [0, 0, 0, 0, 0, 0, 0, 0, 0, 0, 0, 0, 0, 0, 0, 0, 0, 1, 0, 0], [0, 0, 0, 0, 0, 0, 0, 0, 0, 0, 0, 0, 0, 0, 0, 0, 0, 1, 0, 0], [0, 0, 0, 0, 0, 0, 0, 0, 0, 0, 0, 0, 0, 0, 0, 0, 0, 1, 0, 0], [0, 0, 0, 0, 0, 0, 0, 0, 0, 0, 0, 0, 0, 0, 0, 0, 0, 1, 0, 0], [0, 0, 0, 0, 0, 0, 0, 0, 0, 0, 0, 0, 0, 0, 0, 0, 0, 1, 0, 0], [0, 0, 0, 0, 0, 0, 0, 0, 0, 0, 0, 0, 0, 0, 0, 0, 0, 1, 1, 0], [0, 0, 0, 0, 0, 0, 0, 0, 0, 0, 0, 0, 0, 0, 0, 0, 0, 1, 0, 0], [0, 0, 0, 0, 0, 0, 0, 0, 0, 0, 0, 0, 0, 0, 0, 0, 0, 1, 0, 0], [0, 0, 0, 0, 0, 0, 0, 0, 0, 0, 0, 0, 0, 0, 0, 0, 0, 1, 0, 0], [0, 0, 0, 0, 0, 0, 0, 0, 0, 0, 0, 0, 0, 0, 0, 0, 0, 1, 0, 0], [0, 0, 0, 0, 0, 0, 0, 0, 0, 0, 0, 0, 0, 0, 0, 0, 0, 1, 0, 0], [0, 0, 0, 0, 0, 0, 0, 0, 0, 0, 0, 0, 0, 0, 0, 0, 0, 1, 0, 0], [0, 0, 0, 0, 0, 0, 0, 0, 0, 0, 0, 0, 0, 0, 0, 0, 0, 1, 0, 0], [0, 0, 0, 0, 0, 0, 0, 0, 0, 0, 0, 0, 0, 0, 0, 0, 0, 1, 0, 0], [0, 0, 0, 0, 0, 0, 0, 0, 0, 0, 0, 0, 0, 0, 0, 0, 0, 1, 0, 0], [0, 0, 0, 0, 0, 0, 0, 0, 0, 0, 0, 0, 0, 0, 0, 0, 0, 1, 0, 0], [0, 0, 0, 0, 0, 0, 0, 0, 0, 0, 0, 0, 0, 0, 0, 0, 0, 1, 0, 0], [0, 0, 0, 0, 0, 0, 0, 0, 0, 0, 0, 0, 0, 0, 0, 0, 0, 1, 0, 0], [0, 0, 0, 0, 0, 0, 0, 0, 0, 0, 0, 0, 0, 0, 0, 0, 0, 1, 0, 0], [0, 0, 0, 0, 0, 0, 0, 0, 0, 0, 0, 0, 0, 0, 0, 0, 0, 1, 0, 0], [0, 0, 0, 0, 0, 0, 0, 0, 0, 0, 0, 0, 0, 0, 0, 0, 0, 1, 0, 0], [0, 0, 0, 0, 0, 0, 0, 0, 0, 0, 0, 0, 0, 0, 0, 0, 0, 1, 0, 0], [0, 0, 0, 0, 0, 0, 0, 0, 0, 0, 0, 0, 0, 0, 0, 0, 0, 1, 0, 0], [0, 0, 0, 0, 0, 0, 0, 0, 0, 0, 0, 0, 0, 0, 0, 0, 0, 1, 0, 0], [0, 0, 0, 0, 0, 0, 0, 0, 0, 0, 0, 0, 0, 0, 0, 0, 0, 1, 0, 0], [0, 0, 0, 0, 0, 0, 0, 0, 0, 0, 0, 0, 0, 0, 0, 0, 0, 1, 0, 0], [0, 0, 0, 0, 0, 0, 0, 0, 0, 0, 0, 0, 0, 0, 0, 0, 0, 1, 1, 0], [0, 0, 0, 0, 0, 0, 0, 0, 0, 0, 0, 0, 0, 0, 0, 0, 0, 1, 0, 0], [0, 0, 0, 0, 0, 0, 0, 0, 0, 0, 0, 0, 0, 0, 0, 0, 0, 1, 0, 0], [0, 0, 0, 0, 0, 0, 0, 0, 0, 0, 0, 0, 0, 0, 0, 0, 0, 0, 1, 0], [0, 0, 0, 0, 0, 0, 0, 0, 0, 0, 0, 0, 0, 0, 0, 0, 0, 0, 1, 0], [0, 0, 0, 0, 0, 0, 0, 0, 0, 0, 0, 0, 0, 0, 0, 0, 0, 0, 1, 0], [0, 0, 0, 0, 0, 0, 0, 0, 0, 0, 0, 0, 0, 0, 0, 0, 0, 0, 1, 0], [0, 0, 0, 0, 0, 0, 0, 0, 0, 0, 0, 0, 0, 0, 0, 0, 0, 0, 1, 0], [0, 0, 0, 0, 0, 0, 0, 0, 0, 0, 0, 0, 0, 0, 0, 0, 0, 0, 1, 0], [0, 0, 0, 0, 0, 0, 0, 0, 0, 0, 0, 0, 0, 0, 0, 0, 0, 0, 1, 0], [0, 0, 0, 0, 0, 0, 0, 0, 0, 0, 0, 0, 0, 0, 0, 0, 0, 0, 1, 0], [0, 0, 0, 0, 0, 0, 0, 0, 0, 0, 0, 0, 0, 0, 0, 0, 0, 0, 1, 0], [0, 0, 0, 0, 0, 0, 0, 0, 0, 0, 0, 0, 0, 0, 0, 0, 0, 0, 1, 0], [0, 0, 0, 0, 0, 0, 0, 0, 0, 0, 0, 0, 0, 0, 0, 0, 0, 0, 1, 0], [0, 0, 0, 0, 0, 0, 0, 0, 0, 0, 0, 0, 0, 0, 0, 0, 0, 0, 1, 0], [0, 0, 0, 0, 0, 0, 0, 0, 0, 0, 0, 0, 0, 0, 0, 0, 0, 0, 1, 0], [0, 0, 0, 0, 0, 0, 0, 0, 0, 0, 0, 0, 0, 0, 0, 0, 0, 0, 1, 0], [0, 0, 0, 0, 0, 0, 0, 0, 0, 0, 0, 0, 0, 0, 0, 0, 0, 0, 1, 0], [0, 0, 0, 0, 0, 0, 0, 0, 0, 0, 0, 0, 0, 0, 0, 0, 0, 0, 1, 0], [0, 0, 0, 0, 0, 0, 0, 0, 0, 0, 0, 0, 0, 0, 0, 0, 0, 0, 1, 0], [0, 0, 0, 0, 0, 0, 0, 0, 0, 0, 0, 0, 0, 0, 0, 0, 0, 0, 1, 0], [0, 0, 0, 0, 0, 0, 0, 0, 0, 0, 0, 0, 0, 0, 0, 0, 0, 0, 1, 0], [0, 0, 0, 0, 0, 0, 0, 0, 0, 0, 0, 0, 0, 0, 0, 0, 0, 0, 1, 0], [0, 0, 0, 0, 0, 0, 0, 0, 0, 0, 0, 0, 0, 0, 0, 0, 0, 0, 1, 0], [0, 0, 0, 0, 0, 0, 0, 0, 0, 0, 0, 0, 0, 0, 0, 0, 0, 0, 1, 0], [0, 0, 0, 0, 0, 0, 0, 0, 0, 0, 0, 0, 0, 0, 0, 0, 0, 0, 1, 0], [0, 0, 0, 0, 0, 0, 0, 0, 0, 0, 0, 0, 0, 0, 0, 0, 0, 0, 1, 0], [0, 0, 0, 0, 0, 0, 0, 0, 0, 0, 0, 0, 0, 0, 0, 0, 0, 0, 1, 0], [0, 0, 0, 0, 0, 0, 0, 0, 0, 0, 0, 0, 0, 0, 0, 0, 0, 0, 1, 0], [0, 0, 0, 0, 0, 0, 0, 0, 0, 0, 0, 0, 0, 0, 0, 0, 0, 0, 1, 0], [0, 0, 0, 0, 0, 0, 0, 0, 0, 0, 0, 0, 0, 0, 0, 0, 0, 0, 1, 1], [0, 0, 0, 0, 0, 0, 0, 0, 0, 0, 0, 0, 0, 0, 0, 0, 0, 0, 1, 0], [0, 0, 0, 0, 0, 0, 0, 0, 0, 0, 0, 0, 0, 0, 0, 0, 0, 0, 1, 0], [0, 0, 0, 0, 0, 0, 0, 0, 0, 0, 0, 0, 0, 0, 0, 0, 0, 0, 0, 1], [0, 0, 0, 0, 0, 0, 0, 0, 0, 0, 0, 0, 0, 0, 0, 0, 0, 0, 0, 1], [0, 0, 0, 0, 0, 0, 0, 0, 0, 0, 0, 0, 0, 0, 0, 0, 0, 0, 0, 1], [0, 0, 0, 0, 0, 0, 0, 0, 0, 0, 0, 0, 0, 0, 0, 0, 0, 0, 0, 1], [0, 0, 0, 0, 0, 0, 0, 0, 0, 0, 0, 0, 0, 0, 0, 0, 0, 0, 0, 1], [0, 0, 0, 0, 0, 0, 0, 0, 0, 0, 0, 0, 0, 0, 0, 0, 0, 0, 0, 1], [0, 0, 0, 0, 0, 0, 0, 0, 0, 0, 0, 0, 0, 0, 0, 0, 0, 0, 0, 1], [0, 0, 0, 0, 0, 0, 0, 0, 0, 0, 0, 0, 0, 0, 0, 0, 0, 0, 0, 1], [0, 0, 0, 0, 0, 0, 0, 0, 0, 0, 0, 0, 0, 0, 0, 0, 0, 0, 0, 1], [0, 0, 0, 0, 0, 0, 0, 0, 0, 0, 0, 0, 0, 0, 0, 0, 0, 0, 0, 1], [0, 0, 0, 0, 0, 0, 0, 0, 0, 0, 0, 0, 0, 0, 0, 0, 0, 0, 0, 1], [0, 0, 0, 0, 0, 0, 0, 0, 0, 0, 0, 0, 0, 0, 0, 0, 0, 0, 0, 1], [0, 0, 0, 0, 0, 0, 0, 0, 0, 0, 0, 0, 0, 0, 0, 0, 0, 0, 0, 1], [0, 0, 0, 0, 0, 0, 0, 0, 0, 0, 0, 0, 0, 0, 0, 0, 0, 0, 0, 1], [0, 0, 0, 0, 0, 0, 0, 0, 0, 0, 0, 0, 0, 0, 0, 0, 0, 0, 0, 1], [0, 0, 0, 0, 0, 0, 0, 0, 0, 0, 0, 0, 0, 0, 0, 0, 0, 0, 0, 1], [0, 0, 0, 0, 0, 0, 0, 0, 0, 0, 0, 0, 0, 0, 0, 0, 0, 0, 0, 1], [0, 0, 0, 0, 0, 0, 0, 0, 0, 0, 0, 0, 0, 0, 0, 0, 0, 0, 0, 1], [0, 0, 0, 0, 0, 0, 0, 0, 0, 0, 0, 0, 0, 0, 0, 0, 0, 0, 0, 1], [0, 0, 0, 0, 0, 0, 0, 0, 0, 0, 0, 0, 0, 0, 0, 0, 0, 0, 0, 1], [0, 0, 0, 0, 0, 0, 0, 0, 0, 0, 0, 0, 0, 0, 0, 0, 0, 0, 0, 1], [0, 0, 0, 0, 0, 0, 0, 0, 0, 0, 0, 0, 0, 0, 0, 0, 0, 0, 0, 1], [0, 0, 0, 0, 0, 0, 0, 0, 0, 0, 0, 0, 0, 0, 0, 0, 0, 0, 0, 1], [0, 0, 0, 0, 0, 0, 0, 0, 0, 0, 0, 0, 0, 0, 0, 0, 0, 0, 0, 1], [0, 0, 0, 0, 0, 0, 0, 0, 0, 0, 0, 0, 0, 0, 0, 0, 0, 0, 0, 1]]\n",
      "\n",
      "\n",
      "Transpose characteristic matrix:\n"
     ]
    }
   ],
   "source": [
    "def transpose(matrix):\n",
    "    transposed=[]\n",
    "    for i in range(0,len(matrix[0])):\n",
    "        transposed.append([row[i] for row in matrix])\n",
    "        \n",
    "    return transposed\n",
    "\n",
    "def dot(v1,v2):\n",
    "    total=0\n",
    "    for i in range(0,len(v1)):\n",
    "        total+=v1[i]*v2[i]\n",
    "        \n",
    "    return total\n",
    "\n",
    "def cosine(v1,v2):\n",
    "    \n",
    "    return dot(v1,v2)/math.sqrt(dot(v1,v1)*dot(v2,v2))\n",
    "\n",
    "amatrix=make_matrix(list_of_dicts) #We first produce the characteristic matrix.\n",
    "print(\"Characteristic matrix of our documents:\")\n",
    "print(amatrix)\n",
    "print(\"\\n\")\n",
    "print(\"Transpose characteristic matrix:\")\n",
    "vectors=transpose(amatrix) #Transpose this matrix to produce the vectors we need.\n"
   ]
  },
  {
   "cell_type": "code",
   "execution_count": 10,
   "metadata": {},
   "outputs": [
    {
     "name": "stdout",
     "output_type": "stream",
     "text": [
      "[1, 1, 1, 1, 1, 1, 1, 2, 1, 1, 1, 2, 1, 1, 1, 1, 1, 1, 1, 1, 1, 1, 1, 1, 1, 1, 1, 1, 2, 1, 1, 2, 1, 1, 1, 1, 1, 1, 2, 1, 3, 1, 1, 1, 1, 1, 1, 2, 1, 1, 1, 1, 1, 1, 1, 1, 1, 1, 1, 1, 1, 1, 1, 1, 1, 1, 1, 1, 1, 1, 1, 1, 1, 1, 1, 1, 1, 1, 1, 1, 1, 1, 1, 1, 1, 1, 1, 1, 1, 1, 1, 1, 0, 0, 0, 0, 0, 0, 0, 0, 0, 0, 0, 0, 0, 0, 0, 0, 0, 0, 0, 0, 0, 0, 0, 0, 0, 0, 0, 0, 0, 0, 0, 0, 0, 0, 0, 0, 0, 0, 0, 0, 0, 0, 0, 0, 0, 0, 0, 0, 0, 0, 0, 0, 0, 0, 0, 0, 0, 0, 0, 0, 0, 0, 0, 0, 0, 0, 0, 0, 0, 0, 0, 0, 0, 0, 0, 0, 0, 0, 0, 0, 0, 0, 0, 0, 0, 0, 0, 0, 0, 0, 0, 0, 0, 0, 0, 0, 0, 0, 0, 0, 0, 0, 0, 0, 0, 0, 0, 0, 0, 0, 0, 0, 0, 0, 0, 0, 0, 0, 0, 0, 0, 0, 0, 0, 0, 0, 0, 0, 0, 0, 0, 0, 0, 0, 0, 0, 0, 0, 0, 0, 0, 0, 0, 0, 0, 0, 0, 0, 0, 0, 0, 0, 0, 0, 0, 0, 0, 0, 0, 0, 0, 0, 0, 0, 0, 0, 0, 0, 0, 0, 0, 0, 0, 0, 0, 0, 0, 0, 0, 0, 0, 0, 0, 0, 0, 0, 0, 0, 0, 0, 0, 0, 0, 0, 0, 0, 0, 0, 0, 0, 0, 0, 0, 0, 0, 0, 0, 0, 0, 0, 0, 0, 0, 0, 0, 0, 0, 0, 0, 0, 0, 0, 0, 0, 0, 0, 0, 0, 0, 0, 0, 0, 0, 0, 0, 0, 0, 0, 0, 0, 0, 0, 0, 0, 0, 0, 0, 0, 0, 0, 0, 0, 0, 0, 0, 0, 0, 0, 0, 0, 0, 0, 0, 0, 0, 0, 0, 0, 0, 0, 0, 0, 0, 0, 0, 0, 0, 0, 0, 0, 0, 0, 0, 0, 0, 0, 0, 0, 0, 0, 0, 0, 0, 0, 0, 0, 0, 0, 0, 0, 0, 0, 0, 0, 0, 0, 0, 0, 0, 0, 0, 0, 0, 0, 0, 0, 0, 0, 0, 0, 0, 0, 0, 0, 0, 0, 0, 0, 0, 0, 0, 0, 0, 0, 0, 0, 0, 0, 0, 0, 0, 0, 0, 0, 0, 0, 0, 0, 0, 0, 0, 0, 0, 0, 0, 0, 0, 0, 0, 0, 0, 0, 0, 0, 0, 0, 0, 0, 0, 0, 0, 0, 0, 0, 0, 0, 0, 0, 0, 0, 0, 0, 0, 0, 0, 0, 0, 0, 0, 0, 0, 0, 0, 0, 0, 0, 0, 0, 0, 0, 0, 0, 0, 0, 0, 0, 0, 0, 0, 0, 0, 0, 0, 0, 0, 0, 0, 0, 0, 0, 0, 0, 0, 0, 0, 0, 0, 0, 0, 0, 0, 0, 0, 0, 0, 0, 0, 0, 0, 0, 0, 0, 0, 0, 0, 0, 0, 0, 0, 0, 0, 0, 0, 0, 0, 0, 0, 0, 0, 0, 0, 0, 0, 0, 0, 0, 0, 0, 0, 0, 0, 0, 0, 0, 0, 0, 0, 0, 0, 0, 0, 0, 0, 0, 0, 0, 0, 0, 0, 0, 0, 0, 0, 0, 0, 0, 0, 0, 0, 0, 0, 0, 0, 0, 0, 0, 0, 0, 0, 0, 0, 0, 0, 0, 0, 0, 0, 0, 0, 0, 0, 0, 0, 0, 0, 0, 0, 0, 0, 0, 0, 0, 0, 0, 0, 0, 0, 0, 0, 0, 0, 0, 0, 0, 0, 0, 0, 0, 0, 0, 0, 0, 0, 0, 0, 0, 0, 0, 0, 0, 0, 0, 0, 0, 0, 0, 0, 0, 0, 0, 0, 0, 0, 0, 0, 0, 0, 0, 0, 0, 0, 0, 0, 0, 0, 0, 0, 0, 0, 0, 0, 0, 0, 0, 0, 0, 0, 0, 0, 0, 0, 0, 0, 0, 0, 0, 0, 0, 0, 0, 0, 0, 0, 0, 0, 0, 0, 0, 0, 0, 0, 0, 0, 0, 0, 0, 0, 0, 0, 0, 0, 0, 0, 0, 0, 0, 0, 0, 0, 0, 0, 0, 0, 0, 0, 0, 0, 0, 0, 0, 0, 0, 0, 0, 0, 0, 0, 0, 0, 0, 0, 0, 0, 0, 0, 0, 0, 0, 0, 0, 0, 0, 0, 0, 0, 0, 0, 0, 0, 0, 0, 0, 0, 0, 0, 0, 0, 0, 0, 0, 0, 0, 0, 0, 0, 0, 0, 0, 0, 0, 0, 0, 0, 0, 0, 0, 0, 0, 0, 0, 0, 0, 0, 0, 0, 0, 0, 0, 0, 0, 0, 0, 0, 0, 0, 0, 0, 0, 0, 0, 0, 0, 0, 0, 0, 0, 0, 0, 0, 0, 0, 0, 0, 0, 0, 0, 0, 0, 0, 0, 0, 0, 0, 0, 0, 0, 0, 0, 0, 0, 0, 0, 0, 0, 0, 0, 0, 0, 0, 0, 0, 0, 0, 0, 0, 0, 0, 0, 0, 0, 0, 0, 0, 0, 0, 0, 0, 0, 0, 0, 0, 0, 0, 0, 0, 0, 0, 0, 0, 0, 0, 0, 0, 0, 0, 0, 0, 0, 0, 0, 0, 0, 0, 0, 0, 0, 0, 0, 0, 0, 0, 0, 0, 0, 0, 0, 0, 0, 0, 0, 0, 0, 0, 0, 0, 0, 0, 0, 0, 0, 0, 0, 0, 0, 0, 0, 0, 0, 0, 0, 0, 0, 0, 0, 0, 0, 0, 0, 0, 0, 0, 0, 0, 0, 0, 0, 0, 0, 0, 0, 0, 0, 0]\n"
     ]
    }
   ],
   "source": [
    "print(vectors[0])"
   ]
  },
  {
   "cell_type": "code",
   "execution_count": 11,
   "metadata": {},
   "outputs": [
    {
     "name": "stdout",
     "output_type": "stream",
     "text": [
      "The cosine (dense) similarity for document 1 and document 2 is: 0.10338319495321828\n"
     ]
    }
   ],
   "source": [
    "c = cosine(vectors[0], vectors[1])\n",
    "print(\"The cosine (dense) similarity for document 1 and document 2 is: {}\".format(c))"
   ]
  },
  {
   "cell_type": "markdown",
   "metadata": {},
   "source": [
    "We are now going to use a similar method to what we did previously when finding the complexity of the Jaccard algorithm but using our characteristic matrix in dense representation. Note that we will be using the collated_dicts that we produced earlier using the collate function again. "
   ]
  },
  {
   "cell_type": "markdown",
   "metadata": {},
   "source": [
    "### Computing Cosine (dense) similarity and finding worst-case running time"
   ]
  },
  {
   "cell_type": "code",
   "execution_count": 12,
   "metadata": {},
   "outputs": [
    {
     "data": {
      "image/png": "[encoded data removed]",
      "text/plain": [
       "<Figure size 432x288 with 1 Axes>"
      ]
     },
     "metadata": {
      "needs_background": "light"
     },
     "output_type": "display_data"
    },
    {
     "name": "stdout",
     "output_type": "stream",
     "text": [
      "Times: \n",
      "[7.300019264221191e-05, 0.00012900161743164063, 0.00017706847190856933, 0.00023199033737182617, 0.00027200722694396975, 0.00032494616508483887, 0.00033299922943115235, 0.0003859996795654297, 0.0004110002517700195, 0.0004470257759094238]\n"
     ]
    }
   ],
   "source": [
    "y_values_2 = []\n",
    "for i in range(0,10):\n",
    "    dense_r = make_matrix(collated_dicts[i]) #Making large characteristic matrices\n",
    "    transpose_dense = transpose(dense_r) #Transposing these matrices\n",
    "    v1 = transpose_dense[0]  \n",
    "    v2 = transpose_dense[1]\n",
    "    (ans, mean,error) = timeit(cosine, v1, v2) #Timing how long it takes to compute the cosine similarity between vectors v1, v2.\n",
    "    y_values_2.append(mean)\n",
    "\n",
    "z = np.polyfit(x_values, y_values_2, 1)\n",
    "p = np.poly1d(z)\n",
    "plt.plot(x_values, p(x_values))\n",
    "plt.scatter(x_values, y_values_2)\n",
    "plt.xlim(0,1100)\n",
    "plt.xlabel(\"Number of words\")\n",
    "plt.ylabel(\"Average time to compute Cosine similarity\")\n",
    "plt.title(\"Worst case running time of Cosine (dense) similarity\")\n",
    "plt.show()\n",
    "print(\"Times: \\n{}\".format(y_values_2))"
   ]
  },
  {
   "cell_type": "markdown",
   "metadata": {},
   "source": [
    "### Estimating the time complexity of Cosine (dense) implementation"
   ]
  },
  {
   "cell_type": "markdown",
   "metadata": {},
   "source": [
    "As you can see, the Jaccard and Cosine similarity measures have very similar plots lines of best fit. We will explore this further below in the same way as before whereby we claim that our time complexity is also of the form $O(n)$."
   ]
  },
  {
   "cell_type": "code",
   "execution_count": 13,
   "metadata": {},
   "outputs": [
    {
     "data": {
      "image/png": "[encoded data removed]",
      "text/plain": [
       "<Figure size 432x288 with 1 Axes>"
      ]
     },
     "metadata": {
      "needs_background": "light"
     },
     "output_type": "display_data"
    },
    {
     "name": "stdout",
     "output_type": "stream",
     "text": [
      "Intercept: -5.700344076345459, Slope: 0.7873024966476683\n",
      "C_b: 1.99368216437511e-06\n"
     ]
    }
   ],
   "source": [
    "logxs=[np.log10(x) for x in x_values]\n",
    "logys=[np.log10(y) for y in y_values_2]\n",
    "plt.scatter(logxs,logys)\n",
    "plt.xlabel(\"Log number of words\")\n",
    "plt.ylabel(\"Log of average time to compute Cosine similarity\")\n",
    "plt.title(\"Log of worst case running time of Cosine (dense) similarity\")\n",
    "plt.show()\n",
    "slope, intercept = np.polyfit(logxs, logys, 1) #Using polyfit to produce the slope and intercept, can also use lineregress\n",
    "print(\"Intercept: {}, Slope: {}\".format(intercept, slope))\n",
    "constant = 10**intercept\n",
    "print(\"C_b: {}\".format(constant))"
   ]
  },
  {
   "cell_type": "markdown",
   "metadata": {},
   "source": [
    "Our slope ranges from around 0.8-0.9, which is lower than the slope produced by the Jaccard implementation. This is odd considering the run-times ten to be higher for this measure than Jaccard. To investigate this further, I will test the possibility of the Cosine dense implementation running in $O(nlog(n))$ rather than in $O(n)$ that I previously assumed. \n",
    "\n",
    "This gives $y = c_bnlog(n)$. To test this, we will make a transformation. We will let $x = nlog(n)$. Plotting $y$ against $x$ gives $y/x$ = $c_b$ and so this will hopefully gives us a completely straight line where the intercept is approximately 0, and the gradient is our new constant, $c_b$."
   ]
  },
  {
   "cell_type": "code",
   "execution_count": 14,
   "metadata": {},
   "outputs": [
    {
     "data": {
      "image/png": "[encoded data removed]",
      "text/plain": [
       "<Figure size 432x288 with 1 Axes>"
      ]
     },
     "metadata": {
      "needs_background": "light"
     },
     "output_type": "display_data"
    },
    {
     "name": "stdout",
     "output_type": "stream",
     "text": [
      "Intercept: 7.819216742093854e-05, Slope(c_b): 1.297910469490689e-07\n",
      "Times: [7.300019264221191e-05, 0.00012900161743164063, 0.00017706847190856933, 0.00023199033737182617, 0.00027200722694396975, 0.00032494616508483887, 0.00033299922943115235, 0.0003859996795654297, 0.0004110002517700195, 0.0004470257759094238]\n"
     ]
    }
   ],
   "source": [
    "import scipy.stats as stats\n",
    "xslogxs=[x*np.log10(x) for x in x_values] #Transforming our x-values to a xlog(x) format.\n",
    "plt.scatter(xslogxs,y_values_2) #Plotting x=nlog(n) against our generated times.\n",
    "plt.xlabel(\"Log number of words\")\n",
    "plt.ylabel(\"Log of time to compute Cosine similarity\")\n",
    "plt.title(\"Log of worst case running time of Cosine (dense) similarity\")\n",
    "plt.show()\n",
    "slope, intercept, r_value, p_value, std_err = stats.linregress(xslogxs, y_values_2)\n",
    "print(\"Intercept: {}, Slope(c_b): {}\".format(intercept, slope))\n",
    "print(\"Times: {}\".format(y_values_2))"
   ]
  },
  {
   "cell_type": "markdown",
   "metadata": {},
   "source": [
    "We can see that our intercept is close to 0 and our slope is very small as we would expect (as our constant should be small). This supports the idea that the time complexity of this implementation is actually $O(nlog(n))$ rather than $O(n)$."
   ]
  },
  {
   "cell_type": "markdown",
   "metadata": {},
   "source": [
    "### Finding the worst-case running time of Cosine similarity when using numpy.dot instead of our dot function."
   ]
  },
  {
   "cell_type": "markdown",
   "metadata": {},
   "source": [
    "We will now use numpy's version of the dot product instead of our previously made dot product function. This is to see the difference in complexity of the cosine algorithm when using different implementations. We of course use the same format as before to produce the following scatter, relying on our very useful collated_dicts."
   ]
  },
  {
   "cell_type": "code",
   "execution_count": 15,
   "metadata": {},
   "outputs": [
    {
     "name": "stdout",
     "output_type": "stream",
     "text": [
      "Cosine similarity example using numpy.dot: 0.10338319495321828\n"
     ]
    },
    {
     "data": {
      "image/png": "[encoded data removed]",
      "text/plain": [
       "<Figure size 432x288 with 1 Axes>"
      ]
     },
     "metadata": {
      "needs_background": "light"
     },
     "output_type": "display_data"
    },
    {
     "name": "stdout",
     "output_type": "stream",
     "text": [
      "y values corresponding the numpy.dot implementation of cosine similarity:\n",
      " [0.00016599369049072264, 0.0002649998664855957, 0.00034605908393859865, 0.0004179995059967041, 0.0004710533618927002, 0.0005439903736114502, 0.0005959458351135254, 0.0006400077342987061, 0.0006849939823150634, 0.0007440609931945801]\n"
     ]
    }
   ],
   "source": [
    "def numpycosine(v1,v2):\n",
    "    #Modifying the original cosine function to use numpy.dot instead of our previously made dot function.\n",
    "    return np.dot(v1,v2)/math.sqrt(np.dot(v1,v1)*np.dot(v2,v2))\n",
    "\n",
    "print(\"Cosine similarity example using numpy.dot: {}\".format(numpycosine(vectors[0], vectors[1]))) #Checking that this implementation gives same value as before.\n",
    "\n",
    "y_values_3 = []\n",
    "for i in range(0,10):\n",
    "    dense_r = make_matrix(collated_dicts[i]) #Using the same method as before\n",
    "    trans_dense = transpose(dense_r)\n",
    "    v1 = trans_dense[0]\n",
    "    v2 = trans_dense[1]\n",
    "    (ans, mean,error) = timeit(numpycosine, v1, v2)\n",
    "    y_values_3.append(mean)\n",
    "    \n",
    "\n",
    "plt.scatter(x_values, y_values_3)\n",
    "plt.xlim(0,1100)\n",
    "plt.ylim(0,0.0008)\n",
    "plt.xlabel(\"Number of words\")\n",
    "plt.ylabel(\"Average time to compute Cosine similarity\")\n",
    "plt.title(\"Worst case running time of Cosine similarity using numpy's dot product\")\n",
    "plt.show()\n",
    "print(\"y values corresponding the numpy.dot implementation of cosine similarity:\\n {}\".format(y_values_3))"
   ]
  },
  {
   "cell_type": "markdown",
   "metadata": {},
   "source": [
    "### Estimating the time complexity of Cosine (dense) implementation using numpy.dot"
   ]
  },
  {
   "cell_type": "markdown",
   "metadata": {},
   "source": [
    "The line is much steeper than it previously was when using the cosine similarity using our own dot product function. Like the dense Cosine measure previously, I believe the time-complexity for this method is also of the form $O(nlog(n)$)."
   ]
  },
  {
   "cell_type": "code",
   "execution_count": 16,
   "metadata": {},
   "outputs": [
    {
     "data": {
      "image/png": "[encoded data removed]",
      "text/plain": [
       "<Figure size 432x288 with 1 Axes>"
      ]
     },
     "metadata": {
      "needs_background": "light"
     },
     "output_type": "display_data"
    },
    {
     "name": "stdout",
     "output_type": "stream",
     "text": [
      "Intercept: 0.00018396736481659717, Slope(c_c): 1.9667931773807928e-07\n",
      "Times: [0.00016599369049072264, 0.0002649998664855957, 0.00034605908393859865, 0.0004179995059967041, 0.0004710533618927002, 0.0005439903736114502, 0.0005959458351135254, 0.0006400077342987061, 0.0006849939823150634, 0.0007440609931945801]\n"
     ]
    }
   ],
   "source": [
    "import scipy.stats as stats\n",
    "xslogxs=[x*np.log10(x) for x in x_values]\n",
    "plt.scatter(xslogxs,y_values_3)\n",
    "plt.xlabel(\"Log number of words\")\n",
    "plt.ylabel(\"Log of time to compute Cosine similarity\")\n",
    "plt.title(\"Log of worst case running time of Cosine similarity using numpy.dot implementation\")\n",
    "plt.show()\n",
    "slope, intercept, r_value, p_value, std_err = stats.linregress(xslogxs, y_values_3)\n",
    "print(\"Intercept: {}, Slope(c_c): {}\".format(intercept, slope))\n",
    "print(\"Times: {}\".format(y_values_3))"
   ]
  },
  {
   "cell_type": "markdown",
   "metadata": {},
   "source": [
    "This graph produced the results that was expected, meaning it is sufficent enough to say that the time complexity of the cosine similiarty algorithm using numpy.dot product implementation is of the form $O(nlog(n))$."
   ]
  },
  {
   "cell_type": "markdown",
   "metadata": {},
   "source": [
    "# Q3) Cosine similarity measure (sparse representation)"
   ]
  },
  {
   "cell_type": "markdown",
   "metadata": {},
   "source": [
    "### Producing a function that computes Cosine similarity for sparse inputs."
   ]
  },
  {
   "cell_type": "markdown",
   "metadata": {},
   "source": [
    "We are now going to compute the cosine similarity measure again, but this time from dictionary representations rather than into vector representations like we did in the previous question. We create a function cosine_dict which will compute the cosine similarity and then use our established collated_dicts once more. "
   ]
  },
  {
   "cell_type": "code",
   "execution_count": 17,
   "metadata": {},
   "outputs": [
    {
     "name": "stdout",
     "output_type": "stream",
     "text": [
      "The Cosine (sparse) similarity for document 1 and 2 is: 0.10338319495321828\n"
     ]
    }
   ],
   "source": [
    "def cosine_dict(dict1,dict2):\n",
    "    intersection = 0\n",
    "    a = 0 #Initializing variables at 0 to keep a running score.\n",
    "    b = 0\n",
    "    for key,value in dict1.items():\n",
    "        intersection += value*dict2.get(key,0.0) #Search for each individual key. If it finds it, returns the frequency\n",
    "        #of the word. If not, assume 0.\n",
    "        a += value*value\n",
    "    for value in dict2.values():\n",
    "        b += value*value\n",
    "    return intersection/math.sqrt(a*b)\n",
    "\n",
    "c = cosine_dict(list_of_dicts[0], list_of_dicts[1])\n",
    "print(\"The Cosine (sparse) similarity for document 1 and 2 is: {}\".format(c))\n",
    "#Checking that the implementation \n",
    "#gives the same cosine similarity as before."
   ]
  },
  {
   "cell_type": "markdown",
   "metadata": {},
   "source": [
    "### Finding the worst-case running time of Cosine (sparse) similarity "
   ]
  },
  {
   "cell_type": "code",
   "execution_count": 18,
   "metadata": {},
   "outputs": [
    {
     "data": {
      "image/png": "[encoded data removed]",
      "text/plain": [
       "<Figure size 432x288 with 1 Axes>"
      ]
     },
     "metadata": {
      "needs_background": "light"
     },
     "output_type": "display_data"
    },
    {
     "name": "stdout",
     "output_type": "stream",
     "text": [
      "Times: [3.600072860717773e-05, 6.401729583740234e-05, 8.498716354370117e-05, 0.0001139979362487793, 0.00013500118255615234, 0.00016500020027160645, 0.00018399906158447267, 0.00019500088691711426, 0.00022706198692321776, 0.0002389988899230957]\n"
     ]
    }
   ],
   "source": [
    "y_values_4 = []\n",
    "for i in range(0,10):\n",
    "    first_doc = collated_dicts[i][0] #Looping over each pair of dictionaries, picking out the first and second ones individually\n",
    "    #and computing the cosine similarity between them.\n",
    "    second_doc = collated_dicts[i][1]\n",
    "    (ans, mean,error) = timeit(cosine_dict, first_doc, second_doc)\n",
    "    y_values_4.append(mean)\n",
    "    \n",
    "z = np.polyfit(x_values, y_values_4, 1)\n",
    "p = np.poly1d(z)\n",
    "plt.plot(x_values, p(x_values))\n",
    "plt.scatter(x_values, y_values_4)\n",
    "plt.xlim(0,1100)\n",
    "plt.xlabel(\"Number of words\")\n",
    "plt.ylabel(\"Average time to compute Cosine similarity\")\n",
    "plt.title(\"Worst case running time of Cosine similarity using sparse representation\")\n",
    "plt.show()\n",
    "print(\"Times: {}\".format(y_values_4))"
   ]
  },
  {
   "cell_type": "markdown",
   "metadata": {},
   "source": [
    "It's clear to see that the sparse representation of cosine similarity produces a linear graph. However, it is not as steep as the graphs produced when using the dense and numpy representations. \n",
    "\n",
    "It also has a faster run-time than the Jaccard measure so seems to be the best method when using large documents. We now investigate its time complexity. I predict that its time complexity is of the form $O(n)$, like Jaccard. We test that now."
   ]
  },
  {
   "cell_type": "markdown",
   "metadata": {},
   "source": [
    "### Estimating the time complexity of Cosine (sparse) implementation"
   ]
  },
  {
   "cell_type": "code",
   "execution_count": 19,
   "metadata": {},
   "outputs": [
    {
     "data": {
      "image/png": "[encoded data removed]",
      "text/plain": [
       "<Figure size 432x288 with 1 Axes>"
      ]
     },
     "metadata": {
      "needs_background": "light"
     },
     "output_type": "display_data"
    },
    {
     "name": "stdout",
     "output_type": "stream",
     "text": [
      "Intercept: -6.113574939843969, Slope: 0.8329073895385423\n",
      "C_d: 7.6988358534936e-07\n"
     ]
    }
   ],
   "source": [
    "logxs=[np.log10(x) for x in x_values]\n",
    "logys=[np.log10(y) for y in y_values_4]\n",
    "plt.scatter(logxs,logys)\n",
    "plt.ylim(-6,-3)\n",
    "plt.xlabel(\"Log number of words\")\n",
    "plt.ylabel(\"Log of average time to compute Cosine similarity\")\n",
    "plt.title(\"Log of worst case running time of Cosine similarity\")\n",
    "plt.show()\n",
    "slope, intercept = np.polyfit(logxs, logys, 1)\n",
    "print(\"Intercept: {}, Slope: {}\".format(intercept, slope))\n",
    "constant = 10**intercept\n",
    "print(\"C_d: {}\".format(constant))"
   ]
  },
  {
   "cell_type": "markdown",
   "metadata": {},
   "source": [
    "This method produces a lower slope than the Cosine with dense representation, the numpy equivalent and the Jaccard method, so seems to be the fastest implementation out of the four we have tested, with a lower time complexity."
   ]
  },
  {
   "cell_type": "markdown",
   "metadata": {},
   "source": [
    "We now plot all of the methods together so that comparison can easily be made between them."
   ]
  },
  {
   "cell_type": "code",
   "execution_count": 20,
   "metadata": {},
   "outputs": [
    {
     "data": {
      "text/plain": [
       "(0, 0.0005)"
      ]
     },
     "execution_count": 20,
     "metadata": {},
     "output_type": "execute_result"
    },
    {
     "data": {
      "image/png": "[encoded data removed]",
      "text/plain": [
       "<Figure size 432x288 with 1 Axes>"
      ]
     },
     "metadata": {
      "needs_background": "light"
     },
     "output_type": "display_data"
    }
   ],
   "source": [
    "fig = plt.figure()\n",
    "ax1 = fig.add_subplot(111)\n",
    "ax1.scatter(x_values, y_values, label = \"Jaccard\", marker = \"o\")\n",
    "ax1.scatter(x_values, y_values_2, label = \"Cosine dense\", marker = \"d\")\n",
    "ax1.scatter(x_values, y_values_3, label = \"Cosine dense using numpy.dot\", marker = \"^\")\n",
    "ax1.scatter(x_values, y_values_4, label = \"Cosine sparse\", marker = \"s\")\n",
    "plt.legend(loc=\"upper left\")\n",
    "plt.xlabel(\"Number of words\")\n",
    "plt.ylabel(\"Average time to compute different similarity measures\")\n",
    "plt.title(\"Worst case running time of different similarity measures\")\n",
    "plt.ylim(0,0.0005)\n",
    "#Depending on the setup of the reader, this graph might look very different. Hence feel free to change the y limit above."
   ]
  },
  {
   "cell_type": "markdown",
   "metadata": {},
   "source": [
    "From this we can directly see that cosine sparse is the implementation that would be preferred if using large documents."
   ]
  },
  {
   "cell_type": "markdown",
   "metadata": {},
   "source": [
    "# Q4) All pairs similarities"
   ]
  },
  {
   "cell_type": "markdown",
   "metadata": {},
   "source": [
    "### Creating a function to compute all-pairs similarity for each method"
   ]
  },
  {
   "cell_type": "markdown",
   "metadata": {},
   "source": [
    "We now aim to compute the similarity between all-pairs of documents for each measure. We create the similarity function below, whereby it produces a large output of all the possible similarities between each document."
   ]
  },
  {
   "cell_type": "code",
   "execution_count": 21,
   "metadata": {},
   "outputs": [],
   "source": [
    "def similarity(listofdicts, measure):\n",
    "    if measure == jaccard:\n",
    "        for i in range(len(listofdicts)): #Looping over the number of documents provided, will work for any number of documents.\n",
    "            for j in range(len(listofdicts)):\n",
    "                if (i!=j): #Prevents similarity being computed between the same documents (gives a useless output of 1).\n",
    "                    js = jaccard(listofdicts[i],listofdicts[j])\n",
    "                    txt = \"The J.S for document {a} and document {b} is {c}\"\n",
    "                    print(txt.format(a=i,b=j,c=js))\n",
    "    elif measure == cosine:\n",
    "        tempmatrix = make_matrix(listofdicts)\n",
    "        vector = transpose(tempmatrix)\n",
    "        for i in range(len(vector)):\n",
    "            for j in range(len(vector)):\n",
    "                if (i!=j):\n",
    "                    cos = cosine(vector[i], vector[j])\n",
    "                    txt = \"The Cosine Similiarity (dense representation) for document {a} and document {b} is {c}\"\n",
    "                    print(txt.format(a=i,b=j,c=cos))\n",
    "    elif measure == numpycosine:\n",
    "        tempmatrix = make_matrix(listofdicts)\n",
    "        vector = transpose(tempmatrix)\n",
    "        for i in range(len(vector)):\n",
    "            for j in range(len(vector)):\n",
    "                if (i!=j):\n",
    "                    cos = numpycosine(vector[i], vector[j])\n",
    "                    txt = \"The Cosine Similarity (using np.dot) for document {a} and document {b} is {c}\"\n",
    "                    print(txt.format(a=i, b=j, c=cos))\n",
    "    elif measure == cosine_dict:\n",
    "        for i in range(len(listofdicts)):\n",
    "            for j in range(len(listofdicts)):\n",
    "                if (i!=j):\n",
    "                    cos = cosine_dict(listofdicts[i],listofdicts[j])\n",
    "                    txt = \"The Cosine Similarity (sparse representation) for document {a} and document {b} is {c}\"\n",
    "                    print(txt.format(a=i,b=j,c=cos))"
   ]
  },
  {
   "cell_type": "markdown",
   "metadata": {},
   "source": [
    "We can use the above function to calculate the all-pairs similarity for our Jaccard and Cosine (sparse) implementation. I will also print the results for the numpy and cosine (dense) methods to check that all 3 cosine methods give the same answers."
   ]
  },
  {
   "cell_type": "code",
   "execution_count": 22,
   "metadata": {},
   "outputs": [
    {
     "name": "stdout",
     "output_type": "stream",
     "text": [
      "The J.S for document 0 and document 1 is 0.04712041884816754\n",
      "The J.S for document 0 and document 2 is 0.041666666666666664\n",
      "The J.S for document 0 and document 3 is 0.05263157894736842\n",
      "The J.S for document 0 and document 4 is 0.041666666666666664\n",
      "The J.S for document 0 and document 5 is 0.08108108108108109\n",
      "The J.S for document 0 and document 6 is 0.06382978723404255\n",
      "The J.S for document 0 and document 7 is 0.08108108108108109\n",
      "The J.S for document 0 and document 8 is 0.06382978723404255\n",
      "The J.S for document 0 and document 9 is 0.08108108108108109\n",
      "The J.S for document 0 and document 10 is 0.08108108108108109\n",
      "The J.S for document 0 and document 11 is 0.10497237569060773\n",
      "The J.S for document 0 and document 12 is 0.06382978723404255\n",
      "The J.S for document 0 and document 13 is 0.0582010582010582\n",
      "The J.S for document 0 and document 14 is 0.04712041884816754\n",
      "The J.S for document 0 and document 15 is 0.0582010582010582\n",
      "The J.S for document 0 and document 16 is 0.07526881720430108\n",
      "The J.S for document 0 and document 17 is 0.0582010582010582\n",
      "The J.S for document 0 and document 18 is 0.09289617486338798\n",
      "The J.S for document 0 and document 19 is 0.06382978723404255\n",
      "The J.S for document 1 and document 0 is 0.04712041884816754\n",
      "The J.S for document 1 and document 2 is 0.08108108108108109\n",
      "The J.S for document 1 and document 3 is 0.1111111111111111\n",
      "The J.S for document 1 and document 4 is 0.09289617486338798\n",
      "The J.S for document 1 and document 5 is 0.09289617486338798\n",
      "The J.S for document 1 and document 6 is 0.0989010989010989\n",
      "The J.S for document 1 and document 7 is 0.07526881720430108\n",
      "The J.S for document 1 and document 8 is 0.07526881720430108\n",
      "The J.S for document 1 and document 9 is 0.07526881720430108\n",
      "The J.S for document 1 and document 10 is 0.0989010989010989\n",
      "The J.S for document 1 and document 11 is 0.09289617486338798\n",
      "The J.S for document 1 and document 12 is 0.08695652173913043\n",
      "The J.S for document 1 and document 13 is 0.1111111111111111\n",
      "The J.S for document 1 and document 14 is 0.03626943005181347\n",
      "The J.S for document 1 and document 15 is 0.06382978723404255\n",
      "The J.S for document 1 and document 16 is 0.08695652173913043\n",
      "The J.S for document 1 and document 17 is 0.06382978723404255\n",
      "The J.S for document 1 and document 18 is 0.06382978723404255\n",
      "The J.S for document 1 and document 19 is 0.07526881720430108\n",
      "The J.S for document 2 and document 0 is 0.041666666666666664\n",
      "The J.S for document 2 and document 1 is 0.08108108108108109\n",
      "The J.S for document 2 and document 3 is 0.09289617486338798\n",
      "The J.S for document 2 and document 4 is 0.10497237569060773\n",
      "The J.S for document 2 and document 5 is 0.08695652173913043\n",
      "The J.S for document 2 and document 6 is 0.07526881720430108\n",
      "The J.S for document 2 and document 7 is 0.09289617486338798\n",
      "The J.S for document 2 and document 8 is 0.08108108108108109\n",
      "The J.S for document 2 and document 9 is 0.0582010582010582\n",
      "The J.S for document 2 and document 10 is 0.06382978723404255\n",
      "The J.S for document 2 and document 11 is 0.0989010989010989\n",
      "The J.S for document 2 and document 12 is 0.0582010582010582\n",
      "The J.S for document 2 and document 13 is 0.06382978723404255\n",
      "The J.S for document 2 and document 14 is 0.05263157894736842\n",
      "The J.S for document 2 and document 15 is 0.08108108108108109\n",
      "The J.S for document 2 and document 16 is 0.1111111111111111\n",
      "The J.S for document 2 and document 17 is 0.06951871657754011\n",
      "The J.S for document 2 and document 18 is 0.06382978723404255\n",
      "The J.S for document 2 and document 19 is 0.0989010989010989\n",
      "The J.S for document 3 and document 0 is 0.05263157894736842\n",
      "The J.S for document 3 and document 1 is 0.1111111111111111\n",
      "The J.S for document 3 and document 2 is 0.09289617486338798\n",
      "The J.S for document 3 and document 4 is 0.09289617486338798\n",
      "The J.S for document 3 and document 5 is 0.08695652173913043\n",
      "The J.S for document 3 and document 6 is 0.08108108108108109\n",
      "The J.S for document 3 and document 7 is 0.04712041884816754\n",
      "The J.S for document 3 and document 8 is 0.0582010582010582\n",
      "The J.S for document 3 and document 9 is 0.07526881720430108\n",
      "The J.S for document 3 and document 10 is 0.10497237569060773\n",
      "The J.S for document 3 and document 11 is 0.08108108108108109\n",
      "The J.S for document 3 and document 12 is 0.09289617486338798\n",
      "The J.S for document 3 and document 13 is 0.06382978723404255\n",
      "The J.S for document 3 and document 14 is 0.0582010582010582\n",
      "The J.S for document 3 and document 15 is 0.08108108108108109\n",
      "The J.S for document 3 and document 16 is 0.0989010989010989\n",
      "The J.S for document 3 and document 17 is 0.0989010989010989\n",
      "The J.S for document 3 and document 18 is 0.06382978723404255\n",
      "The J.S for document 3 and document 19 is 0.0582010582010582\n",
      "The J.S for document 4 and document 0 is 0.041666666666666664\n",
      "The J.S for document 4 and document 1 is 0.09289617486338798\n",
      "The J.S for document 4 and document 2 is 0.10497237569060773\n",
      "The J.S for document 4 and document 3 is 0.09289617486338798\n",
      "The J.S for document 4 and document 5 is 0.08695652173913043\n",
      "The J.S for document 4 and document 6 is 0.08695652173913043\n",
      "The J.S for document 4 and document 7 is 0.07526881720430108\n",
      "The J.S for document 4 and document 8 is 0.10497237569060773\n",
      "The J.S for document 4 and document 9 is 0.0582010582010582\n",
      "The J.S for document 4 and document 10 is 0.08108108108108109\n",
      "The J.S for document 4 and document 11 is 0.07526881720430108\n",
      "The J.S for document 4 and document 12 is 0.0989010989010989\n",
      "The J.S for document 4 and document 13 is 0.08108108108108109\n",
      "The J.S for document 4 and document 14 is 0.08695652173913043\n",
      "The J.S for document 4 and document 15 is 0.08695652173913043\n",
      "The J.S for document 4 and document 16 is 0.09289617486338798\n",
      "The J.S for document 4 and document 17 is 0.10497237569060773\n",
      "The J.S for document 4 and document 18 is 0.07526881720430108\n",
      "The J.S for document 4 and document 19 is 0.07526881720430108\n",
      "The J.S for document 5 and document 0 is 0.08108108108108109\n",
      "The J.S for document 5 and document 1 is 0.09289617486338798\n",
      "The J.S for document 5 and document 2 is 0.08695652173913043\n",
      "The J.S for document 5 and document 3 is 0.08695652173913043\n",
      "The J.S for document 5 and document 4 is 0.08695652173913043\n",
      "The J.S for document 5 and document 6 is 0.12994350282485875\n",
      "The J.S for document 5 and document 7 is 0.06951871657754011\n",
      "The J.S for document 5 and document 8 is 0.09289617486338798\n",
      "The J.S for document 5 and document 9 is 0.0582010582010582\n",
      "The J.S for document 5 and document 10 is 0.0582010582010582\n",
      "The J.S for document 5 and document 11 is 0.1111111111111111\n",
      "The J.S for document 5 and document 12 is 0.1111111111111111\n",
      "The J.S for document 5 and document 13 is 0.07526881720430108\n",
      "The J.S for document 5 and document 14 is 0.0582010582010582\n",
      "The J.S for document 5 and document 15 is 0.11731843575418995\n",
      "The J.S for document 5 and document 16 is 0.1111111111111111\n",
      "The J.S for document 5 and document 17 is 0.10497237569060773\n",
      "The J.S for document 5 and document 18 is 0.08695652173913043\n",
      "The J.S for document 5 and document 19 is 0.09289617486338798\n",
      "The J.S for document 6 and document 0 is 0.06382978723404255\n",
      "The J.S for document 6 and document 1 is 0.0989010989010989\n",
      "The J.S for document 6 and document 2 is 0.07526881720430108\n",
      "The J.S for document 6 and document 3 is 0.08108108108108109\n",
      "The J.S for document 6 and document 4 is 0.08695652173913043\n",
      "The J.S for document 6 and document 5 is 0.12994350282485875\n",
      "The J.S for document 6 and document 7 is 0.09289617486338798\n",
      "The J.S for document 6 and document 8 is 0.09289617486338798\n",
      "The J.S for document 6 and document 9 is 0.06382978723404255\n",
      "The J.S for document 6 and document 10 is 0.06951871657754011\n",
      "The J.S for document 6 and document 11 is 0.07526881720430108\n",
      "The J.S for document 6 and document 12 is 0.09289617486338798\n",
      "The J.S for document 6 and document 13 is 0.04712041884816754\n",
      "The J.S for document 6 and document 14 is 0.08108108108108109\n",
      "The J.S for document 6 and document 15 is 0.09289617486338798\n",
      "The J.S for document 6 and document 16 is 0.11731843575418995\n",
      "The J.S for document 6 and document 17 is 0.12359550561797752\n",
      "The J.S for document 6 and document 18 is 0.09289617486338798\n",
      "The J.S for document 6 and document 19 is 0.0989010989010989\n",
      "The J.S for document 7 and document 0 is 0.08108108108108109\n",
      "The J.S for document 7 and document 1 is 0.07526881720430108\n",
      "The J.S for document 7 and document 2 is 0.09289617486338798\n",
      "The J.S for document 7 and document 3 is 0.04712041884816754\n",
      "The J.S for document 7 and document 4 is 0.07526881720430108\n",
      "The J.S for document 7 and document 5 is 0.06951871657754011\n",
      "The J.S for document 7 and document 6 is 0.09289617486338798\n",
      "The J.S for document 7 and document 8 is 0.06382978723404255\n",
      "The J.S for document 7 and document 9 is 0.06951871657754011\n",
      "The J.S for document 7 and document 10 is 0.05263157894736842\n",
      "The J.S for document 7 and document 11 is 0.06951871657754011\n",
      "The J.S for document 7 and document 12 is 0.06382978723404255\n",
      "The J.S for document 7 and document 13 is 0.0582010582010582\n",
      "The J.S for document 7 and document 14 is 0.0582010582010582\n",
      "The J.S for document 7 and document 15 is 0.05263157894736842\n",
      "The J.S for document 7 and document 16 is 0.08695652173913043\n",
      "The J.S for document 7 and document 17 is 0.06951871657754011\n",
      "The J.S for document 7 and document 18 is 0.06382978723404255\n",
      "The J.S for document 7 and document 19 is 0.04712041884816754\n",
      "The J.S for document 8 and document 0 is 0.06382978723404255\n",
      "The J.S for document 8 and document 1 is 0.07526881720430108\n",
      "The J.S for document 8 and document 2 is 0.08108108108108109\n",
      "The J.S for document 8 and document 3 is 0.0582010582010582\n",
      "The J.S for document 8 and document 4 is 0.10497237569060773\n",
      "The J.S for document 8 and document 5 is 0.09289617486338798\n",
      "The J.S for document 8 and document 6 is 0.09289617486338798\n",
      "The J.S for document 8 and document 7 is 0.06382978723404255\n",
      "The J.S for document 8 and document 9 is 0.10497237569060773\n",
      "The J.S for document 8 and document 10 is 0.0582010582010582\n",
      "The J.S for document 8 and document 11 is 0.06951871657754011\n",
      "The J.S for document 8 and document 12 is 0.08695652173913043\n",
      "The J.S for document 8 and document 13 is 0.07526881720430108\n",
      "The J.S for document 8 and document 14 is 0.08108108108108109\n",
      "The J.S for document 8 and document 15 is 0.1111111111111111\n",
      "The J.S for document 8 and document 16 is 0.08108108108108109\n",
      "The J.S for document 8 and document 17 is 0.09289617486338798\n",
      "The J.S for document 8 and document 18 is 0.08695652173913043\n",
      "The J.S for document 8 and document 19 is 0.09289617486338798\n",
      "The J.S for document 9 and document 0 is 0.08108108108108109\n",
      "The J.S for document 9 and document 1 is 0.07526881720430108\n",
      "The J.S for document 9 and document 2 is 0.0582010582010582\n",
      "The J.S for document 9 and document 3 is 0.07526881720430108\n",
      "The J.S for document 9 and document 4 is 0.0582010582010582\n",
      "The J.S for document 9 and document 5 is 0.0582010582010582\n",
      "The J.S for document 9 and document 6 is 0.06382978723404255\n",
      "The J.S for document 9 and document 7 is 0.06951871657754011\n",
      "The J.S for document 9 and document 8 is 0.10497237569060773\n",
      "The J.S for document 9 and document 10 is 0.06382978723404255\n",
      "The J.S for document 9 and document 11 is 0.05263157894736842\n",
      "The J.S for document 9 and document 12 is 0.08695652173913043\n",
      "The J.S for document 9 and document 13 is 0.05263157894736842\n",
      "The J.S for document 9 and document 14 is 0.06382978723404255\n",
      "The J.S for document 9 and document 15 is 0.08108108108108109\n",
      "The J.S for document 9 and document 16 is 0.0989010989010989\n",
      "The J.S for document 9 and document 17 is 0.1111111111111111\n",
      "The J.S for document 9 and document 18 is 0.10497237569060773\n",
      "The J.S for document 9 and document 19 is 0.0582010582010582\n",
      "The J.S for document 10 and document 0 is 0.08108108108108109\n",
      "The J.S for document 10 and document 1 is 0.0989010989010989\n",
      "The J.S for document 10 and document 2 is 0.06382978723404255\n",
      "The J.S for document 10 and document 3 is 0.10497237569060773\n",
      "The J.S for document 10 and document 4 is 0.08108108108108109\n",
      "The J.S for document 10 and document 5 is 0.0582010582010582\n",
      "The J.S for document 10 and document 6 is 0.06951871657754011\n",
      "The J.S for document 10 and document 7 is 0.05263157894736842\n",
      "The J.S for document 10 and document 8 is 0.0582010582010582\n",
      "The J.S for document 10 and document 9 is 0.06382978723404255\n",
      "The J.S for document 10 and document 11 is 0.08108108108108109\n",
      "The J.S for document 10 and document 12 is 0.09289617486338798\n",
      "The J.S for document 10 and document 13 is 0.11731843575418995\n",
      "The J.S for document 10 and document 14 is 0.06382978723404255\n",
      "The J.S for document 10 and document 15 is 0.06382978723404255\n",
      "The J.S for document 10 and document 16 is 0.08108108108108109\n",
      "The J.S for document 10 and document 17 is 0.06382978723404255\n",
      "The J.S for document 10 and document 18 is 0.08108108108108109\n",
      "The J.S for document 10 and document 19 is 0.06951871657754011\n",
      "The J.S for document 11 and document 0 is 0.10497237569060773\n",
      "The J.S for document 11 and document 1 is 0.09289617486338798\n",
      "The J.S for document 11 and document 2 is 0.0989010989010989\n",
      "The J.S for document 11 and document 3 is 0.08108108108108109\n",
      "The J.S for document 11 and document 4 is 0.07526881720430108\n",
      "The J.S for document 11 and document 5 is 0.1111111111111111\n",
      "The J.S for document 11 and document 6 is 0.07526881720430108\n",
      "The J.S for document 11 and document 7 is 0.06951871657754011\n",
      "The J.S for document 11 and document 8 is 0.06951871657754011\n",
      "The J.S for document 11 and document 9 is 0.05263157894736842\n",
      "The J.S for document 11 and document 10 is 0.08108108108108109\n",
      "The J.S for document 11 and document 12 is 0.08108108108108109\n",
      "The J.S for document 11 and document 13 is 0.0989010989010989\n",
      "The J.S for document 11 and document 14 is 0.07526881720430108\n",
      "The J.S for document 11 and document 15 is 0.04712041884816754\n",
      "The J.S for document 11 and document 16 is 0.11731843575418995\n",
      "The J.S for document 11 and document 17 is 0.06951871657754011\n",
      "The J.S for document 11 and document 18 is 0.05263157894736842\n",
      "The J.S for document 11 and document 19 is 0.05263157894736842\n",
      "The J.S for document 12 and document 0 is 0.06382978723404255\n",
      "The J.S for document 12 and document 1 is 0.08695652173913043\n",
      "The J.S for document 12 and document 2 is 0.0582010582010582\n",
      "The J.S for document 12 and document 3 is 0.09289617486338798\n",
      "The J.S for document 12 and document 4 is 0.0989010989010989\n",
      "The J.S for document 12 and document 5 is 0.1111111111111111\n",
      "The J.S for document 12 and document 6 is 0.09289617486338798\n",
      "The J.S for document 12 and document 7 is 0.06382978723404255\n",
      "The J.S for document 12 and document 8 is 0.08695652173913043\n",
      "The J.S for document 12 and document 9 is 0.08695652173913043\n",
      "The J.S for document 12 and document 10 is 0.09289617486338798\n",
      "The J.S for document 12 and document 11 is 0.08108108108108109\n",
      "The J.S for document 12 and document 13 is 0.0582010582010582\n",
      "The J.S for document 12 and document 14 is 0.07526881720430108\n",
      "The J.S for document 12 and document 15 is 0.09289617486338798\n",
      "The J.S for document 12 and document 16 is 0.1111111111111111\n",
      "The J.S for document 12 and document 17 is 0.0582010582010582\n",
      "The J.S for document 12 and document 18 is 0.0989010989010989\n",
      "The J.S for document 12 and document 19 is 0.05263157894736842\n",
      "The J.S for document 13 and document 0 is 0.0582010582010582\n",
      "The J.S for document 13 and document 1 is 0.1111111111111111\n",
      "The J.S for document 13 and document 2 is 0.06382978723404255\n",
      "The J.S for document 13 and document 3 is 0.06382978723404255\n",
      "The J.S for document 13 and document 4 is 0.08108108108108109\n",
      "The J.S for document 13 and document 5 is 0.07526881720430108\n",
      "The J.S for document 13 and document 6 is 0.04712041884816754\n",
      "The J.S for document 13 and document 7 is 0.0582010582010582\n",
      "The J.S for document 13 and document 8 is 0.07526881720430108\n",
      "The J.S for document 13 and document 9 is 0.05263157894736842\n",
      "The J.S for document 13 and document 10 is 0.11731843575418995\n",
      "The J.S for document 13 and document 11 is 0.0989010989010989\n",
      "The J.S for document 13 and document 12 is 0.0582010582010582\n",
      "The J.S for document 13 and document 14 is 0.041666666666666664\n",
      "The J.S for document 13 and document 15 is 0.07526881720430108\n",
      "The J.S for document 13 and document 16 is 0.08695652173913043\n",
      "The J.S for document 13 and document 17 is 0.08108108108108109\n",
      "The J.S for document 13 and document 18 is 0.0582010582010582\n",
      "The J.S for document 13 and document 19 is 0.04712041884816754\n",
      "The J.S for document 14 and document 0 is 0.04712041884816754\n",
      "The J.S for document 14 and document 1 is 0.03626943005181347\n",
      "The J.S for document 14 and document 2 is 0.05263157894736842\n",
      "The J.S for document 14 and document 3 is 0.0582010582010582\n",
      "The J.S for document 14 and document 4 is 0.08695652173913043\n",
      "The J.S for document 14 and document 5 is 0.0582010582010582\n",
      "The J.S for document 14 and document 6 is 0.08108108108108109\n",
      "The J.S for document 14 and document 7 is 0.0582010582010582\n",
      "The J.S for document 14 and document 8 is 0.08108108108108109\n",
      "The J.S for document 14 and document 9 is 0.06382978723404255\n",
      "The J.S for document 14 and document 10 is 0.06382978723404255\n",
      "The J.S for document 14 and document 11 is 0.07526881720430108\n",
      "The J.S for document 14 and document 12 is 0.07526881720430108\n",
      "The J.S for document 14 and document 13 is 0.041666666666666664\n",
      "The J.S for document 14 and document 15 is 0.0582010582010582\n",
      "The J.S for document 14 and document 16 is 0.08108108108108109\n",
      "The J.S for document 14 and document 17 is 0.04712041884816754\n",
      "The J.S for document 14 and document 18 is 0.07526881720430108\n",
      "The J.S for document 14 and document 19 is 0.05263157894736842\n",
      "The J.S for document 15 and document 0 is 0.0582010582010582\n",
      "The J.S for document 15 and document 1 is 0.06382978723404255\n",
      "The J.S for document 15 and document 2 is 0.08108108108108109\n",
      "The J.S for document 15 and document 3 is 0.08108108108108109\n",
      "The J.S for document 15 and document 4 is 0.08695652173913043\n",
      "The J.S for document 15 and document 5 is 0.11731843575418995\n",
      "The J.S for document 15 and document 6 is 0.09289617486338798\n",
      "The J.S for document 15 and document 7 is 0.05263157894736842\n",
      "The J.S for document 15 and document 8 is 0.1111111111111111\n",
      "The J.S for document 15 and document 9 is 0.08108108108108109\n",
      "The J.S for document 15 and document 10 is 0.06382978723404255\n",
      "The J.S for document 15 and document 11 is 0.04712041884816754\n",
      "The J.S for document 15 and document 12 is 0.09289617486338798\n",
      "The J.S for document 15 and document 13 is 0.07526881720430108\n",
      "The J.S for document 15 and document 14 is 0.0582010582010582\n",
      "The J.S for document 15 and document 16 is 0.08108108108108109\n",
      "The J.S for document 15 and document 17 is 0.08695652173913043\n",
      "The J.S for document 15 and document 18 is 0.09289617486338798\n",
      "The J.S for document 15 and document 19 is 0.0989010989010989\n",
      "The J.S for document 16 and document 0 is 0.07526881720430108\n",
      "The J.S for document 16 and document 1 is 0.08695652173913043\n",
      "The J.S for document 16 and document 2 is 0.1111111111111111\n",
      "The J.S for document 16 and document 3 is 0.0989010989010989\n",
      "The J.S for document 16 and document 4 is 0.09289617486338798\n",
      "The J.S for document 16 and document 5 is 0.1111111111111111\n",
      "The J.S for document 16 and document 6 is 0.11731843575418995\n",
      "The J.S for document 16 and document 7 is 0.08695652173913043\n",
      "The J.S for document 16 and document 8 is 0.08108108108108109\n",
      "The J.S for document 16 and document 9 is 0.0989010989010989\n",
      "The J.S for document 16 and document 10 is 0.08108108108108109\n",
      "The J.S for document 16 and document 11 is 0.11731843575418995\n",
      "The J.S for document 16 and document 12 is 0.1111111111111111\n",
      "The J.S for document 16 and document 13 is 0.08695652173913043\n",
      "The J.S for document 16 and document 14 is 0.08108108108108109\n",
      "The J.S for document 16 and document 15 is 0.08108108108108109\n",
      "The J.S for document 16 and document 17 is 0.1111111111111111\n",
      "The J.S for document 16 and document 18 is 0.0582010582010582\n",
      "The J.S for document 16 and document 19 is 0.08695652173913043\n",
      "The J.S for document 17 and document 0 is 0.0582010582010582\n",
      "The J.S for document 17 and document 1 is 0.06382978723404255\n",
      "The J.S for document 17 and document 2 is 0.06951871657754011\n",
      "The J.S for document 17 and document 3 is 0.0989010989010989\n",
      "The J.S for document 17 and document 4 is 0.10497237569060773\n",
      "The J.S for document 17 and document 5 is 0.10497237569060773\n",
      "The J.S for document 17 and document 6 is 0.12359550561797752\n",
      "The J.S for document 17 and document 7 is 0.06951871657754011\n",
      "The J.S for document 17 and document 8 is 0.09289617486338798\n",
      "The J.S for document 17 and document 9 is 0.1111111111111111\n",
      "The J.S for document 17 and document 10 is 0.06382978723404255\n",
      "The J.S for document 17 and document 11 is 0.06951871657754011\n",
      "The J.S for document 17 and document 12 is 0.0582010582010582\n",
      "The J.S for document 17 and document 13 is 0.08108108108108109\n",
      "The J.S for document 17 and document 14 is 0.04712041884816754\n",
      "The J.S for document 17 and document 15 is 0.08695652173913043\n",
      "The J.S for document 17 and document 16 is 0.1111111111111111\n",
      "The J.S for document 17 and document 18 is 0.0582010582010582\n",
      "The J.S for document 17 and document 19 is 0.08108108108108109\n",
      "The J.S for document 18 and document 0 is 0.09289617486338798\n",
      "The J.S for document 18 and document 1 is 0.06382978723404255\n",
      "The J.S for document 18 and document 2 is 0.06382978723404255\n",
      "The J.S for document 18 and document 3 is 0.06382978723404255\n",
      "The J.S for document 18 and document 4 is 0.07526881720430108\n",
      "The J.S for document 18 and document 5 is 0.08695652173913043\n",
      "The J.S for document 18 and document 6 is 0.09289617486338798\n",
      "The J.S for document 18 and document 7 is 0.06382978723404255\n",
      "The J.S for document 18 and document 8 is 0.08695652173913043\n",
      "The J.S for document 18 and document 9 is 0.10497237569060773\n",
      "The J.S for document 18 and document 10 is 0.08108108108108109\n",
      "The J.S for document 18 and document 11 is 0.05263157894736842\n",
      "The J.S for document 18 and document 12 is 0.0989010989010989\n",
      "The J.S for document 18 and document 13 is 0.0582010582010582\n",
      "The J.S for document 18 and document 14 is 0.07526881720430108\n",
      "The J.S for document 18 and document 15 is 0.09289617486338798\n",
      "The J.S for document 18 and document 16 is 0.0582010582010582\n",
      "The J.S for document 18 and document 17 is 0.0582010582010582\n",
      "The J.S for document 18 and document 19 is 0.05263157894736842\n",
      "The J.S for document 19 and document 0 is 0.06382978723404255\n",
      "The J.S for document 19 and document 1 is 0.07526881720430108\n",
      "The J.S for document 19 and document 2 is 0.0989010989010989\n",
      "The J.S for document 19 and document 3 is 0.0582010582010582\n",
      "The J.S for document 19 and document 4 is 0.07526881720430108\n",
      "The J.S for document 19 and document 5 is 0.09289617486338798\n",
      "The J.S for document 19 and document 6 is 0.0989010989010989\n",
      "The J.S for document 19 and document 7 is 0.04712041884816754\n",
      "The J.S for document 19 and document 8 is 0.09289617486338798\n",
      "The J.S for document 19 and document 9 is 0.0582010582010582\n",
      "The J.S for document 19 and document 10 is 0.06951871657754011\n",
      "The J.S for document 19 and document 11 is 0.05263157894736842\n",
      "The J.S for document 19 and document 12 is 0.05263157894736842\n",
      "The J.S for document 19 and document 13 is 0.04712041884816754\n",
      "The J.S for document 19 and document 14 is 0.05263157894736842\n",
      "The J.S for document 19 and document 15 is 0.0989010989010989\n",
      "The J.S for document 19 and document 16 is 0.08695652173913043\n",
      "The J.S for document 19 and document 17 is 0.08108108108108109\n",
      "The J.S for document 19 and document 18 is 0.05263157894736842\n"
     ]
    }
   ],
   "source": [
    "similarity(list_of_dicts, jaccard)"
   ]
  },
  {
   "cell_type": "code",
   "execution_count": 23,
   "metadata": {},
   "outputs": [
    {
     "name": "stdout",
     "output_type": "stream",
     "text": [
      "The Cosine Similarity (sparse representation) for document 0 and document 1 is 0.10338319495321828\n",
      "The Cosine Similarity (sparse representation) for document 0 and document 2 is 0.08267004114290563\n",
      "The Cosine Similarity (sparse representation) for document 0 and document 3 is 0.10496165562976974\n",
      "The Cosine Similarity (sparse representation) for document 0 and document 4 is 0.10256784899270367\n",
      "The Cosine Similarity (sparse representation) for document 0 and document 5 is 0.16101694915254236\n",
      "The Cosine Similarity (sparse representation) for document 0 and document 6 is 0.13335185571076982\n",
      "The Cosine Similarity (sparse representation) for document 0 and document 7 is 0.16402261043504096\n",
      "The Cosine Similarity (sparse representation) for document 0 and document 8 is 0.17360708640010183\n",
      "The Cosine Similarity (sparse representation) for document 0 and document 9 is 0.19014109462868295\n",
      "The Cosine Similarity (sparse representation) for document 0 and document 10 is 0.1724394251251618\n",
      "The Cosine Similarity (sparse representation) for document 0 and document 11 is 0.2087667001917663\n",
      "The Cosine Similarity (sparse representation) for document 0 and document 12 is 0.14053906994293958\n",
      "The Cosine Similarity (sparse representation) for document 0 and document 13 is 0.15237459493410543\n",
      "The Cosine Similarity (sparse representation) for document 0 and document 14 is 0.11864406779661017\n",
      "The Cosine Similarity (sparse representation) for document 0 and document 15 is 0.11864406779661017\n",
      "The Cosine Similarity (sparse representation) for document 0 and document 16 is 0.1558214799132889\n",
      "The Cosine Similarity (sparse representation) for document 0 and document 17 is 0.12107322793720048\n",
      "The Cosine Similarity (sparse representation) for document 0 and document 18 is 0.1843240263427725\n",
      "The Cosine Similarity (sparse representation) for document 0 and document 19 is 0.10892385771565849\n",
      "The Cosine Similarity (sparse representation) for document 1 and document 0 is 0.10338319495321828\n",
      "The Cosine Similarity (sparse representation) for document 1 and document 2 is 0.263764094129489\n",
      "The Cosine Similarity (sparse representation) for document 1 and document 3 is 0.3182183467185532\n",
      "The Cosine Similarity (sparse representation) for document 1 and document 4 is 0.24062450914321204\n",
      "The Cosine Similarity (sparse representation) for document 1 and document 5 is 0.24652915719613588\n",
      "The Cosine Similarity (sparse representation) for document 1 and document 6 is 0.24245401441701145\n",
      "The Cosine Similarity (sparse representation) for document 1 and document 7 is 0.16931093539785705\n",
      "The Cosine Similarity (sparse representation) for document 1 and document 8 is 0.22497525675750532\n",
      "The Cosine Similarity (sparse representation) for document 1 and document 9 is 0.1551553494879347\n",
      "The Cosine Similarity (sparse representation) for document 1 and document 10 is 0.2103625967229588\n",
      "The Cosine Similarity (sparse representation) for document 1 and document 11 is 0.2285581019569187\n",
      "The Cosine Similarity (sparse representation) for document 1 and document 12 is 0.24824855918069552\n",
      "The Cosine Similarity (sparse representation) for document 1 and document 13 is 0.32172416819495553\n",
      "The Cosine Similarity (sparse representation) for document 1 and document 14 is 0.07157298112145881\n",
      "The Cosine Similarity (sparse representation) for document 1 and document 15 is 0.1749561760746771\n",
      "The Cosine Similarity (sparse representation) for document 1 and document 16 is 0.23087854826980506\n",
      "The Cosine Similarity (sparse representation) for document 1 and document 17 is 0.1988267320629086\n",
      "The Cosine Similarity (sparse representation) for document 1 and document 18 is 0.11531327161512436\n",
      "The Cosine Similarity (sparse representation) for document 1 and document 19 is 0.19712756035954207\n",
      "The Cosine Similarity (sparse representation) for document 2 and document 0 is 0.08267004114290563\n",
      "The Cosine Similarity (sparse representation) for document 2 and document 1 is 0.263764094129489\n",
      "The Cosine Similarity (sparse representation) for document 2 and document 3 is 0.2599150462468625\n",
      "The Cosine Similarity (sparse representation) for document 2 and document 4 is 0.26681493838602804\n",
      "The Cosine Similarity (sparse representation) for document 2 and document 5 is 0.2232091110858452\n",
      "The Cosine Similarity (sparse representation) for document 2 and document 6 is 0.21951945016451005\n",
      "The Cosine Similarity (sparse representation) for document 2 and document 7 is 0.232007424356371\n",
      "The Cosine Similarity (sparse representation) for document 2 and document 8 is 0.22580645161290322\n",
      "The Cosine Similarity (sparse representation) for document 2 and document 9 is 0.14516129032258066\n",
      "The Cosine Similarity (sparse representation) for document 2 and document 10 is 0.15980498868496612\n",
      "The Cosine Similarity (sparse representation) for document 2 and document 11 is 0.2036532699906392\n",
      "The Cosine Similarity (sparse representation) for document 2 and document 12 is 0.16129032258064516\n",
      "The Cosine Similarity (sparse representation) for document 2 and document 13 is 0.22296360837234858\n",
      "The Cosine Similarity (sparse representation) for document 2 and document 14 is 0.14880607405723012\n",
      "The Cosine Similarity (sparse representation) for document 2 and document 15 is 0.2232091110858452\n",
      "The Cosine Similarity (sparse representation) for document 2 and document 16 is 0.2800089604301029\n",
      "The Cosine Similarity (sparse representation) for document 2 and document 17 is 0.19192504349118508\n",
      "The Cosine Similarity (sparse representation) for document 2 and document 18 is 0.1541222426814169\n",
      "The Cosine Similarity (sparse representation) for document 2 and document 19 is 0.23528098702858005\n",
      "The Cosine Similarity (sparse representation) for document 3 and document 0 is 0.10496165562976974\n",
      "The Cosine Similarity (sparse representation) for document 3 and document 1 is 0.3182183467185532\n",
      "The Cosine Similarity (sparse representation) for document 3 and document 2 is 0.2599150462468625\n",
      "The Cosine Similarity (sparse representation) for document 3 and document 4 is 0.2524416575189768\n",
      "The Cosine Similarity (sparse representation) for document 3 and document 5 is 0.22607125827950403\n",
      "The Cosine Similarity (sparse representation) for document 3 and document 6 is 0.24615581651166007\n",
      "The Cosine Similarity (sparse representation) for document 3 and document 7 is 0.09376144618769908\n",
      "The Cosine Similarity (sparse representation) for document 3 and document 8 is 0.17327669749790836\n",
      "The Cosine Similarity (sparse representation) for document 3 and document 9 is 0.14964805693001176\n",
      "The Cosine Similarity (sparse representation) for document 3 and document 10 is 0.23821762807690303\n",
      "The Cosine Similarity (sparse representation) for document 3 and document 11 is 0.19889806323953876\n",
      "The Cosine Similarity (sparse representation) for document 3 and document 12 is 0.22841019215633374\n",
      "The Cosine Similarity (sparse representation) for document 3 and document 13 is 0.21049893061308372\n",
      "The Cosine Similarity (sparse representation) for document 3 and document 14 is 0.1372575496696989\n",
      "The Cosine Similarity (sparse representation) for document 3 and document 15 is 0.21799728476952177\n",
      "The Cosine Similarity (sparse representation) for document 3 and document 16 is 0.27347088471412234\n",
      "The Cosine Similarity (sparse representation) for document 3 and document 17 is 0.2811655278551303\n",
      "The Cosine Similarity (sparse representation) for document 3 and document 18 is 0.1337987216011345\n",
      "The Cosine Similarity (sparse representation) for document 3 and document 19 is 0.17048734283205327\n",
      "The Cosine Similarity (sparse representation) for document 4 and document 0 is 0.10256784899270367\n",
      "The Cosine Similarity (sparse representation) for document 4 and document 1 is 0.24062450914321204\n",
      "The Cosine Similarity (sparse representation) for document 4 and document 2 is 0.26681493838602804\n",
      "The Cosine Similarity (sparse representation) for document 4 and document 3 is 0.2524416575189768\n",
      "The Cosine Similarity (sparse representation) for document 4 and document 5 is 0.2478723017323672\n",
      "The Cosine Similarity (sparse representation) for document 4 and document 6 is 0.24377495668791888\n",
      "The Cosine Similarity (sparse representation) for document 4 and document 7 is 0.1819736112280039\n",
      "The Cosine Similarity (sparse representation) for document 4 and document 8 is 0.27515290521059144\n",
      "The Cosine Similarity (sparse representation) for document 4 and document 9 is 0.1667593364912675\n",
      "The Cosine Similarity (sparse representation) for document 4 and document 10 is 0.19131158091484038\n",
      "The Cosine Similarity (sparse representation) for document 4 and document 11 is 0.193012161744489\n",
      "The Cosine Similarity (sparse representation) for document 4 and document 12 is 0.22512510426321114\n",
      "The Cosine Similarity (sparse representation) for document 4 and document 13 is 0.26126034411427157\n",
      "The Cosine Similarity (sparse representation) for document 4 and document 14 is 0.17949373573723143\n",
      "The Cosine Similarity (sparse representation) for document 4 and document 15 is 0.2136830187347993\n",
      "The Cosine Similarity (sparse representation) for document 4 and document 16 is 0.26468888905891474\n",
      "The Cosine Similarity (sparse representation) for document 4 and document 17 is 0.3281773495940567\n",
      "The Cosine Similarity (sparse representation) for document 4 and document 18 is 0.1682008800516714\n",
      "The Cosine Similarity (sparse representation) for document 4 and document 19 is 0.18048238591512406\n",
      "The Cosine Similarity (sparse representation) for document 5 and document 0 is 0.16101694915254236\n",
      "The Cosine Similarity (sparse representation) for document 5 and document 1 is 0.24652915719613588\n",
      "The Cosine Similarity (sparse representation) for document 5 and document 2 is 0.2232091110858452\n",
      "The Cosine Similarity (sparse representation) for document 5 and document 3 is 0.22607125827950403\n",
      "The Cosine Similarity (sparse representation) for document 5 and document 4 is 0.2478723017323672\n",
      "The Cosine Similarity (sparse representation) for document 5 and document 6 is 0.33337963927692454\n",
      "The Cosine Similarity (sparse representation) for document 5 and document 7 is 0.172223740956793\n",
      "The Cosine Similarity (sparse representation) for document 5 and document 8 is 0.264544131657298\n",
      "The Cosine Similarity (sparse representation) for document 5 and document 9 is 0.16534008228581126\n",
      "The Cosine Similarity (sparse representation) for document 5 and document 10 is 0.14657351135638752\n",
      "The Cosine Similarity (sparse representation) for document 5 and document 11 is 0.25225976273171763\n",
      "The Cosine Similarity (sparse representation) for document 5 and document 12 is 0.27281113577158855\n",
      "The Cosine Similarity (sparse representation) for document 5 and document 13 is 0.20570570316104236\n",
      "The Cosine Similarity (sparse representation) for document 5 and document 14 is 0.1271186440677966\n",
      "The Cosine Similarity (sparse representation) for document 5 and document 15 is 0.2796610169491525\n",
      "The Cosine Similarity (sparse representation) for document 5 and document 16 is 0.29524069878307374\n",
      "The Cosine Similarity (sparse representation) for document 5 and document 17 is 0.2875489163508511\n",
      "The Cosine Similarity (sparse representation) for document 5 and document 18 is 0.16676935716727037\n",
      "The Cosine Similarity (sparse representation) for document 5 and document 19 is 0.2723096442891462\n",
      "The Cosine Similarity (sparse representation) for document 6 and document 0 is 0.13335185571076982\n",
      "The Cosine Similarity (sparse representation) for document 6 and document 1 is 0.24245401441701145\n",
      "The Cosine Similarity (sparse representation) for document 6 and document 2 is 0.21951945016451005\n",
      "The Cosine Similarity (sparse representation) for document 6 and document 3 is 0.24615581651166007\n",
      "The Cosine Similarity (sparse representation) for document 6 and document 4 is 0.24377495668791888\n",
      "The Cosine Similarity (sparse representation) for document 6 and document 5 is 0.33337963927692454\n",
      "The Cosine Similarity (sparse representation) for document 6 and document 7 is 0.22583582863138607\n",
      "The Cosine Similarity (sparse representation) for document 6 and document 8 is 0.23578015017669599\n",
      "The Cosine Similarity (sparse representation) for document 6 and document 9 is 0.13008560009748743\n",
      "The Cosine Similarity (sparse representation) for document 6 and document 10 is 0.1950273389240886\n",
      "The Cosine Similarity (sparse representation) for document 6 and document 11 is 0.22242542101947535\n",
      "The Cosine Similarity (sparse representation) for document 6 and document 12 is 0.25204085018888195\n",
      "The Cosine Similarity (sparse representation) for document 6 and document 13 is 0.19481258303987187\n",
      "The Cosine Similarity (sparse representation) for document 6 and document 14 is 0.16668981963846227\n",
      "The Cosine Similarity (sparse representation) for document 6 and document 15 is 0.2583692204396165\n",
      "The Cosine Similarity (sparse representation) for document 6 and document 16 is 0.3226226123305515\n",
      "The Cosine Similarity (sparse representation) for document 6 and document 17 is 0.3200056767329887\n",
      "The Cosine Similarity (sparse representation) for document 6 and document 18 is 0.19854162773425654\n",
      "The Cosine Similarity (sparse representation) for document 6 and document 19 is 0.26780834840499246\n",
      "The Cosine Similarity (sparse representation) for document 7 and document 0 is 0.16402261043504096\n",
      "The Cosine Similarity (sparse representation) for document 7 and document 1 is 0.16931093539785705\n",
      "The Cosine Similarity (sparse representation) for document 7 and document 2 is 0.232007424356371\n",
      "The Cosine Similarity (sparse representation) for document 7 and document 3 is 0.09376144618769908\n",
      "The Cosine Similarity (sparse representation) for document 7 and document 4 is 0.1819736112280039\n",
      "The Cosine Similarity (sparse representation) for document 7 and document 5 is 0.172223740956793\n",
      "The Cosine Similarity (sparse representation) for document 7 and document 6 is 0.22583582863138607\n",
      "The Cosine Similarity (sparse representation) for document 7 and document 8 is 0.1440046082211958\n",
      "The Cosine Similarity (sparse representation) for document 7 and document 9 is 0.15200486423348444\n",
      "The Cosine Similarity (sparse representation) for document 7 and document 10 is 0.15018785229652767\n",
      "The Cosine Similarity (sparse representation) for document 7 and document 11 is 0.16835875742536846\n",
      "The Cosine Similarity (sparse representation) for document 7 and document 12 is 0.12800409619661848\n",
      "The Cosine Similarity (sparse representation) for document 7 and document 13 is 0.1695766828281267\n",
      "The Cosine Similarity (sparse representation) for document 7 and document 14 is 0.13121808834803275\n",
      "The Cosine Similarity (sparse representation) for document 7 and document 15 is 0.14762034939153687\n",
      "The Cosine Similarity (sparse representation) for document 7 and document 16 is 0.2222222222222222\n",
      "The Cosine Similarity (sparse representation) for document 7 and document 17 is 0.15378117130731137\n",
      "The Cosine Similarity (sparse representation) for document 7 and document 18 is 0.14440003757399392\n",
      "The Cosine Similarity (sparse representation) for document 7 and document 19 is 0.15058465048420855\n",
      "The Cosine Similarity (sparse representation) for document 8 and document 0 is 0.17360708640010183\n",
      "The Cosine Similarity (sparse representation) for document 8 and document 1 is 0.22497525675750532\n",
      "The Cosine Similarity (sparse representation) for document 8 and document 2 is 0.22580645161290322\n",
      "The Cosine Similarity (sparse representation) for document 8 and document 3 is 0.17327669749790836\n",
      "The Cosine Similarity (sparse representation) for document 8 and document 4 is 0.27515290521059144\n",
      "The Cosine Similarity (sparse representation) for document 8 and document 5 is 0.264544131657298\n",
      "The Cosine Similarity (sparse representation) for document 8 and document 6 is 0.23578015017669599\n",
      "The Cosine Similarity (sparse representation) for document 8 and document 7 is 0.1440046082211958\n",
      "The Cosine Similarity (sparse representation) for document 8 and document 9 is 0.28225806451612906\n",
      "The Cosine Similarity (sparse representation) for document 8 and document 10 is 0.15139419980681001\n",
      "The Cosine Similarity (sparse representation) for document 8 and document 11 is 0.2036532699906392\n",
      "The Cosine Similarity (sparse representation) for document 8 and document 12 is 0.22580645161290322\n",
      "The Cosine Similarity (sparse representation) for document 8 and document 13 is 0.23782784893050513\n",
      "The Cosine Similarity (sparse representation) for document 8 and document 14 is 0.16534008228581126\n",
      "The Cosine Similarity (sparse representation) for document 8 and document 15 is 0.2480101234287169\n",
      "The Cosine Similarity (sparse representation) for document 8 and document 16 is 0.22400716834408235\n",
      "The Cosine Similarity (sparse representation) for document 8 and document 17 is 0.28788756523677766\n",
      "The Cosine Similarity (sparse representation) for document 8 and document 18 is 0.23118336402212533\n",
      "The Cosine Similarity (sparse representation) for document 8 and document 19 is 0.18974273147466134\n",
      "The Cosine Similarity (sparse representation) for document 9 and document 0 is 0.19014109462868295\n",
      "The Cosine Similarity (sparse representation) for document 9 and document 1 is 0.1551553494879347\n",
      "The Cosine Similarity (sparse representation) for document 9 and document 2 is 0.14516129032258066\n",
      "The Cosine Similarity (sparse representation) for document 9 and document 3 is 0.14964805693001176\n",
      "The Cosine Similarity (sparse representation) for document 9 and document 4 is 0.1667593364912675\n",
      "The Cosine Similarity (sparse representation) for document 9 and document 5 is 0.16534008228581126\n",
      "The Cosine Similarity (sparse representation) for document 9 and document 6 is 0.13008560009748743\n",
      "The Cosine Similarity (sparse representation) for document 9 and document 7 is 0.15200486423348444\n",
      "The Cosine Similarity (sparse representation) for document 9 and document 8 is 0.28225806451612906\n",
      "The Cosine Similarity (sparse representation) for document 9 and document 10 is 0.16821577756312223\n",
      "The Cosine Similarity (sparse representation) for document 9 and document 11 is 0.13576884666042613\n",
      "The Cosine Similarity (sparse representation) for document 9 and document 12 is 0.18548387096774194\n",
      "The Cosine Similarity (sparse representation) for document 9 and document 13 is 0.156074525860644\n",
      "The Cosine Similarity (sparse representation) for document 9 and document 14 is 0.132272065828649\n",
      "The Cosine Similarity (sparse representation) for document 9 and document 15 is 0.16534008228581126\n",
      "The Cosine Similarity (sparse representation) for document 9 and document 16 is 0.232007424356371\n",
      "The Cosine Similarity (sparse representation) for document 9 and document 17 is 0.2657423679108717\n",
      "The Cosine Similarity (sparse representation) for document 9 and document 18 is 0.23974571083775958\n",
      "The Cosine Similarity (sparse representation) for document 9 and document 19 is 0.18974273147466134\n",
      "The Cosine Similarity (sparse representation) for document 10 and document 0 is 0.1724394251251618\n",
      "The Cosine Similarity (sparse representation) for document 10 and document 1 is 0.2103625967229588\n",
      "The Cosine Similarity (sparse representation) for document 10 and document 2 is 0.15980498868496612\n",
      "The Cosine Similarity (sparse representation) for document 10 and document 3 is 0.23821762807690303\n",
      "The Cosine Similarity (sparse representation) for document 10 and document 4 is 0.19131158091484038\n",
      "The Cosine Similarity (sparse representation) for document 10 and document 5 is 0.14657351135638752\n",
      "The Cosine Similarity (sparse representation) for document 10 and document 6 is 0.1950273389240886\n",
      "The Cosine Similarity (sparse representation) for document 10 and document 7 is 0.15018785229652767\n",
      "The Cosine Similarity (sparse representation) for document 10 and document 8 is 0.15139419980681001\n",
      "The Cosine Similarity (sparse representation) for document 10 and document 9 is 0.16821577756312223\n",
      "The Cosine Similarity (sparse representation) for document 10 and document 11 is 0.16814817728363732\n",
      "The Cosine Similarity (sparse representation) for document 10 and document 12 is 0.21868051083205892\n",
      "The Cosine Similarity (sparse representation) for document 10 and document 13 is 0.28679585515318196\n",
      "The Cosine Similarity (sparse representation) for document 10 and document 14 is 0.10346365507509707\n",
      "The Cosine Similarity (sparse representation) for document 10 and document 15 is 0.1638174538689037\n",
      "The Cosine Similarity (sparse representation) for document 10 and document 16 is 0.20025046972870356\n",
      "The Cosine Similarity (sparse representation) for document 10 and document 17 is 0.20016588663317567\n",
      "The Cosine Similarity (sparse representation) for document 10 and document 18 is 0.17859990659227326\n",
      "The Cosine Similarity (sparse representation) for document 10 and document 19 is 0.1424807070437933\n",
      "The Cosine Similarity (sparse representation) for document 11 and document 0 is 0.2087667001917663\n",
      "The Cosine Similarity (sparse representation) for document 11 and document 1 is 0.2285581019569187\n",
      "The Cosine Similarity (sparse representation) for document 11 and document 2 is 0.2036532699906392\n",
      "The Cosine Similarity (sparse representation) for document 11 and document 3 is 0.19889806323953876\n",
      "The Cosine Similarity (sparse representation) for document 11 and document 4 is 0.193012161744489\n",
      "The Cosine Similarity (sparse representation) for document 11 and document 5 is 0.25225976273171763\n",
      "The Cosine Similarity (sparse representation) for document 11 and document 6 is 0.22242542101947535\n",
      "The Cosine Similarity (sparse representation) for document 11 and document 7 is 0.16835875742536846\n",
      "The Cosine Similarity (sparse representation) for document 11 and document 8 is 0.2036532699906392\n",
      "The Cosine Similarity (sparse representation) for document 11 and document 9 is 0.13576884666042613\n",
      "The Cosine Similarity (sparse representation) for document 11 and document 10 is 0.16814817728363732\n",
      "The Cosine Similarity (sparse representation) for document 11 and document 12 is 0.21213882290691585\n",
      "The Cosine Similarity (sparse representation) for document 11 and document 13 is 0.2502444988359418\n",
      "The Cosine Similarity (sparse representation) for document 11 and document 14 is 0.1391778001278442\n",
      "The Cosine Similarity (sparse representation) for document 11 and document 15 is 0.14787641263583445\n",
      "The Cosine Similarity (sparse representation) for document 11 and document 16 is 0.26937401188058957\n",
      "The Cosine Similarity (sparse representation) for document 11 and document 17 is 0.209712296025405\n",
      "The Cosine Similarity (sparse representation) for document 11 and document 18 is 0.09910312089651148\n",
      "The Cosine Similarity (sparse representation) for document 11 and document 19 is 0.14374722712498647\n",
      "The Cosine Similarity (sparse representation) for document 12 and document 0 is 0.14053906994293958\n",
      "The Cosine Similarity (sparse representation) for document 12 and document 1 is 0.24824855918069552\n",
      "The Cosine Similarity (sparse representation) for document 12 and document 2 is 0.16129032258064516\n",
      "The Cosine Similarity (sparse representation) for document 12 and document 3 is 0.22841019215633374\n",
      "The Cosine Similarity (sparse representation) for document 12 and document 4 is 0.22512510426321114\n",
      "The Cosine Similarity (sparse representation) for document 12 and document 5 is 0.27281113577158855\n",
      "The Cosine Similarity (sparse representation) for document 12 and document 6 is 0.25204085018888195\n",
      "The Cosine Similarity (sparse representation) for document 12 and document 7 is 0.12800409619661848\n",
      "The Cosine Similarity (sparse representation) for document 12 and document 8 is 0.22580645161290322\n",
      "The Cosine Similarity (sparse representation) for document 12 and document 9 is 0.18548387096774194\n",
      "The Cosine Similarity (sparse representation) for document 12 and document 10 is 0.21868051083205892\n",
      "The Cosine Similarity (sparse representation) for document 12 and document 11 is 0.21213882290691585\n",
      "The Cosine Similarity (sparse representation) for document 12 and document 13 is 0.17837088669787884\n",
      "The Cosine Similarity (sparse representation) for document 12 and document 14 is 0.1570730781715207\n",
      "The Cosine Similarity (sparse representation) for document 12 and document 15 is 0.20667510285726406\n",
      "The Cosine Similarity (sparse representation) for document 12 and document 16 is 0.2480079363809483\n",
      "The Cosine Similarity (sparse representation) for document 12 and document 17 is 0.17716157860724777\n",
      "The Cosine Similarity (sparse representation) for document 12 and document 18 is 0.18837162994395396\n",
      "The Cosine Similarity (sparse representation) for document 12 and document 19 is 0.10625592962581035\n",
      "The Cosine Similarity (sparse representation) for document 13 and document 0 is 0.15237459493410543\n",
      "The Cosine Similarity (sparse representation) for document 13 and document 1 is 0.32172416819495553\n",
      "The Cosine Similarity (sparse representation) for document 13 and document 2 is 0.22296360837234858\n",
      "The Cosine Similarity (sparse representation) for document 13 and document 3 is 0.21049893061308372\n",
      "The Cosine Similarity (sparse representation) for document 13 and document 4 is 0.26126034411427157\n",
      "The Cosine Similarity (sparse representation) for document 13 and document 5 is 0.20570570316104236\n",
      "The Cosine Similarity (sparse representation) for document 13 and document 6 is 0.19481258303987187\n",
      "The Cosine Similarity (sparse representation) for document 13 and document 7 is 0.1695766828281267\n",
      "The Cosine Similarity (sparse representation) for document 13 and document 8 is 0.23782784893050513\n",
      "The Cosine Similarity (sparse representation) for document 13 and document 9 is 0.156074525860644\n",
      "The Cosine Similarity (sparse representation) for document 13 and document 10 is 0.28679585515318196\n",
      "The Cosine Similarity (sparse representation) for document 13 and document 11 is 0.2502444988359418\n",
      "The Cosine Similarity (sparse representation) for document 13 and document 12 is 0.17837088669787884\n",
      "The Cosine Similarity (sparse representation) for document 13 and document 14 is 0.06856856772034745\n",
      "The Cosine Similarity (sparse representation) for document 13 and document 15 is 0.1980869734143371\n",
      "The Cosine Similarity (sparse representation) for document 13 and document 16 is 0.25067857461549164\n",
      "The Cosine Similarity (sparse representation) for document 13 and document 17 is 0.2857208969457772\n",
      "The Cosine Similarity (sparse representation) for document 13 and document 18 is 0.14992733815012546\n",
      "The Cosine Similarity (sparse representation) for document 13 and document 19 is 0.16087456673785316\n",
      "The Cosine Similarity (sparse representation) for document 14 and document 0 is 0.11864406779661017\n",
      "The Cosine Similarity (sparse representation) for document 14 and document 1 is 0.07157298112145881\n",
      "The Cosine Similarity (sparse representation) for document 14 and document 2 is 0.14880607405723012\n",
      "The Cosine Similarity (sparse representation) for document 14 and document 3 is 0.1372575496696989\n",
      "The Cosine Similarity (sparse representation) for document 14 and document 4 is 0.17949373573723143\n",
      "The Cosine Similarity (sparse representation) for document 14 and document 5 is 0.1271186440677966\n",
      "The Cosine Similarity (sparse representation) for document 14 and document 6 is 0.16668981963846227\n",
      "The Cosine Similarity (sparse representation) for document 14 and document 7 is 0.13121808834803275\n",
      "The Cosine Similarity (sparse representation) for document 14 and document 8 is 0.16534008228581126\n",
      "The Cosine Similarity (sparse representation) for document 14 and document 9 is 0.132272065828649\n",
      "The Cosine Similarity (sparse representation) for document 14 and document 10 is 0.10346365507509707\n",
      "The Cosine Similarity (sparse representation) for document 14 and document 11 is 0.1391778001278442\n",
      "The Cosine Similarity (sparse representation) for document 14 and document 12 is 0.1570730781715207\n",
      "The Cosine Similarity (sparse representation) for document 14 and document 13 is 0.06856856772034745\n",
      "The Cosine Similarity (sparse representation) for document 14 and document 15 is 0.11864406779661017\n",
      "The Cosine Similarity (sparse representation) for document 14 and document 16 is 0.18042487147854505\n",
      "The Cosine Similarity (sparse representation) for document 14 and document 17 is 0.09837199769897538\n",
      "The Cosine Similarity (sparse representation) for document 14 and document 18 is 0.1492146879917682\n",
      "The Cosine Similarity (sparse representation) for document 14 and document 19 is 0.10892385771565849\n",
      "The Cosine Similarity (sparse representation) for document 15 and document 0 is 0.11864406779661017\n",
      "The Cosine Similarity (sparse representation) for document 15 and document 1 is 0.1749561760746771\n",
      "The Cosine Similarity (sparse representation) for document 15 and document 2 is 0.2232091110858452\n",
      "The Cosine Similarity (sparse representation) for document 15 and document 3 is 0.21799728476952177\n",
      "The Cosine Similarity (sparse representation) for document 15 and document 4 is 0.2136830187347993\n",
      "The Cosine Similarity (sparse representation) for document 15 and document 5 is 0.2796610169491525\n",
      "The Cosine Similarity (sparse representation) for document 15 and document 6 is 0.2583692204396165\n",
      "The Cosine Similarity (sparse representation) for document 15 and document 7 is 0.14762034939153687\n",
      "The Cosine Similarity (sparse representation) for document 15 and document 8 is 0.2480101234287169\n",
      "The Cosine Similarity (sparse representation) for document 15 and document 9 is 0.16534008228581126\n",
      "The Cosine Similarity (sparse representation) for document 15 and document 10 is 0.1638174538689037\n",
      "The Cosine Similarity (sparse representation) for document 15 and document 11 is 0.14787641263583445\n",
      "The Cosine Similarity (sparse representation) for document 15 and document 12 is 0.20667510285726406\n",
      "The Cosine Similarity (sparse representation) for document 15 and document 13 is 0.1980869734143371\n",
      "The Cosine Similarity (sparse representation) for document 15 and document 14 is 0.11864406779661017\n",
      "The Cosine Similarity (sparse representation) for document 15 and document 16 is 0.21322939356555323\n",
      "The Cosine Similarity (sparse representation) for document 15 and document 17 is 0.24214645587440095\n",
      "The Cosine Similarity (sparse representation) for document 15 and document 18 is 0.1843240263427725\n",
      "The Cosine Similarity (sparse representation) for document 15 and document 19 is 0.21006743988019852\n",
      "The Cosine Similarity (sparse representation) for document 16 and document 0 is 0.1558214799132889\n",
      "The Cosine Similarity (sparse representation) for document 16 and document 1 is 0.23087854826980506\n",
      "The Cosine Similarity (sparse representation) for document 16 and document 2 is 0.2800089604301029\n",
      "The Cosine Similarity (sparse representation) for document 16 and document 3 is 0.27347088471412234\n",
      "The Cosine Similarity (sparse representation) for document 16 and document 4 is 0.26468888905891474\n",
      "The Cosine Similarity (sparse representation) for document 16 and document 5 is 0.29524069878307374\n",
      "The Cosine Similarity (sparse representation) for document 16 and document 6 is 0.3226226123305515\n",
      "The Cosine Similarity (sparse representation) for document 16 and document 7 is 0.2222222222222222\n",
      "The Cosine Similarity (sparse representation) for document 16 and document 8 is 0.22400716834408235\n",
      "The Cosine Similarity (sparse representation) for document 16 and document 9 is 0.232007424356371\n",
      "The Cosine Similarity (sparse representation) for document 16 and document 10 is 0.20025046972870356\n",
      "The Cosine Similarity (sparse representation) for document 16 and document 11 is 0.26937401188058957\n",
      "The Cosine Similarity (sparse representation) for document 16 and document 12 is 0.2480079363809483\n",
      "The Cosine Similarity (sparse representation) for document 16 and document 13 is 0.25067857461549164\n",
      "The Cosine Similarity (sparse representation) for document 16 and document 14 is 0.18042487147854505\n",
      "The Cosine Similarity (sparse representation) for document 16 and document 15 is 0.21322939356555323\n",
      "The Cosine Similarity (sparse representation) for document 16 and document 17 is 0.32953108137281006\n",
      "The Cosine Similarity (sparse representation) for document 16 and document 18 is 0.14440003757399392\n",
      "The Cosine Similarity (sparse representation) for document 16 and document 19 is 0.29364006844420665\n",
      "The Cosine Similarity (sparse representation) for document 17 and document 0 is 0.12107322793720048\n",
      "The Cosine Similarity (sparse representation) for document 17 and document 1 is 0.1988267320629086\n",
      "The Cosine Similarity (sparse representation) for document 17 and document 2 is 0.19192504349118508\n",
      "The Cosine Similarity (sparse representation) for document 17 and document 3 is 0.2811655278551303\n",
      "The Cosine Similarity (sparse representation) for document 17 and document 4 is 0.3281773495940567\n",
      "The Cosine Similarity (sparse representation) for document 17 and document 5 is 0.2875489163508511\n",
      "The Cosine Similarity (sparse representation) for document 17 and document 6 is 0.3200056767329887\n",
      "The Cosine Similarity (sparse representation) for document 17 and document 7 is 0.15378117130731137\n",
      "The Cosine Similarity (sparse representation) for document 17 and document 8 is 0.28788756523677766\n",
      "The Cosine Similarity (sparse representation) for document 17 and document 9 is 0.2657423679108717\n",
      "The Cosine Similarity (sparse representation) for document 17 and document 10 is 0.20016588663317567\n",
      "The Cosine Similarity (sparse representation) for document 17 and document 11 is 0.209712296025405\n",
      "The Cosine Similarity (sparse representation) for document 17 and document 12 is 0.17716157860724777\n",
      "The Cosine Similarity (sparse representation) for document 17 and document 13 is 0.2857208969457772\n",
      "The Cosine Similarity (sparse representation) for document 17 and document 14 is 0.09837199769897538\n",
      "The Cosine Similarity (sparse representation) for document 17 and document 15 is 0.24214645587440095\n",
      "The Cosine Similarity (sparse representation) for document 17 and document 16 is 0.32953108137281006\n",
      "The Cosine Similarity (sparse representation) for document 17 and document 18 is 0.13323604148969134\n",
      "The Cosine Similarity (sparse representation) for document 17 and document 19 is 0.22230800575069137\n",
      "The Cosine Similarity (sparse representation) for document 18 and document 0 is 0.1843240263427725\n",
      "The Cosine Similarity (sparse representation) for document 18 and document 1 is 0.11531327161512436\n",
      "The Cosine Similarity (sparse representation) for document 18 and document 2 is 0.1541222426814169\n",
      "The Cosine Similarity (sparse representation) for document 18 and document 3 is 0.1337987216011345\n",
      "The Cosine Similarity (sparse representation) for document 18 and document 4 is 0.1682008800516714\n",
      "The Cosine Similarity (sparse representation) for document 18 and document 5 is 0.16676935716727037\n",
      "The Cosine Similarity (sparse representation) for document 18 and document 6 is 0.19854162773425654\n",
      "The Cosine Similarity (sparse representation) for document 18 and document 7 is 0.14440003757399392\n",
      "The Cosine Similarity (sparse representation) for document 18 and document 8 is 0.23118336402212533\n",
      "The Cosine Similarity (sparse representation) for document 18 and document 9 is 0.23974571083775958\n",
      "The Cosine Similarity (sparse representation) for document 18 and document 10 is 0.17859990659227326\n",
      "The Cosine Similarity (sparse representation) for document 18 and document 11 is 0.09910312089651148\n",
      "The Cosine Similarity (sparse representation) for document 18 and document 12 is 0.18837162994395396\n",
      "The Cosine Similarity (sparse representation) for document 18 and document 13 is 0.14992733815012546\n",
      "The Cosine Similarity (sparse representation) for document 18 and document 14 is 0.1492146879917682\n",
      "The Cosine Similarity (sparse representation) for document 18 and document 15 is 0.1843240263427725\n",
      "The Cosine Similarity (sparse representation) for document 18 and document 16 is 0.14440003757399392\n",
      "The Cosine Similarity (sparse representation) for document 18 and document 17 is 0.13323604148969134\n",
      "The Cosine Similarity (sparse representation) for document 18 and document 19 is 0.12893167424406085\n",
      "The Cosine Similarity (sparse representation) for document 19 and document 0 is 0.10892385771565849\n",
      "The Cosine Similarity (sparse representation) for document 19 and document 1 is 0.19712756035954207\n",
      "The Cosine Similarity (sparse representation) for document 19 and document 2 is 0.23528098702858005\n",
      "The Cosine Similarity (sparse representation) for document 19 and document 3 is 0.17048734283205327\n",
      "The Cosine Similarity (sparse representation) for document 19 and document 4 is 0.18048238591512406\n",
      "The Cosine Similarity (sparse representation) for document 19 and document 5 is 0.2723096442891462\n",
      "The Cosine Similarity (sparse representation) for document 19 and document 6 is 0.26780834840499246\n",
      "The Cosine Similarity (sparse representation) for document 19 and document 7 is 0.15058465048420855\n",
      "The Cosine Similarity (sparse representation) for document 19 and document 8 is 0.18974273147466134\n",
      "The Cosine Similarity (sparse representation) for document 19 and document 9 is 0.18974273147466134\n",
      "The Cosine Similarity (sparse representation) for document 19 and document 10 is 0.1424807070437933\n",
      "The Cosine Similarity (sparse representation) for document 19 and document 11 is 0.14374722712498647\n",
      "The Cosine Similarity (sparse representation) for document 19 and document 12 is 0.10625592962581035\n",
      "The Cosine Similarity (sparse representation) for document 19 and document 13 is 0.16087456673785316\n",
      "The Cosine Similarity (sparse representation) for document 19 and document 14 is 0.10892385771565849\n",
      "The Cosine Similarity (sparse representation) for document 19 and document 15 is 0.21006743988019852\n",
      "The Cosine Similarity (sparse representation) for document 19 and document 16 is 0.29364006844420665\n",
      "The Cosine Similarity (sparse representation) for document 19 and document 17 is 0.22230800575069137\n",
      "The Cosine Similarity (sparse representation) for document 19 and document 18 is 0.12893167424406085\n"
     ]
    }
   ],
   "source": [
    "similarity(list_of_dicts, cosine_dict)"
   ]
  },
  {
   "cell_type": "code",
   "execution_count": 24,
   "metadata": {},
   "outputs": [
    {
     "name": "stdout",
     "output_type": "stream",
     "text": [
      "The Cosine Similiarity (dense representation) for document 0 and document 1 is 0.10338319495321828\n",
      "The Cosine Similiarity (dense representation) for document 0 and document 2 is 0.08267004114290563\n",
      "The Cosine Similiarity (dense representation) for document 0 and document 3 is 0.10496165562976974\n",
      "The Cosine Similiarity (dense representation) for document 0 and document 4 is 0.10256784899270367\n",
      "The Cosine Similiarity (dense representation) for document 0 and document 5 is 0.16101694915254236\n",
      "The Cosine Similiarity (dense representation) for document 0 and document 6 is 0.13335185571076982\n",
      "The Cosine Similiarity (dense representation) for document 0 and document 7 is 0.16402261043504096\n",
      "The Cosine Similiarity (dense representation) for document 0 and document 8 is 0.17360708640010183\n",
      "The Cosine Similiarity (dense representation) for document 0 and document 9 is 0.19014109462868295\n",
      "The Cosine Similiarity (dense representation) for document 0 and document 10 is 0.1724394251251618\n",
      "The Cosine Similiarity (dense representation) for document 0 and document 11 is 0.2087667001917663\n",
      "The Cosine Similiarity (dense representation) for document 0 and document 12 is 0.14053906994293958\n",
      "The Cosine Similiarity (dense representation) for document 0 and document 13 is 0.15237459493410543\n",
      "The Cosine Similiarity (dense representation) for document 0 and document 14 is 0.11864406779661017\n",
      "The Cosine Similiarity (dense representation) for document 0 and document 15 is 0.11864406779661017\n",
      "The Cosine Similiarity (dense representation) for document 0 and document 16 is 0.1558214799132889\n",
      "The Cosine Similiarity (dense representation) for document 0 and document 17 is 0.12107322793720048\n",
      "The Cosine Similiarity (dense representation) for document 0 and document 18 is 0.1843240263427725\n",
      "The Cosine Similiarity (dense representation) for document 0 and document 19 is 0.10892385771565849\n",
      "The Cosine Similiarity (dense representation) for document 1 and document 0 is 0.10338319495321828\n",
      "The Cosine Similiarity (dense representation) for document 1 and document 2 is 0.263764094129489\n",
      "The Cosine Similiarity (dense representation) for document 1 and document 3 is 0.3182183467185532\n",
      "The Cosine Similiarity (dense representation) for document 1 and document 4 is 0.24062450914321204\n",
      "The Cosine Similiarity (dense representation) for document 1 and document 5 is 0.24652915719613588\n",
      "The Cosine Similiarity (dense representation) for document 1 and document 6 is 0.24245401441701145\n",
      "The Cosine Similiarity (dense representation) for document 1 and document 7 is 0.16931093539785705\n",
      "The Cosine Similiarity (dense representation) for document 1 and document 8 is 0.22497525675750532\n",
      "The Cosine Similiarity (dense representation) for document 1 and document 9 is 0.1551553494879347\n",
      "The Cosine Similiarity (dense representation) for document 1 and document 10 is 0.2103625967229588\n",
      "The Cosine Similiarity (dense representation) for document 1 and document 11 is 0.2285581019569187\n",
      "The Cosine Similiarity (dense representation) for document 1 and document 12 is 0.24824855918069552\n",
      "The Cosine Similiarity (dense representation) for document 1 and document 13 is 0.32172416819495553\n",
      "The Cosine Similiarity (dense representation) for document 1 and document 14 is 0.07157298112145881\n",
      "The Cosine Similiarity (dense representation) for document 1 and document 15 is 0.1749561760746771\n",
      "The Cosine Similiarity (dense representation) for document 1 and document 16 is 0.23087854826980506\n",
      "The Cosine Similiarity (dense representation) for document 1 and document 17 is 0.1988267320629086\n",
      "The Cosine Similiarity (dense representation) for document 1 and document 18 is 0.11531327161512436\n",
      "The Cosine Similiarity (dense representation) for document 1 and document 19 is 0.19712756035954207\n",
      "The Cosine Similiarity (dense representation) for document 2 and document 0 is 0.08267004114290563\n",
      "The Cosine Similiarity (dense representation) for document 2 and document 1 is 0.263764094129489\n",
      "The Cosine Similiarity (dense representation) for document 2 and document 3 is 0.2599150462468625\n",
      "The Cosine Similiarity (dense representation) for document 2 and document 4 is 0.26681493838602804\n",
      "The Cosine Similiarity (dense representation) for document 2 and document 5 is 0.2232091110858452\n",
      "The Cosine Similiarity (dense representation) for document 2 and document 6 is 0.21951945016451005\n",
      "The Cosine Similiarity (dense representation) for document 2 and document 7 is 0.232007424356371\n",
      "The Cosine Similiarity (dense representation) for document 2 and document 8 is 0.22580645161290322\n",
      "The Cosine Similiarity (dense representation) for document 2 and document 9 is 0.14516129032258066\n",
      "The Cosine Similiarity (dense representation) for document 2 and document 10 is 0.15980498868496612\n",
      "The Cosine Similiarity (dense representation) for document 2 and document 11 is 0.2036532699906392\n",
      "The Cosine Similiarity (dense representation) for document 2 and document 12 is 0.16129032258064516\n",
      "The Cosine Similiarity (dense representation) for document 2 and document 13 is 0.22296360837234858\n",
      "The Cosine Similiarity (dense representation) for document 2 and document 14 is 0.14880607405723012\n",
      "The Cosine Similiarity (dense representation) for document 2 and document 15 is 0.2232091110858452\n",
      "The Cosine Similiarity (dense representation) for document 2 and document 16 is 0.2800089604301029\n",
      "The Cosine Similiarity (dense representation) for document 2 and document 17 is 0.19192504349118508\n",
      "The Cosine Similiarity (dense representation) for document 2 and document 18 is 0.1541222426814169\n",
      "The Cosine Similiarity (dense representation) for document 2 and document 19 is 0.23528098702858005\n",
      "The Cosine Similiarity (dense representation) for document 3 and document 0 is 0.10496165562976974\n",
      "The Cosine Similiarity (dense representation) for document 3 and document 1 is 0.3182183467185532\n",
      "The Cosine Similiarity (dense representation) for document 3 and document 2 is 0.2599150462468625\n",
      "The Cosine Similiarity (dense representation) for document 3 and document 4 is 0.2524416575189768\n",
      "The Cosine Similiarity (dense representation) for document 3 and document 5 is 0.22607125827950403\n",
      "The Cosine Similiarity (dense representation) for document 3 and document 6 is 0.24615581651166007\n",
      "The Cosine Similiarity (dense representation) for document 3 and document 7 is 0.09376144618769908\n",
      "The Cosine Similiarity (dense representation) for document 3 and document 8 is 0.17327669749790836\n",
      "The Cosine Similiarity (dense representation) for document 3 and document 9 is 0.14964805693001176\n",
      "The Cosine Similiarity (dense representation) for document 3 and document 10 is 0.23821762807690303\n",
      "The Cosine Similiarity (dense representation) for document 3 and document 11 is 0.19889806323953876\n",
      "The Cosine Similiarity (dense representation) for document 3 and document 12 is 0.22841019215633374\n",
      "The Cosine Similiarity (dense representation) for document 3 and document 13 is 0.21049893061308372\n",
      "The Cosine Similiarity (dense representation) for document 3 and document 14 is 0.1372575496696989\n",
      "The Cosine Similiarity (dense representation) for document 3 and document 15 is 0.21799728476952177\n",
      "The Cosine Similiarity (dense representation) for document 3 and document 16 is 0.27347088471412234\n",
      "The Cosine Similiarity (dense representation) for document 3 and document 17 is 0.2811655278551303\n",
      "The Cosine Similiarity (dense representation) for document 3 and document 18 is 0.1337987216011345\n",
      "The Cosine Similiarity (dense representation) for document 3 and document 19 is 0.17048734283205327\n",
      "The Cosine Similiarity (dense representation) for document 4 and document 0 is 0.10256784899270367\n",
      "The Cosine Similiarity (dense representation) for document 4 and document 1 is 0.24062450914321204\n",
      "The Cosine Similiarity (dense representation) for document 4 and document 2 is 0.26681493838602804\n",
      "The Cosine Similiarity (dense representation) for document 4 and document 3 is 0.2524416575189768\n",
      "The Cosine Similiarity (dense representation) for document 4 and document 5 is 0.2478723017323672\n",
      "The Cosine Similiarity (dense representation) for document 4 and document 6 is 0.24377495668791888\n",
      "The Cosine Similiarity (dense representation) for document 4 and document 7 is 0.1819736112280039\n",
      "The Cosine Similiarity (dense representation) for document 4 and document 8 is 0.27515290521059144\n",
      "The Cosine Similiarity (dense representation) for document 4 and document 9 is 0.1667593364912675\n",
      "The Cosine Similiarity (dense representation) for document 4 and document 10 is 0.19131158091484038\n",
      "The Cosine Similiarity (dense representation) for document 4 and document 11 is 0.193012161744489\n",
      "The Cosine Similiarity (dense representation) for document 4 and document 12 is 0.22512510426321114\n",
      "The Cosine Similiarity (dense representation) for document 4 and document 13 is 0.26126034411427157\n",
      "The Cosine Similiarity (dense representation) for document 4 and document 14 is 0.17949373573723143\n",
      "The Cosine Similiarity (dense representation) for document 4 and document 15 is 0.2136830187347993\n",
      "The Cosine Similiarity (dense representation) for document 4 and document 16 is 0.26468888905891474\n",
      "The Cosine Similiarity (dense representation) for document 4 and document 17 is 0.3281773495940567\n",
      "The Cosine Similiarity (dense representation) for document 4 and document 18 is 0.1682008800516714\n",
      "The Cosine Similiarity (dense representation) for document 4 and document 19 is 0.18048238591512406\n",
      "The Cosine Similiarity (dense representation) for document 5 and document 0 is 0.16101694915254236\n",
      "The Cosine Similiarity (dense representation) for document 5 and document 1 is 0.24652915719613588\n",
      "The Cosine Similiarity (dense representation) for document 5 and document 2 is 0.2232091110858452\n",
      "The Cosine Similiarity (dense representation) for document 5 and document 3 is 0.22607125827950403\n",
      "The Cosine Similiarity (dense representation) for document 5 and document 4 is 0.2478723017323672\n",
      "The Cosine Similiarity (dense representation) for document 5 and document 6 is 0.33337963927692454\n",
      "The Cosine Similiarity (dense representation) for document 5 and document 7 is 0.172223740956793\n",
      "The Cosine Similiarity (dense representation) for document 5 and document 8 is 0.264544131657298\n",
      "The Cosine Similiarity (dense representation) for document 5 and document 9 is 0.16534008228581126\n",
      "The Cosine Similiarity (dense representation) for document 5 and document 10 is 0.14657351135638752\n",
      "The Cosine Similiarity (dense representation) for document 5 and document 11 is 0.25225976273171763\n",
      "The Cosine Similiarity (dense representation) for document 5 and document 12 is 0.27281113577158855\n",
      "The Cosine Similiarity (dense representation) for document 5 and document 13 is 0.20570570316104236\n",
      "The Cosine Similiarity (dense representation) for document 5 and document 14 is 0.1271186440677966\n",
      "The Cosine Similiarity (dense representation) for document 5 and document 15 is 0.2796610169491525\n",
      "The Cosine Similiarity (dense representation) for document 5 and document 16 is 0.29524069878307374\n",
      "The Cosine Similiarity (dense representation) for document 5 and document 17 is 0.2875489163508511\n",
      "The Cosine Similiarity (dense representation) for document 5 and document 18 is 0.16676935716727037\n",
      "The Cosine Similiarity (dense representation) for document 5 and document 19 is 0.2723096442891462\n",
      "The Cosine Similiarity (dense representation) for document 6 and document 0 is 0.13335185571076982\n",
      "The Cosine Similiarity (dense representation) for document 6 and document 1 is 0.24245401441701145\n",
      "The Cosine Similiarity (dense representation) for document 6 and document 2 is 0.21951945016451005\n",
      "The Cosine Similiarity (dense representation) for document 6 and document 3 is 0.24615581651166007\n",
      "The Cosine Similiarity (dense representation) for document 6 and document 4 is 0.24377495668791888\n",
      "The Cosine Similiarity (dense representation) for document 6 and document 5 is 0.33337963927692454\n",
      "The Cosine Similiarity (dense representation) for document 6 and document 7 is 0.22583582863138607\n",
      "The Cosine Similiarity (dense representation) for document 6 and document 8 is 0.23578015017669599\n",
      "The Cosine Similiarity (dense representation) for document 6 and document 9 is 0.13008560009748743\n",
      "The Cosine Similiarity (dense representation) for document 6 and document 10 is 0.1950273389240886\n"
     ]
    },
    {
     "name": "stdout",
     "output_type": "stream",
     "text": [
      "The Cosine Similiarity (dense representation) for document 6 and document 11 is 0.22242542101947535\n",
      "The Cosine Similiarity (dense representation) for document 6 and document 12 is 0.25204085018888195\n",
      "The Cosine Similiarity (dense representation) for document 6 and document 13 is 0.19481258303987187\n",
      "The Cosine Similiarity (dense representation) for document 6 and document 14 is 0.16668981963846227\n",
      "The Cosine Similiarity (dense representation) for document 6 and document 15 is 0.2583692204396165\n",
      "The Cosine Similiarity (dense representation) for document 6 and document 16 is 0.3226226123305515\n",
      "The Cosine Similiarity (dense representation) for document 6 and document 17 is 0.3200056767329887\n",
      "The Cosine Similiarity (dense representation) for document 6 and document 18 is 0.19854162773425654\n",
      "The Cosine Similiarity (dense representation) for document 6 and document 19 is 0.26780834840499246\n",
      "The Cosine Similiarity (dense representation) for document 7 and document 0 is 0.16402261043504096\n",
      "The Cosine Similiarity (dense representation) for document 7 and document 1 is 0.16931093539785705\n",
      "The Cosine Similiarity (dense representation) for document 7 and document 2 is 0.232007424356371\n",
      "The Cosine Similiarity (dense representation) for document 7 and document 3 is 0.09376144618769908\n",
      "The Cosine Similiarity (dense representation) for document 7 and document 4 is 0.1819736112280039\n",
      "The Cosine Similiarity (dense representation) for document 7 and document 5 is 0.172223740956793\n",
      "The Cosine Similiarity (dense representation) for document 7 and document 6 is 0.22583582863138607\n",
      "The Cosine Similiarity (dense representation) for document 7 and document 8 is 0.1440046082211958\n",
      "The Cosine Similiarity (dense representation) for document 7 and document 9 is 0.15200486423348444\n",
      "The Cosine Similiarity (dense representation) for document 7 and document 10 is 0.15018785229652767\n",
      "The Cosine Similiarity (dense representation) for document 7 and document 11 is 0.16835875742536846\n",
      "The Cosine Similiarity (dense representation) for document 7 and document 12 is 0.12800409619661848\n",
      "The Cosine Similiarity (dense representation) for document 7 and document 13 is 0.1695766828281267\n",
      "The Cosine Similiarity (dense representation) for document 7 and document 14 is 0.13121808834803275\n",
      "The Cosine Similiarity (dense representation) for document 7 and document 15 is 0.14762034939153687\n",
      "The Cosine Similiarity (dense representation) for document 7 and document 16 is 0.2222222222222222\n",
      "The Cosine Similiarity (dense representation) for document 7 and document 17 is 0.15378117130731137\n",
      "The Cosine Similiarity (dense representation) for document 7 and document 18 is 0.14440003757399392\n",
      "The Cosine Similiarity (dense representation) for document 7 and document 19 is 0.15058465048420855\n",
      "The Cosine Similiarity (dense representation) for document 8 and document 0 is 0.17360708640010183\n",
      "The Cosine Similiarity (dense representation) for document 8 and document 1 is 0.22497525675750532\n",
      "The Cosine Similiarity (dense representation) for document 8 and document 2 is 0.22580645161290322\n",
      "The Cosine Similiarity (dense representation) for document 8 and document 3 is 0.17327669749790836\n",
      "The Cosine Similiarity (dense representation) for document 8 and document 4 is 0.27515290521059144\n",
      "The Cosine Similiarity (dense representation) for document 8 and document 5 is 0.264544131657298\n",
      "The Cosine Similiarity (dense representation) for document 8 and document 6 is 0.23578015017669599\n",
      "The Cosine Similiarity (dense representation) for document 8 and document 7 is 0.1440046082211958\n",
      "The Cosine Similiarity (dense representation) for document 8 and document 9 is 0.28225806451612906\n",
      "The Cosine Similiarity (dense representation) for document 8 and document 10 is 0.15139419980681001\n",
      "The Cosine Similiarity (dense representation) for document 8 and document 11 is 0.2036532699906392\n",
      "The Cosine Similiarity (dense representation) for document 8 and document 12 is 0.22580645161290322\n",
      "The Cosine Similiarity (dense representation) for document 8 and document 13 is 0.23782784893050513\n",
      "The Cosine Similiarity (dense representation) for document 8 and document 14 is 0.16534008228581126\n",
      "The Cosine Similiarity (dense representation) for document 8 and document 15 is 0.2480101234287169\n",
      "The Cosine Similiarity (dense representation) for document 8 and document 16 is 0.22400716834408235\n",
      "The Cosine Similiarity (dense representation) for document 8 and document 17 is 0.28788756523677766\n",
      "The Cosine Similiarity (dense representation) for document 8 and document 18 is 0.23118336402212533\n",
      "The Cosine Similiarity (dense representation) for document 8 and document 19 is 0.18974273147466134\n",
      "The Cosine Similiarity (dense representation) for document 9 and document 0 is 0.19014109462868295\n",
      "The Cosine Similiarity (dense representation) for document 9 and document 1 is 0.1551553494879347\n",
      "The Cosine Similiarity (dense representation) for document 9 and document 2 is 0.14516129032258066\n",
      "The Cosine Similiarity (dense representation) for document 9 and document 3 is 0.14964805693001176\n",
      "The Cosine Similiarity (dense representation) for document 9 and document 4 is 0.1667593364912675\n",
      "The Cosine Similiarity (dense representation) for document 9 and document 5 is 0.16534008228581126\n",
      "The Cosine Similiarity (dense representation) for document 9 and document 6 is 0.13008560009748743\n",
      "The Cosine Similiarity (dense representation) for document 9 and document 7 is 0.15200486423348444\n",
      "The Cosine Similiarity (dense representation) for document 9 and document 8 is 0.28225806451612906\n",
      "The Cosine Similiarity (dense representation) for document 9 and document 10 is 0.16821577756312223\n",
      "The Cosine Similiarity (dense representation) for document 9 and document 11 is 0.13576884666042613\n",
      "The Cosine Similiarity (dense representation) for document 9 and document 12 is 0.18548387096774194\n",
      "The Cosine Similiarity (dense representation) for document 9 and document 13 is 0.156074525860644\n",
      "The Cosine Similiarity (dense representation) for document 9 and document 14 is 0.132272065828649\n",
      "The Cosine Similiarity (dense representation) for document 9 and document 15 is 0.16534008228581126\n",
      "The Cosine Similiarity (dense representation) for document 9 and document 16 is 0.232007424356371\n",
      "The Cosine Similiarity (dense representation) for document 9 and document 17 is 0.2657423679108717\n",
      "The Cosine Similiarity (dense representation) for document 9 and document 18 is 0.23974571083775958\n",
      "The Cosine Similiarity (dense representation) for document 9 and document 19 is 0.18974273147466134\n",
      "The Cosine Similiarity (dense representation) for document 10 and document 0 is 0.1724394251251618\n",
      "The Cosine Similiarity (dense representation) for document 10 and document 1 is 0.2103625967229588\n",
      "The Cosine Similiarity (dense representation) for document 10 and document 2 is 0.15980498868496612\n",
      "The Cosine Similiarity (dense representation) for document 10 and document 3 is 0.23821762807690303\n",
      "The Cosine Similiarity (dense representation) for document 10 and document 4 is 0.19131158091484038\n",
      "The Cosine Similiarity (dense representation) for document 10 and document 5 is 0.14657351135638752\n",
      "The Cosine Similiarity (dense representation) for document 10 and document 6 is 0.1950273389240886\n",
      "The Cosine Similiarity (dense representation) for document 10 and document 7 is 0.15018785229652767\n",
      "The Cosine Similiarity (dense representation) for document 10 and document 8 is 0.15139419980681001\n",
      "The Cosine Similiarity (dense representation) for document 10 and document 9 is 0.16821577756312223\n",
      "The Cosine Similiarity (dense representation) for document 10 and document 11 is 0.16814817728363732\n",
      "The Cosine Similiarity (dense representation) for document 10 and document 12 is 0.21868051083205892\n",
      "The Cosine Similiarity (dense representation) for document 10 and document 13 is 0.28679585515318196\n",
      "The Cosine Similiarity (dense representation) for document 10 and document 14 is 0.10346365507509707\n",
      "The Cosine Similiarity (dense representation) for document 10 and document 15 is 0.1638174538689037\n",
      "The Cosine Similiarity (dense representation) for document 10 and document 16 is 0.20025046972870356\n",
      "The Cosine Similiarity (dense representation) for document 10 and document 17 is 0.20016588663317567\n",
      "The Cosine Similiarity (dense representation) for document 10 and document 18 is 0.17859990659227326\n",
      "The Cosine Similiarity (dense representation) for document 10 and document 19 is 0.1424807070437933\n",
      "The Cosine Similiarity (dense representation) for document 11 and document 0 is 0.2087667001917663\n",
      "The Cosine Similiarity (dense representation) for document 11 and document 1 is 0.2285581019569187\n",
      "The Cosine Similiarity (dense representation) for document 11 and document 2 is 0.2036532699906392\n",
      "The Cosine Similiarity (dense representation) for document 11 and document 3 is 0.19889806323953876\n",
      "The Cosine Similiarity (dense representation) for document 11 and document 4 is 0.193012161744489\n",
      "The Cosine Similiarity (dense representation) for document 11 and document 5 is 0.25225976273171763\n",
      "The Cosine Similiarity (dense representation) for document 11 and document 6 is 0.22242542101947535\n",
      "The Cosine Similiarity (dense representation) for document 11 and document 7 is 0.16835875742536846\n",
      "The Cosine Similiarity (dense representation) for document 11 and document 8 is 0.2036532699906392\n",
      "The Cosine Similiarity (dense representation) for document 11 and document 9 is 0.13576884666042613\n",
      "The Cosine Similiarity (dense representation) for document 11 and document 10 is 0.16814817728363732\n",
      "The Cosine Similiarity (dense representation) for document 11 and document 12 is 0.21213882290691585\n",
      "The Cosine Similiarity (dense representation) for document 11 and document 13 is 0.2502444988359418\n",
      "The Cosine Similiarity (dense representation) for document 11 and document 14 is 0.1391778001278442\n",
      "The Cosine Similiarity (dense representation) for document 11 and document 15 is 0.14787641263583445\n",
      "The Cosine Similiarity (dense representation) for document 11 and document 16 is 0.26937401188058957\n",
      "The Cosine Similiarity (dense representation) for document 11 and document 17 is 0.209712296025405\n",
      "The Cosine Similiarity (dense representation) for document 11 and document 18 is 0.09910312089651148\n",
      "The Cosine Similiarity (dense representation) for document 11 and document 19 is 0.14374722712498647\n",
      "The Cosine Similiarity (dense representation) for document 12 and document 0 is 0.14053906994293958\n",
      "The Cosine Similiarity (dense representation) for document 12 and document 1 is 0.24824855918069552\n",
      "The Cosine Similiarity (dense representation) for document 12 and document 2 is 0.16129032258064516\n",
      "The Cosine Similiarity (dense representation) for document 12 and document 3 is 0.22841019215633374\n",
      "The Cosine Similiarity (dense representation) for document 12 and document 4 is 0.22512510426321114\n"
     ]
    },
    {
     "name": "stdout",
     "output_type": "stream",
     "text": [
      "The Cosine Similiarity (dense representation) for document 12 and document 5 is 0.27281113577158855\n",
      "The Cosine Similiarity (dense representation) for document 12 and document 6 is 0.25204085018888195\n",
      "The Cosine Similiarity (dense representation) for document 12 and document 7 is 0.12800409619661848\n",
      "The Cosine Similiarity (dense representation) for document 12 and document 8 is 0.22580645161290322\n",
      "The Cosine Similiarity (dense representation) for document 12 and document 9 is 0.18548387096774194\n",
      "The Cosine Similiarity (dense representation) for document 12 and document 10 is 0.21868051083205892\n",
      "The Cosine Similiarity (dense representation) for document 12 and document 11 is 0.21213882290691585\n",
      "The Cosine Similiarity (dense representation) for document 12 and document 13 is 0.17837088669787884\n",
      "The Cosine Similiarity (dense representation) for document 12 and document 14 is 0.1570730781715207\n",
      "The Cosine Similiarity (dense representation) for document 12 and document 15 is 0.20667510285726406\n",
      "The Cosine Similiarity (dense representation) for document 12 and document 16 is 0.2480079363809483\n",
      "The Cosine Similiarity (dense representation) for document 12 and document 17 is 0.17716157860724777\n",
      "The Cosine Similiarity (dense representation) for document 12 and document 18 is 0.18837162994395396\n",
      "The Cosine Similiarity (dense representation) for document 12 and document 19 is 0.10625592962581035\n",
      "The Cosine Similiarity (dense representation) for document 13 and document 0 is 0.15237459493410543\n",
      "The Cosine Similiarity (dense representation) for document 13 and document 1 is 0.32172416819495553\n",
      "The Cosine Similiarity (dense representation) for document 13 and document 2 is 0.22296360837234858\n",
      "The Cosine Similiarity (dense representation) for document 13 and document 3 is 0.21049893061308372\n",
      "The Cosine Similiarity (dense representation) for document 13 and document 4 is 0.26126034411427157\n",
      "The Cosine Similiarity (dense representation) for document 13 and document 5 is 0.20570570316104236\n",
      "The Cosine Similiarity (dense representation) for document 13 and document 6 is 0.19481258303987187\n",
      "The Cosine Similiarity (dense representation) for document 13 and document 7 is 0.1695766828281267\n",
      "The Cosine Similiarity (dense representation) for document 13 and document 8 is 0.23782784893050513\n",
      "The Cosine Similiarity (dense representation) for document 13 and document 9 is 0.156074525860644\n",
      "The Cosine Similiarity (dense representation) for document 13 and document 10 is 0.28679585515318196\n",
      "The Cosine Similiarity (dense representation) for document 13 and document 11 is 0.2502444988359418\n",
      "The Cosine Similiarity (dense representation) for document 13 and document 12 is 0.17837088669787884\n",
      "The Cosine Similiarity (dense representation) for document 13 and document 14 is 0.06856856772034745\n",
      "The Cosine Similiarity (dense representation) for document 13 and document 15 is 0.1980869734143371\n",
      "The Cosine Similiarity (dense representation) for document 13 and document 16 is 0.25067857461549164\n",
      "The Cosine Similiarity (dense representation) for document 13 and document 17 is 0.2857208969457772\n",
      "The Cosine Similiarity (dense representation) for document 13 and document 18 is 0.14992733815012546\n",
      "The Cosine Similiarity (dense representation) for document 13 and document 19 is 0.16087456673785316\n",
      "The Cosine Similiarity (dense representation) for document 14 and document 0 is 0.11864406779661017\n",
      "The Cosine Similiarity (dense representation) for document 14 and document 1 is 0.07157298112145881\n",
      "The Cosine Similiarity (dense representation) for document 14 and document 2 is 0.14880607405723012\n",
      "The Cosine Similiarity (dense representation) for document 14 and document 3 is 0.1372575496696989\n",
      "The Cosine Similiarity (dense representation) for document 14 and document 4 is 0.17949373573723143\n",
      "The Cosine Similiarity (dense representation) for document 14 and document 5 is 0.1271186440677966\n",
      "The Cosine Similiarity (dense representation) for document 14 and document 6 is 0.16668981963846227\n",
      "The Cosine Similiarity (dense representation) for document 14 and document 7 is 0.13121808834803275\n",
      "The Cosine Similiarity (dense representation) for document 14 and document 8 is 0.16534008228581126\n",
      "The Cosine Similiarity (dense representation) for document 14 and document 9 is 0.132272065828649\n",
      "The Cosine Similiarity (dense representation) for document 14 and document 10 is 0.10346365507509707\n",
      "The Cosine Similiarity (dense representation) for document 14 and document 11 is 0.1391778001278442\n",
      "The Cosine Similiarity (dense representation) for document 14 and document 12 is 0.1570730781715207\n",
      "The Cosine Similiarity (dense representation) for document 14 and document 13 is 0.06856856772034745\n",
      "The Cosine Similiarity (dense representation) for document 14 and document 15 is 0.11864406779661017\n",
      "The Cosine Similiarity (dense representation) for document 14 and document 16 is 0.18042487147854505\n",
      "The Cosine Similiarity (dense representation) for document 14 and document 17 is 0.09837199769897538\n",
      "The Cosine Similiarity (dense representation) for document 14 and document 18 is 0.1492146879917682\n",
      "The Cosine Similiarity (dense representation) for document 14 and document 19 is 0.10892385771565849\n",
      "The Cosine Similiarity (dense representation) for document 15 and document 0 is 0.11864406779661017\n",
      "The Cosine Similiarity (dense representation) for document 15 and document 1 is 0.1749561760746771\n",
      "The Cosine Similiarity (dense representation) for document 15 and document 2 is 0.2232091110858452\n",
      "The Cosine Similiarity (dense representation) for document 15 and document 3 is 0.21799728476952177\n",
      "The Cosine Similiarity (dense representation) for document 15 and document 4 is 0.2136830187347993\n",
      "The Cosine Similiarity (dense representation) for document 15 and document 5 is 0.2796610169491525\n",
      "The Cosine Similiarity (dense representation) for document 15 and document 6 is 0.2583692204396165\n",
      "The Cosine Similiarity (dense representation) for document 15 and document 7 is 0.14762034939153687\n",
      "The Cosine Similiarity (dense representation) for document 15 and document 8 is 0.2480101234287169\n",
      "The Cosine Similiarity (dense representation) for document 15 and document 9 is 0.16534008228581126\n",
      "The Cosine Similiarity (dense representation) for document 15 and document 10 is 0.1638174538689037\n",
      "The Cosine Similiarity (dense representation) for document 15 and document 11 is 0.14787641263583445\n",
      "The Cosine Similiarity (dense representation) for document 15 and document 12 is 0.20667510285726406\n",
      "The Cosine Similiarity (dense representation) for document 15 and document 13 is 0.1980869734143371\n",
      "The Cosine Similiarity (dense representation) for document 15 and document 14 is 0.11864406779661017\n",
      "The Cosine Similiarity (dense representation) for document 15 and document 16 is 0.21322939356555323\n",
      "The Cosine Similiarity (dense representation) for document 15 and document 17 is 0.24214645587440095\n",
      "The Cosine Similiarity (dense representation) for document 15 and document 18 is 0.1843240263427725\n",
      "The Cosine Similiarity (dense representation) for document 15 and document 19 is 0.21006743988019852\n",
      "The Cosine Similiarity (dense representation) for document 16 and document 0 is 0.1558214799132889\n",
      "The Cosine Similiarity (dense representation) for document 16 and document 1 is 0.23087854826980506\n",
      "The Cosine Similiarity (dense representation) for document 16 and document 2 is 0.2800089604301029\n",
      "The Cosine Similiarity (dense representation) for document 16 and document 3 is 0.27347088471412234\n",
      "The Cosine Similiarity (dense representation) for document 16 and document 4 is 0.26468888905891474\n",
      "The Cosine Similiarity (dense representation) for document 16 and document 5 is 0.29524069878307374\n",
      "The Cosine Similiarity (dense representation) for document 16 and document 6 is 0.3226226123305515\n",
      "The Cosine Similiarity (dense representation) for document 16 and document 7 is 0.2222222222222222\n",
      "The Cosine Similiarity (dense representation) for document 16 and document 8 is 0.22400716834408235\n",
      "The Cosine Similiarity (dense representation) for document 16 and document 9 is 0.232007424356371\n",
      "The Cosine Similiarity (dense representation) for document 16 and document 10 is 0.20025046972870356\n",
      "The Cosine Similiarity (dense representation) for document 16 and document 11 is 0.26937401188058957\n",
      "The Cosine Similiarity (dense representation) for document 16 and document 12 is 0.2480079363809483\n",
      "The Cosine Similiarity (dense representation) for document 16 and document 13 is 0.25067857461549164\n",
      "The Cosine Similiarity (dense representation) for document 16 and document 14 is 0.18042487147854505\n",
      "The Cosine Similiarity (dense representation) for document 16 and document 15 is 0.21322939356555323\n",
      "The Cosine Similiarity (dense representation) for document 16 and document 17 is 0.32953108137281006\n",
      "The Cosine Similiarity (dense representation) for document 16 and document 18 is 0.14440003757399392\n",
      "The Cosine Similiarity (dense representation) for document 16 and document 19 is 0.29364006844420665\n",
      "The Cosine Similiarity (dense representation) for document 17 and document 0 is 0.12107322793720048\n",
      "The Cosine Similiarity (dense representation) for document 17 and document 1 is 0.1988267320629086\n",
      "The Cosine Similiarity (dense representation) for document 17 and document 2 is 0.19192504349118508\n",
      "The Cosine Similiarity (dense representation) for document 17 and document 3 is 0.2811655278551303\n",
      "The Cosine Similiarity (dense representation) for document 17 and document 4 is 0.3281773495940567\n",
      "The Cosine Similiarity (dense representation) for document 17 and document 5 is 0.2875489163508511\n",
      "The Cosine Similiarity (dense representation) for document 17 and document 6 is 0.3200056767329887\n",
      "The Cosine Similiarity (dense representation) for document 17 and document 7 is 0.15378117130731137\n",
      "The Cosine Similiarity (dense representation) for document 17 and document 8 is 0.28788756523677766\n",
      "The Cosine Similiarity (dense representation) for document 17 and document 9 is 0.2657423679108717\n",
      "The Cosine Similiarity (dense representation) for document 17 and document 10 is 0.20016588663317567\n",
      "The Cosine Similiarity (dense representation) for document 17 and document 11 is 0.209712296025405\n",
      "The Cosine Similiarity (dense representation) for document 17 and document 12 is 0.17716157860724777\n",
      "The Cosine Similiarity (dense representation) for document 17 and document 13 is 0.2857208969457772\n",
      "The Cosine Similiarity (dense representation) for document 17 and document 14 is 0.09837199769897538\n",
      "The Cosine Similiarity (dense representation) for document 17 and document 15 is 0.24214645587440095\n",
      "The Cosine Similiarity (dense representation) for document 17 and document 16 is 0.32953108137281006\n",
      "The Cosine Similiarity (dense representation) for document 17 and document 18 is 0.13323604148969134\n",
      "The Cosine Similiarity (dense representation) for document 17 and document 19 is 0.22230800575069137\n",
      "The Cosine Similiarity (dense representation) for document 18 and document 0 is 0.1843240263427725\n",
      "The Cosine Similiarity (dense representation) for document 18 and document 1 is 0.11531327161512436\n",
      "The Cosine Similiarity (dense representation) for document 18 and document 2 is 0.1541222426814169\n",
      "The Cosine Similiarity (dense representation) for document 18 and document 3 is 0.1337987216011345\n",
      "The Cosine Similiarity (dense representation) for document 18 and document 4 is 0.1682008800516714\n",
      "The Cosine Similiarity (dense representation) for document 18 and document 5 is 0.16676935716727037\n",
      "The Cosine Similiarity (dense representation) for document 18 and document 6 is 0.19854162773425654\n",
      "The Cosine Similiarity (dense representation) for document 18 and document 7 is 0.14440003757399392\n",
      "The Cosine Similiarity (dense representation) for document 18 and document 8 is 0.23118336402212533\n",
      "The Cosine Similiarity (dense representation) for document 18 and document 9 is 0.23974571083775958\n",
      "The Cosine Similiarity (dense representation) for document 18 and document 10 is 0.17859990659227326\n",
      "The Cosine Similiarity (dense representation) for document 18 and document 11 is 0.09910312089651148\n",
      "The Cosine Similiarity (dense representation) for document 18 and document 12 is 0.18837162994395396\n",
      "The Cosine Similiarity (dense representation) for document 18 and document 13 is 0.14992733815012546\n",
      "The Cosine Similiarity (dense representation) for document 18 and document 14 is 0.1492146879917682\n",
      "The Cosine Similiarity (dense representation) for document 18 and document 15 is 0.1843240263427725\n",
      "The Cosine Similiarity (dense representation) for document 18 and document 16 is 0.14440003757399392\n",
      "The Cosine Similiarity (dense representation) for document 18 and document 17 is 0.13323604148969134\n",
      "The Cosine Similiarity (dense representation) for document 18 and document 19 is 0.12893167424406085\n",
      "The Cosine Similiarity (dense representation) for document 19 and document 0 is 0.10892385771565849\n",
      "The Cosine Similiarity (dense representation) for document 19 and document 1 is 0.19712756035954207\n",
      "The Cosine Similiarity (dense representation) for document 19 and document 2 is 0.23528098702858005\n",
      "The Cosine Similiarity (dense representation) for document 19 and document 3 is 0.17048734283205327\n",
      "The Cosine Similiarity (dense representation) for document 19 and document 4 is 0.18048238591512406\n",
      "The Cosine Similiarity (dense representation) for document 19 and document 5 is 0.2723096442891462\n",
      "The Cosine Similiarity (dense representation) for document 19 and document 6 is 0.26780834840499246\n",
      "The Cosine Similiarity (dense representation) for document 19 and document 7 is 0.15058465048420855\n",
      "The Cosine Similiarity (dense representation) for document 19 and document 8 is 0.18974273147466134\n",
      "The Cosine Similiarity (dense representation) for document 19 and document 9 is 0.18974273147466134\n",
      "The Cosine Similiarity (dense representation) for document 19 and document 10 is 0.1424807070437933\n",
      "The Cosine Similiarity (dense representation) for document 19 and document 11 is 0.14374722712498647\n",
      "The Cosine Similiarity (dense representation) for document 19 and document 12 is 0.10625592962581035\n",
      "The Cosine Similiarity (dense representation) for document 19 and document 13 is 0.16087456673785316\n",
      "The Cosine Similiarity (dense representation) for document 19 and document 14 is 0.10892385771565849\n",
      "The Cosine Similiarity (dense representation) for document 19 and document 15 is 0.21006743988019852\n",
      "The Cosine Similiarity (dense representation) for document 19 and document 16 is 0.29364006844420665\n",
      "The Cosine Similiarity (dense representation) for document 19 and document 17 is 0.22230800575069137\n",
      "The Cosine Similiarity (dense representation) for document 19 and document 18 is 0.12893167424406085\n"
     ]
    }
   ],
   "source": [
    "similarity(list_of_dicts, cosine) #Checking that it produces the same values as the sparse cosine method."
   ]
  },
  {
   "cell_type": "code",
   "execution_count": 25,
   "metadata": {},
   "outputs": [
    {
     "name": "stdout",
     "output_type": "stream",
     "text": [
      "The Cosine Similarity (using np.dot) for document 0 and document 1 is 0.10338319495321828\n",
      "The Cosine Similarity (using np.dot) for document 0 and document 2 is 0.08267004114290563\n",
      "The Cosine Similarity (using np.dot) for document 0 and document 3 is 0.10496165562976974\n",
      "The Cosine Similarity (using np.dot) for document 0 and document 4 is 0.10256784899270367\n",
      "The Cosine Similarity (using np.dot) for document 0 and document 5 is 0.16101694915254236\n",
      "The Cosine Similarity (using np.dot) for document 0 and document 6 is 0.13335185571076982\n",
      "The Cosine Similarity (using np.dot) for document 0 and document 7 is 0.16402261043504096\n",
      "The Cosine Similarity (using np.dot) for document 0 and document 8 is 0.17360708640010183\n",
      "The Cosine Similarity (using np.dot) for document 0 and document 9 is 0.19014109462868295\n",
      "The Cosine Similarity (using np.dot) for document 0 and document 10 is 0.1724394251251618\n",
      "The Cosine Similarity (using np.dot) for document 0 and document 11 is 0.2087667001917663\n",
      "The Cosine Similarity (using np.dot) for document 0 and document 12 is 0.14053906994293958\n",
      "The Cosine Similarity (using np.dot) for document 0 and document 13 is 0.15237459493410543\n",
      "The Cosine Similarity (using np.dot) for document 0 and document 14 is 0.11864406779661017\n",
      "The Cosine Similarity (using np.dot) for document 0 and document 15 is 0.11864406779661017\n",
      "The Cosine Similarity (using np.dot) for document 0 and document 16 is 0.1558214799132889\n",
      "The Cosine Similarity (using np.dot) for document 0 and document 17 is 0.12107322793720048\n",
      "The Cosine Similarity (using np.dot) for document 0 and document 18 is 0.1843240263427725\n",
      "The Cosine Similarity (using np.dot) for document 0 and document 19 is 0.10892385771565849\n",
      "The Cosine Similarity (using np.dot) for document 1 and document 0 is 0.10338319495321828\n",
      "The Cosine Similarity (using np.dot) for document 1 and document 2 is 0.263764094129489\n",
      "The Cosine Similarity (using np.dot) for document 1 and document 3 is 0.3182183467185532\n",
      "The Cosine Similarity (using np.dot) for document 1 and document 4 is 0.24062450914321204\n",
      "The Cosine Similarity (using np.dot) for document 1 and document 5 is 0.24652915719613588\n",
      "The Cosine Similarity (using np.dot) for document 1 and document 6 is 0.24245401441701145\n",
      "The Cosine Similarity (using np.dot) for document 1 and document 7 is 0.16931093539785705\n",
      "The Cosine Similarity (using np.dot) for document 1 and document 8 is 0.22497525675750532\n",
      "The Cosine Similarity (using np.dot) for document 1 and document 9 is 0.1551553494879347\n",
      "The Cosine Similarity (using np.dot) for document 1 and document 10 is 0.2103625967229588\n",
      "The Cosine Similarity (using np.dot) for document 1 and document 11 is 0.2285581019569187\n",
      "The Cosine Similarity (using np.dot) for document 1 and document 12 is 0.24824855918069552\n",
      "The Cosine Similarity (using np.dot) for document 1 and document 13 is 0.32172416819495553\n",
      "The Cosine Similarity (using np.dot) for document 1 and document 14 is 0.07157298112145881\n",
      "The Cosine Similarity (using np.dot) for document 1 and document 15 is 0.1749561760746771\n",
      "The Cosine Similarity (using np.dot) for document 1 and document 16 is 0.23087854826980506\n",
      "The Cosine Similarity (using np.dot) for document 1 and document 17 is 0.1988267320629086\n",
      "The Cosine Similarity (using np.dot) for document 1 and document 18 is 0.11531327161512436\n",
      "The Cosine Similarity (using np.dot) for document 1 and document 19 is 0.19712756035954207\n",
      "The Cosine Similarity (using np.dot) for document 2 and document 0 is 0.08267004114290563\n",
      "The Cosine Similarity (using np.dot) for document 2 and document 1 is 0.263764094129489\n",
      "The Cosine Similarity (using np.dot) for document 2 and document 3 is 0.2599150462468625\n",
      "The Cosine Similarity (using np.dot) for document 2 and document 4 is 0.26681493838602804\n",
      "The Cosine Similarity (using np.dot) for document 2 and document 5 is 0.2232091110858452\n",
      "The Cosine Similarity (using np.dot) for document 2 and document 6 is 0.21951945016451005\n",
      "The Cosine Similarity (using np.dot) for document 2 and document 7 is 0.232007424356371\n",
      "The Cosine Similarity (using np.dot) for document 2 and document 8 is 0.22580645161290322\n",
      "The Cosine Similarity (using np.dot) for document 2 and document 9 is 0.14516129032258066\n",
      "The Cosine Similarity (using np.dot) for document 2 and document 10 is 0.15980498868496612\n",
      "The Cosine Similarity (using np.dot) for document 2 and document 11 is 0.2036532699906392\n",
      "The Cosine Similarity (using np.dot) for document 2 and document 12 is 0.16129032258064516\n",
      "The Cosine Similarity (using np.dot) for document 2 and document 13 is 0.22296360837234858\n",
      "The Cosine Similarity (using np.dot) for document 2 and document 14 is 0.14880607405723012\n",
      "The Cosine Similarity (using np.dot) for document 2 and document 15 is 0.2232091110858452\n",
      "The Cosine Similarity (using np.dot) for document 2 and document 16 is 0.2800089604301029\n",
      "The Cosine Similarity (using np.dot) for document 2 and document 17 is 0.19192504349118508\n",
      "The Cosine Similarity (using np.dot) for document 2 and document 18 is 0.1541222426814169\n",
      "The Cosine Similarity (using np.dot) for document 2 and document 19 is 0.23528098702858005\n",
      "The Cosine Similarity (using np.dot) for document 3 and document 0 is 0.10496165562976974\n",
      "The Cosine Similarity (using np.dot) for document 3 and document 1 is 0.3182183467185532\n",
      "The Cosine Similarity (using np.dot) for document 3 and document 2 is 0.2599150462468625\n",
      "The Cosine Similarity (using np.dot) for document 3 and document 4 is 0.2524416575189768\n",
      "The Cosine Similarity (using np.dot) for document 3 and document 5 is 0.22607125827950403\n",
      "The Cosine Similarity (using np.dot) for document 3 and document 6 is 0.24615581651166007\n",
      "The Cosine Similarity (using np.dot) for document 3 and document 7 is 0.09376144618769908\n",
      "The Cosine Similarity (using np.dot) for document 3 and document 8 is 0.17327669749790836\n",
      "The Cosine Similarity (using np.dot) for document 3 and document 9 is 0.14964805693001176\n",
      "The Cosine Similarity (using np.dot) for document 3 and document 10 is 0.23821762807690303\n",
      "The Cosine Similarity (using np.dot) for document 3 and document 11 is 0.19889806323953876\n",
      "The Cosine Similarity (using np.dot) for document 3 and document 12 is 0.22841019215633374\n",
      "The Cosine Similarity (using np.dot) for document 3 and document 13 is 0.21049893061308372\n",
      "The Cosine Similarity (using np.dot) for document 3 and document 14 is 0.1372575496696989\n",
      "The Cosine Similarity (using np.dot) for document 3 and document 15 is 0.21799728476952177\n",
      "The Cosine Similarity (using np.dot) for document 3 and document 16 is 0.27347088471412234\n",
      "The Cosine Similarity (using np.dot) for document 3 and document 17 is 0.2811655278551303\n",
      "The Cosine Similarity (using np.dot) for document 3 and document 18 is 0.1337987216011345\n",
      "The Cosine Similarity (using np.dot) for document 3 and document 19 is 0.17048734283205327\n",
      "The Cosine Similarity (using np.dot) for document 4 and document 0 is 0.10256784899270367\n",
      "The Cosine Similarity (using np.dot) for document 4 and document 1 is 0.24062450914321204\n",
      "The Cosine Similarity (using np.dot) for document 4 and document 2 is 0.26681493838602804\n",
      "The Cosine Similarity (using np.dot) for document 4 and document 3 is 0.2524416575189768\n",
      "The Cosine Similarity (using np.dot) for document 4 and document 5 is 0.2478723017323672\n",
      "The Cosine Similarity (using np.dot) for document 4 and document 6 is 0.24377495668791888\n",
      "The Cosine Similarity (using np.dot) for document 4 and document 7 is 0.1819736112280039\n",
      "The Cosine Similarity (using np.dot) for document 4 and document 8 is 0.27515290521059144\n",
      "The Cosine Similarity (using np.dot) for document 4 and document 9 is 0.1667593364912675\n",
      "The Cosine Similarity (using np.dot) for document 4 and document 10 is 0.19131158091484038\n",
      "The Cosine Similarity (using np.dot) for document 4 and document 11 is 0.193012161744489\n",
      "The Cosine Similarity (using np.dot) for document 4 and document 12 is 0.22512510426321114\n",
      "The Cosine Similarity (using np.dot) for document 4 and document 13 is 0.26126034411427157\n",
      "The Cosine Similarity (using np.dot) for document 4 and document 14 is 0.17949373573723143\n",
      "The Cosine Similarity (using np.dot) for document 4 and document 15 is 0.2136830187347993\n",
      "The Cosine Similarity (using np.dot) for document 4 and document 16 is 0.26468888905891474\n",
      "The Cosine Similarity (using np.dot) for document 4 and document 17 is 0.3281773495940567\n",
      "The Cosine Similarity (using np.dot) for document 4 and document 18 is 0.1682008800516714\n",
      "The Cosine Similarity (using np.dot) for document 4 and document 19 is 0.18048238591512406\n",
      "The Cosine Similarity (using np.dot) for document 5 and document 0 is 0.16101694915254236\n",
      "The Cosine Similarity (using np.dot) for document 5 and document 1 is 0.24652915719613588\n",
      "The Cosine Similarity (using np.dot) for document 5 and document 2 is 0.2232091110858452\n",
      "The Cosine Similarity (using np.dot) for document 5 and document 3 is 0.22607125827950403\n",
      "The Cosine Similarity (using np.dot) for document 5 and document 4 is 0.2478723017323672\n",
      "The Cosine Similarity (using np.dot) for document 5 and document 6 is 0.33337963927692454\n",
      "The Cosine Similarity (using np.dot) for document 5 and document 7 is 0.172223740956793\n",
      "The Cosine Similarity (using np.dot) for document 5 and document 8 is 0.264544131657298\n",
      "The Cosine Similarity (using np.dot) for document 5 and document 9 is 0.16534008228581126\n",
      "The Cosine Similarity (using np.dot) for document 5 and document 10 is 0.14657351135638752\n",
      "The Cosine Similarity (using np.dot) for document 5 and document 11 is 0.25225976273171763\n",
      "The Cosine Similarity (using np.dot) for document 5 and document 12 is 0.27281113577158855\n",
      "The Cosine Similarity (using np.dot) for document 5 and document 13 is 0.20570570316104236\n",
      "The Cosine Similarity (using np.dot) for document 5 and document 14 is 0.1271186440677966\n",
      "The Cosine Similarity (using np.dot) for document 5 and document 15 is 0.2796610169491525\n",
      "The Cosine Similarity (using np.dot) for document 5 and document 16 is 0.29524069878307374\n",
      "The Cosine Similarity (using np.dot) for document 5 and document 17 is 0.2875489163508511\n",
      "The Cosine Similarity (using np.dot) for document 5 and document 18 is 0.16676935716727037\n",
      "The Cosine Similarity (using np.dot) for document 5 and document 19 is 0.2723096442891462\n",
      "The Cosine Similarity (using np.dot) for document 6 and document 0 is 0.13335185571076982\n"
     ]
    },
    {
     "name": "stdout",
     "output_type": "stream",
     "text": [
      "The Cosine Similarity (using np.dot) for document 6 and document 1 is 0.24245401441701145\n",
      "The Cosine Similarity (using np.dot) for document 6 and document 2 is 0.21951945016451005\n",
      "The Cosine Similarity (using np.dot) for document 6 and document 3 is 0.24615581651166007\n",
      "The Cosine Similarity (using np.dot) for document 6 and document 4 is 0.24377495668791888\n",
      "The Cosine Similarity (using np.dot) for document 6 and document 5 is 0.33337963927692454\n",
      "The Cosine Similarity (using np.dot) for document 6 and document 7 is 0.22583582863138607\n",
      "The Cosine Similarity (using np.dot) for document 6 and document 8 is 0.23578015017669599\n",
      "The Cosine Similarity (using np.dot) for document 6 and document 9 is 0.13008560009748743\n",
      "The Cosine Similarity (using np.dot) for document 6 and document 10 is 0.1950273389240886\n",
      "The Cosine Similarity (using np.dot) for document 6 and document 11 is 0.22242542101947535\n",
      "The Cosine Similarity (using np.dot) for document 6 and document 12 is 0.25204085018888195\n",
      "The Cosine Similarity (using np.dot) for document 6 and document 13 is 0.19481258303987187\n",
      "The Cosine Similarity (using np.dot) for document 6 and document 14 is 0.16668981963846227\n",
      "The Cosine Similarity (using np.dot) for document 6 and document 15 is 0.2583692204396165\n",
      "The Cosine Similarity (using np.dot) for document 6 and document 16 is 0.3226226123305515\n",
      "The Cosine Similarity (using np.dot) for document 6 and document 17 is 0.3200056767329887\n",
      "The Cosine Similarity (using np.dot) for document 6 and document 18 is 0.19854162773425654\n",
      "The Cosine Similarity (using np.dot) for document 6 and document 19 is 0.26780834840499246\n",
      "The Cosine Similarity (using np.dot) for document 7 and document 0 is 0.16402261043504096\n",
      "The Cosine Similarity (using np.dot) for document 7 and document 1 is 0.16931093539785705\n",
      "The Cosine Similarity (using np.dot) for document 7 and document 2 is 0.232007424356371\n",
      "The Cosine Similarity (using np.dot) for document 7 and document 3 is 0.09376144618769908\n",
      "The Cosine Similarity (using np.dot) for document 7 and document 4 is 0.1819736112280039\n",
      "The Cosine Similarity (using np.dot) for document 7 and document 5 is 0.172223740956793\n",
      "The Cosine Similarity (using np.dot) for document 7 and document 6 is 0.22583582863138607\n",
      "The Cosine Similarity (using np.dot) for document 7 and document 8 is 0.1440046082211958\n",
      "The Cosine Similarity (using np.dot) for document 7 and document 9 is 0.15200486423348444\n",
      "The Cosine Similarity (using np.dot) for document 7 and document 10 is 0.15018785229652767\n",
      "The Cosine Similarity (using np.dot) for document 7 and document 11 is 0.16835875742536846\n",
      "The Cosine Similarity (using np.dot) for document 7 and document 12 is 0.12800409619661848\n",
      "The Cosine Similarity (using np.dot) for document 7 and document 13 is 0.1695766828281267\n",
      "The Cosine Similarity (using np.dot) for document 7 and document 14 is 0.13121808834803275\n",
      "The Cosine Similarity (using np.dot) for document 7 and document 15 is 0.14762034939153687\n",
      "The Cosine Similarity (using np.dot) for document 7 and document 16 is 0.2222222222222222\n",
      "The Cosine Similarity (using np.dot) for document 7 and document 17 is 0.15378117130731137\n",
      "The Cosine Similarity (using np.dot) for document 7 and document 18 is 0.14440003757399392\n",
      "The Cosine Similarity (using np.dot) for document 7 and document 19 is 0.15058465048420855\n",
      "The Cosine Similarity (using np.dot) for document 8 and document 0 is 0.17360708640010183\n",
      "The Cosine Similarity (using np.dot) for document 8 and document 1 is 0.22497525675750532\n",
      "The Cosine Similarity (using np.dot) for document 8 and document 2 is 0.22580645161290322\n",
      "The Cosine Similarity (using np.dot) for document 8 and document 3 is 0.17327669749790836\n",
      "The Cosine Similarity (using np.dot) for document 8 and document 4 is 0.27515290521059144\n",
      "The Cosine Similarity (using np.dot) for document 8 and document 5 is 0.264544131657298\n",
      "The Cosine Similarity (using np.dot) for document 8 and document 6 is 0.23578015017669599\n",
      "The Cosine Similarity (using np.dot) for document 8 and document 7 is 0.1440046082211958\n",
      "The Cosine Similarity (using np.dot) for document 8 and document 9 is 0.28225806451612906\n",
      "The Cosine Similarity (using np.dot) for document 8 and document 10 is 0.15139419980681001\n",
      "The Cosine Similarity (using np.dot) for document 8 and document 11 is 0.2036532699906392\n",
      "The Cosine Similarity (using np.dot) for document 8 and document 12 is 0.22580645161290322\n",
      "The Cosine Similarity (using np.dot) for document 8 and document 13 is 0.23782784893050513\n",
      "The Cosine Similarity (using np.dot) for document 8 and document 14 is 0.16534008228581126\n",
      "The Cosine Similarity (using np.dot) for document 8 and document 15 is 0.2480101234287169\n",
      "The Cosine Similarity (using np.dot) for document 8 and document 16 is 0.22400716834408235\n",
      "The Cosine Similarity (using np.dot) for document 8 and document 17 is 0.28788756523677766\n",
      "The Cosine Similarity (using np.dot) for document 8 and document 18 is 0.23118336402212533\n",
      "The Cosine Similarity (using np.dot) for document 8 and document 19 is 0.18974273147466134\n",
      "The Cosine Similarity (using np.dot) for document 9 and document 0 is 0.19014109462868295\n",
      "The Cosine Similarity (using np.dot) for document 9 and document 1 is 0.1551553494879347\n",
      "The Cosine Similarity (using np.dot) for document 9 and document 2 is 0.14516129032258066\n",
      "The Cosine Similarity (using np.dot) for document 9 and document 3 is 0.14964805693001176\n",
      "The Cosine Similarity (using np.dot) for document 9 and document 4 is 0.1667593364912675\n",
      "The Cosine Similarity (using np.dot) for document 9 and document 5 is 0.16534008228581126\n",
      "The Cosine Similarity (using np.dot) for document 9 and document 6 is 0.13008560009748743\n",
      "The Cosine Similarity (using np.dot) for document 9 and document 7 is 0.15200486423348444\n",
      "The Cosine Similarity (using np.dot) for document 9 and document 8 is 0.28225806451612906\n",
      "The Cosine Similarity (using np.dot) for document 9 and document 10 is 0.16821577756312223\n",
      "The Cosine Similarity (using np.dot) for document 9 and document 11 is 0.13576884666042613\n",
      "The Cosine Similarity (using np.dot) for document 9 and document 12 is 0.18548387096774194\n",
      "The Cosine Similarity (using np.dot) for document 9 and document 13 is 0.156074525860644\n",
      "The Cosine Similarity (using np.dot) for document 9 and document 14 is 0.132272065828649\n",
      "The Cosine Similarity (using np.dot) for document 9 and document 15 is 0.16534008228581126\n",
      "The Cosine Similarity (using np.dot) for document 9 and document 16 is 0.232007424356371\n",
      "The Cosine Similarity (using np.dot) for document 9 and document 17 is 0.2657423679108717\n",
      "The Cosine Similarity (using np.dot) for document 9 and document 18 is 0.23974571083775958\n",
      "The Cosine Similarity (using np.dot) for document 9 and document 19 is 0.18974273147466134\n",
      "The Cosine Similarity (using np.dot) for document 10 and document 0 is 0.1724394251251618\n",
      "The Cosine Similarity (using np.dot) for document 10 and document 1 is 0.2103625967229588\n",
      "The Cosine Similarity (using np.dot) for document 10 and document 2 is 0.15980498868496612\n",
      "The Cosine Similarity (using np.dot) for document 10 and document 3 is 0.23821762807690303\n",
      "The Cosine Similarity (using np.dot) for document 10 and document 4 is 0.19131158091484038\n",
      "The Cosine Similarity (using np.dot) for document 10 and document 5 is 0.14657351135638752\n",
      "The Cosine Similarity (using np.dot) for document 10 and document 6 is 0.1950273389240886\n",
      "The Cosine Similarity (using np.dot) for document 10 and document 7 is 0.15018785229652767\n",
      "The Cosine Similarity (using np.dot) for document 10 and document 8 is 0.15139419980681001\n",
      "The Cosine Similarity (using np.dot) for document 10 and document 9 is 0.16821577756312223\n",
      "The Cosine Similarity (using np.dot) for document 10 and document 11 is 0.16814817728363732\n",
      "The Cosine Similarity (using np.dot) for document 10 and document 12 is 0.21868051083205892\n",
      "The Cosine Similarity (using np.dot) for document 10 and document 13 is 0.28679585515318196\n",
      "The Cosine Similarity (using np.dot) for document 10 and document 14 is 0.10346365507509707\n",
      "The Cosine Similarity (using np.dot) for document 10 and document 15 is 0.1638174538689037\n",
      "The Cosine Similarity (using np.dot) for document 10 and document 16 is 0.20025046972870356\n",
      "The Cosine Similarity (using np.dot) for document 10 and document 17 is 0.20016588663317567\n",
      "The Cosine Similarity (using np.dot) for document 10 and document 18 is 0.17859990659227326\n",
      "The Cosine Similarity (using np.dot) for document 10 and document 19 is 0.1424807070437933\n",
      "The Cosine Similarity (using np.dot) for document 11 and document 0 is 0.2087667001917663\n",
      "The Cosine Similarity (using np.dot) for document 11 and document 1 is 0.2285581019569187\n",
      "The Cosine Similarity (using np.dot) for document 11 and document 2 is 0.2036532699906392\n",
      "The Cosine Similarity (using np.dot) for document 11 and document 3 is 0.19889806323953876\n",
      "The Cosine Similarity (using np.dot) for document 11 and document 4 is 0.193012161744489\n",
      "The Cosine Similarity (using np.dot) for document 11 and document 5 is 0.25225976273171763\n",
      "The Cosine Similarity (using np.dot) for document 11 and document 6 is 0.22242542101947535\n",
      "The Cosine Similarity (using np.dot) for document 11 and document 7 is 0.16835875742536846\n",
      "The Cosine Similarity (using np.dot) for document 11 and document 8 is 0.2036532699906392\n",
      "The Cosine Similarity (using np.dot) for document 11 and document 9 is 0.13576884666042613\n",
      "The Cosine Similarity (using np.dot) for document 11 and document 10 is 0.16814817728363732\n",
      "The Cosine Similarity (using np.dot) for document 11 and document 12 is 0.21213882290691585\n",
      "The Cosine Similarity (using np.dot) for document 11 and document 13 is 0.2502444988359418\n",
      "The Cosine Similarity (using np.dot) for document 11 and document 14 is 0.1391778001278442\n",
      "The Cosine Similarity (using np.dot) for document 11 and document 15 is 0.14787641263583445\n",
      "The Cosine Similarity (using np.dot) for document 11 and document 16 is 0.26937401188058957\n",
      "The Cosine Similarity (using np.dot) for document 11 and document 17 is 0.209712296025405\n",
      "The Cosine Similarity (using np.dot) for document 11 and document 18 is 0.09910312089651148\n",
      "The Cosine Similarity (using np.dot) for document 11 and document 19 is 0.14374722712498647\n",
      "The Cosine Similarity (using np.dot) for document 12 and document 0 is 0.14053906994293958\n",
      "The Cosine Similarity (using np.dot) for document 12 and document 1 is 0.24824855918069552\n",
      "The Cosine Similarity (using np.dot) for document 12 and document 2 is 0.16129032258064516\n",
      "The Cosine Similarity (using np.dot) for document 12 and document 3 is 0.22841019215633374\n",
      "The Cosine Similarity (using np.dot) for document 12 and document 4 is 0.22512510426321114\n",
      "The Cosine Similarity (using np.dot) for document 12 and document 5 is 0.27281113577158855\n",
      "The Cosine Similarity (using np.dot) for document 12 and document 6 is 0.25204085018888195\n",
      "The Cosine Similarity (using np.dot) for document 12 and document 7 is 0.12800409619661848\n",
      "The Cosine Similarity (using np.dot) for document 12 and document 8 is 0.22580645161290322\n",
      "The Cosine Similarity (using np.dot) for document 12 and document 9 is 0.18548387096774194\n",
      "The Cosine Similarity (using np.dot) for document 12 and document 10 is 0.21868051083205892\n",
      "The Cosine Similarity (using np.dot) for document 12 and document 11 is 0.21213882290691585\n",
      "The Cosine Similarity (using np.dot) for document 12 and document 13 is 0.17837088669787884\n",
      "The Cosine Similarity (using np.dot) for document 12 and document 14 is 0.1570730781715207\n",
      "The Cosine Similarity (using np.dot) for document 12 and document 15 is 0.20667510285726406\n",
      "The Cosine Similarity (using np.dot) for document 12 and document 16 is 0.2480079363809483\n"
     ]
    },
    {
     "name": "stdout",
     "output_type": "stream",
     "text": [
      "The Cosine Similarity (using np.dot) for document 12 and document 17 is 0.17716157860724777\n",
      "The Cosine Similarity (using np.dot) for document 12 and document 18 is 0.18837162994395396\n",
      "The Cosine Similarity (using np.dot) for document 12 and document 19 is 0.10625592962581035\n",
      "The Cosine Similarity (using np.dot) for document 13 and document 0 is 0.15237459493410543\n",
      "The Cosine Similarity (using np.dot) for document 13 and document 1 is 0.32172416819495553\n",
      "The Cosine Similarity (using np.dot) for document 13 and document 2 is 0.22296360837234858\n",
      "The Cosine Similarity (using np.dot) for document 13 and document 3 is 0.21049893061308372\n",
      "The Cosine Similarity (using np.dot) for document 13 and document 4 is 0.26126034411427157\n",
      "The Cosine Similarity (using np.dot) for document 13 and document 5 is 0.20570570316104236\n",
      "The Cosine Similarity (using np.dot) for document 13 and document 6 is 0.19481258303987187\n",
      "The Cosine Similarity (using np.dot) for document 13 and document 7 is 0.1695766828281267\n",
      "The Cosine Similarity (using np.dot) for document 13 and document 8 is 0.23782784893050513\n",
      "The Cosine Similarity (using np.dot) for document 13 and document 9 is 0.156074525860644\n",
      "The Cosine Similarity (using np.dot) for document 13 and document 10 is 0.28679585515318196\n",
      "The Cosine Similarity (using np.dot) for document 13 and document 11 is 0.2502444988359418\n",
      "The Cosine Similarity (using np.dot) for document 13 and document 12 is 0.17837088669787884\n",
      "The Cosine Similarity (using np.dot) for document 13 and document 14 is 0.06856856772034745\n",
      "The Cosine Similarity (using np.dot) for document 13 and document 15 is 0.1980869734143371\n",
      "The Cosine Similarity (using np.dot) for document 13 and document 16 is 0.25067857461549164\n",
      "The Cosine Similarity (using np.dot) for document 13 and document 17 is 0.2857208969457772\n",
      "The Cosine Similarity (using np.dot) for document 13 and document 18 is 0.14992733815012546\n",
      "The Cosine Similarity (using np.dot) for document 13 and document 19 is 0.16087456673785316\n",
      "The Cosine Similarity (using np.dot) for document 14 and document 0 is 0.11864406779661017\n",
      "The Cosine Similarity (using np.dot) for document 14 and document 1 is 0.07157298112145881\n",
      "The Cosine Similarity (using np.dot) for document 14 and document 2 is 0.14880607405723012\n",
      "The Cosine Similarity (using np.dot) for document 14 and document 3 is 0.1372575496696989\n",
      "The Cosine Similarity (using np.dot) for document 14 and document 4 is 0.17949373573723143\n",
      "The Cosine Similarity (using np.dot) for document 14 and document 5 is 0.1271186440677966\n",
      "The Cosine Similarity (using np.dot) for document 14 and document 6 is 0.16668981963846227\n",
      "The Cosine Similarity (using np.dot) for document 14 and document 7 is 0.13121808834803275\n",
      "The Cosine Similarity (using np.dot) for document 14 and document 8 is 0.16534008228581126\n",
      "The Cosine Similarity (using np.dot) for document 14 and document 9 is 0.132272065828649\n",
      "The Cosine Similarity (using np.dot) for document 14 and document 10 is 0.10346365507509707\n",
      "The Cosine Similarity (using np.dot) for document 14 and document 11 is 0.1391778001278442\n",
      "The Cosine Similarity (using np.dot) for document 14 and document 12 is 0.1570730781715207\n",
      "The Cosine Similarity (using np.dot) for document 14 and document 13 is 0.06856856772034745\n",
      "The Cosine Similarity (using np.dot) for document 14 and document 15 is 0.11864406779661017\n",
      "The Cosine Similarity (using np.dot) for document 14 and document 16 is 0.18042487147854505\n",
      "The Cosine Similarity (using np.dot) for document 14 and document 17 is 0.09837199769897538\n",
      "The Cosine Similarity (using np.dot) for document 14 and document 18 is 0.1492146879917682\n",
      "The Cosine Similarity (using np.dot) for document 14 and document 19 is 0.10892385771565849\n",
      "The Cosine Similarity (using np.dot) for document 15 and document 0 is 0.11864406779661017\n",
      "The Cosine Similarity (using np.dot) for document 15 and document 1 is 0.1749561760746771\n",
      "The Cosine Similarity (using np.dot) for document 15 and document 2 is 0.2232091110858452\n",
      "The Cosine Similarity (using np.dot) for document 15 and document 3 is 0.21799728476952177\n",
      "The Cosine Similarity (using np.dot) for document 15 and document 4 is 0.2136830187347993\n",
      "The Cosine Similarity (using np.dot) for document 15 and document 5 is 0.2796610169491525\n",
      "The Cosine Similarity (using np.dot) for document 15 and document 6 is 0.2583692204396165\n",
      "The Cosine Similarity (using np.dot) for document 15 and document 7 is 0.14762034939153687\n",
      "The Cosine Similarity (using np.dot) for document 15 and document 8 is 0.2480101234287169\n",
      "The Cosine Similarity (using np.dot) for document 15 and document 9 is 0.16534008228581126\n",
      "The Cosine Similarity (using np.dot) for document 15 and document 10 is 0.1638174538689037\n",
      "The Cosine Similarity (using np.dot) for document 15 and document 11 is 0.14787641263583445\n",
      "The Cosine Similarity (using np.dot) for document 15 and document 12 is 0.20667510285726406\n",
      "The Cosine Similarity (using np.dot) for document 15 and document 13 is 0.1980869734143371\n",
      "The Cosine Similarity (using np.dot) for document 15 and document 14 is 0.11864406779661017\n",
      "The Cosine Similarity (using np.dot) for document 15 and document 16 is 0.21322939356555323\n",
      "The Cosine Similarity (using np.dot) for document 15 and document 17 is 0.24214645587440095\n",
      "The Cosine Similarity (using np.dot) for document 15 and document 18 is 0.1843240263427725\n",
      "The Cosine Similarity (using np.dot) for document 15 and document 19 is 0.21006743988019852\n",
      "The Cosine Similarity (using np.dot) for document 16 and document 0 is 0.1558214799132889\n",
      "The Cosine Similarity (using np.dot) for document 16 and document 1 is 0.23087854826980506\n",
      "The Cosine Similarity (using np.dot) for document 16 and document 2 is 0.2800089604301029\n",
      "The Cosine Similarity (using np.dot) for document 16 and document 3 is 0.27347088471412234\n",
      "The Cosine Similarity (using np.dot) for document 16 and document 4 is 0.26468888905891474\n",
      "The Cosine Similarity (using np.dot) for document 16 and document 5 is 0.29524069878307374\n",
      "The Cosine Similarity (using np.dot) for document 16 and document 6 is 0.3226226123305515\n",
      "The Cosine Similarity (using np.dot) for document 16 and document 7 is 0.2222222222222222\n",
      "The Cosine Similarity (using np.dot) for document 16 and document 8 is 0.22400716834408235\n",
      "The Cosine Similarity (using np.dot) for document 16 and document 9 is 0.232007424356371\n",
      "The Cosine Similarity (using np.dot) for document 16 and document 10 is 0.20025046972870356\n",
      "The Cosine Similarity (using np.dot) for document 16 and document 11 is 0.26937401188058957\n",
      "The Cosine Similarity (using np.dot) for document 16 and document 12 is 0.2480079363809483\n",
      "The Cosine Similarity (using np.dot) for document 16 and document 13 is 0.25067857461549164\n",
      "The Cosine Similarity (using np.dot) for document 16 and document 14 is 0.18042487147854505\n",
      "The Cosine Similarity (using np.dot) for document 16 and document 15 is 0.21322939356555323\n",
      "The Cosine Similarity (using np.dot) for document 16 and document 17 is 0.32953108137281006\n",
      "The Cosine Similarity (using np.dot) for document 16 and document 18 is 0.14440003757399392\n",
      "The Cosine Similarity (using np.dot) for document 16 and document 19 is 0.29364006844420665\n",
      "The Cosine Similarity (using np.dot) for document 17 and document 0 is 0.12107322793720048\n",
      "The Cosine Similarity (using np.dot) for document 17 and document 1 is 0.1988267320629086\n",
      "The Cosine Similarity (using np.dot) for document 17 and document 2 is 0.19192504349118508\n",
      "The Cosine Similarity (using np.dot) for document 17 and document 3 is 0.2811655278551303\n",
      "The Cosine Similarity (using np.dot) for document 17 and document 4 is 0.3281773495940567\n",
      "The Cosine Similarity (using np.dot) for document 17 and document 5 is 0.2875489163508511\n",
      "The Cosine Similarity (using np.dot) for document 17 and document 6 is 0.3200056767329887\n",
      "The Cosine Similarity (using np.dot) for document 17 and document 7 is 0.15378117130731137\n",
      "The Cosine Similarity (using np.dot) for document 17 and document 8 is 0.28788756523677766\n",
      "The Cosine Similarity (using np.dot) for document 17 and document 9 is 0.2657423679108717\n",
      "The Cosine Similarity (using np.dot) for document 17 and document 10 is 0.20016588663317567\n",
      "The Cosine Similarity (using np.dot) for document 17 and document 11 is 0.209712296025405\n",
      "The Cosine Similarity (using np.dot) for document 17 and document 12 is 0.17716157860724777\n",
      "The Cosine Similarity (using np.dot) for document 17 and document 13 is 0.2857208969457772\n",
      "The Cosine Similarity (using np.dot) for document 17 and document 14 is 0.09837199769897538\n"
     ]
    },
    {
     "name": "stdout",
     "output_type": "stream",
     "text": [
      "The Cosine Similarity (using np.dot) for document 17 and document 15 is 0.24214645587440095\n",
      "The Cosine Similarity (using np.dot) for document 17 and document 16 is 0.32953108137281006\n",
      "The Cosine Similarity (using np.dot) for document 17 and document 18 is 0.13323604148969134\n",
      "The Cosine Similarity (using np.dot) for document 17 and document 19 is 0.22230800575069137\n",
      "The Cosine Similarity (using np.dot) for document 18 and document 0 is 0.1843240263427725\n",
      "The Cosine Similarity (using np.dot) for document 18 and document 1 is 0.11531327161512436\n",
      "The Cosine Similarity (using np.dot) for document 18 and document 2 is 0.1541222426814169\n",
      "The Cosine Similarity (using np.dot) for document 18 and document 3 is 0.1337987216011345\n",
      "The Cosine Similarity (using np.dot) for document 18 and document 4 is 0.1682008800516714\n",
      "The Cosine Similarity (using np.dot) for document 18 and document 5 is 0.16676935716727037\n",
      "The Cosine Similarity (using np.dot) for document 18 and document 6 is 0.19854162773425654\n",
      "The Cosine Similarity (using np.dot) for document 18 and document 7 is 0.14440003757399392\n",
      "The Cosine Similarity (using np.dot) for document 18 and document 8 is 0.23118336402212533\n",
      "The Cosine Similarity (using np.dot) for document 18 and document 9 is 0.23974571083775958\n",
      "The Cosine Similarity (using np.dot) for document 18 and document 10 is 0.17859990659227326\n",
      "The Cosine Similarity (using np.dot) for document 18 and document 11 is 0.09910312089651148\n",
      "The Cosine Similarity (using np.dot) for document 18 and document 12 is 0.18837162994395396\n",
      "The Cosine Similarity (using np.dot) for document 18 and document 13 is 0.14992733815012546\n",
      "The Cosine Similarity (using np.dot) for document 18 and document 14 is 0.1492146879917682\n",
      "The Cosine Similarity (using np.dot) for document 18 and document 15 is 0.1843240263427725\n",
      "The Cosine Similarity (using np.dot) for document 18 and document 16 is 0.14440003757399392\n",
      "The Cosine Similarity (using np.dot) for document 18 and document 17 is 0.13323604148969134\n",
      "The Cosine Similarity (using np.dot) for document 18 and document 19 is 0.12893167424406085\n",
      "The Cosine Similarity (using np.dot) for document 19 and document 0 is 0.10892385771565849\n",
      "The Cosine Similarity (using np.dot) for document 19 and document 1 is 0.19712756035954207\n",
      "The Cosine Similarity (using np.dot) for document 19 and document 2 is 0.23528098702858005\n",
      "The Cosine Similarity (using np.dot) for document 19 and document 3 is 0.17048734283205327\n",
      "The Cosine Similarity (using np.dot) for document 19 and document 4 is 0.18048238591512406\n",
      "The Cosine Similarity (using np.dot) for document 19 and document 5 is 0.2723096442891462\n",
      "The Cosine Similarity (using np.dot) for document 19 and document 6 is 0.26780834840499246\n",
      "The Cosine Similarity (using np.dot) for document 19 and document 7 is 0.15058465048420855\n",
      "The Cosine Similarity (using np.dot) for document 19 and document 8 is 0.18974273147466134\n",
      "The Cosine Similarity (using np.dot) for document 19 and document 9 is 0.18974273147466134\n",
      "The Cosine Similarity (using np.dot) for document 19 and document 10 is 0.1424807070437933\n",
      "The Cosine Similarity (using np.dot) for document 19 and document 11 is 0.14374722712498647\n",
      "The Cosine Similarity (using np.dot) for document 19 and document 12 is 0.10625592962581035\n",
      "The Cosine Similarity (using np.dot) for document 19 and document 13 is 0.16087456673785316\n",
      "The Cosine Similarity (using np.dot) for document 19 and document 14 is 0.10892385771565849\n",
      "The Cosine Similarity (using np.dot) for document 19 and document 15 is 0.21006743988019852\n",
      "The Cosine Similarity (using np.dot) for document 19 and document 16 is 0.29364006844420665\n",
      "The Cosine Similarity (using np.dot) for document 19 and document 17 is 0.22230800575069137\n",
      "The Cosine Similarity (using np.dot) for document 19 and document 18 is 0.12893167424406085\n"
     ]
    }
   ],
   "source": [
    "similarity(list_of_dicts, numpycosine) #Checking that the numpy method also gives the same results."
   ]
  },
  {
   "cell_type": "markdown",
   "metadata": {},
   "source": [
    "Interestingly, the Cosine similarity for each document pair seems to be around double that of the Jaccard similarity."
   ]
  },
  {
   "cell_type": "markdown",
   "metadata": {},
   "source": [
    "### Modifying the similarity function"
   ]
  },
  {
   "cell_type": "markdown",
   "metadata": {},
   "source": [
    "We now modify our similarity function to take an additional parameter n, which specifies the number of documents to loop over when computing all-pairs. This is so that we can test the time complexity of the all-pairs Jaccard and Cosine (sparse) measures. We have removed the possibility of the measures being inputted as numpycosine and cosine (dense) as we do not wish to find the worst case running time when computing all-pairs similarity for these measures. Reasons are detailed in appendix."
   ]
  },
  {
   "cell_type": "code",
   "execution_count": 26,
   "metadata": {},
   "outputs": [],
   "source": [
    "def newsimilarity(listofdicts, measure, n):\n",
    "    if measure == jaccard:\n",
    "        for i in range(0,n):\n",
    "            for j in range(0,n):\n",
    "                if (i!=j):\n",
    "                    js = jaccard(listofdicts[i],listofdicts[j])\n",
    "    elif measure == cosine_dict:\n",
    "        for i in range(0,n):\n",
    "            for j in range(0,n):\n",
    "                if (i!=j):\n",
    "                    cos = cosine_dict(listofdicts[i],listofdicts[j])   "
   ]
  },
  {
   "cell_type": "markdown",
   "metadata": {},
   "source": [
    "### Finding the worst case running time of all-pairs Jaccard similarity"
   ]
  },
  {
   "cell_type": "markdown",
   "metadata": {},
   "source": [
    "We now produce the x-axis which we will use to make plots. It is the number of documents included in the all-pairs computation. "
   ]
  },
  {
   "cell_type": "code",
   "execution_count": 27,
   "metadata": {},
   "outputs": [],
   "source": [
    "docs = []\n",
    "for x in range(2,21):\n",
    "    docs.append(x)"
   ]
  },
  {
   "cell_type": "markdown",
   "metadata": {},
   "source": [
    "We now use our timeit function in conjunction with the new similarity function with our desired parameters to produce the worst-case running time."
   ]
  },
  {
   "cell_type": "code",
   "execution_count": 28,
   "metadata": {},
   "outputs": [],
   "source": [
    "y_values_5 = []\n",
    "for n in range(2,21):\n",
    "    (ans, mean,error) = timeit(newsimilarity, list_of_dicts, jaccard, n)\n",
    "    y_values_5.append(mean) #Loop produces 20 running times that should increase with every iteration."
   ]
  },
  {
   "cell_type": "code",
   "execution_count": 29,
   "metadata": {},
   "outputs": [
    {
     "data": {
      "image/png": "[encoded data removed]",
      "text/plain": [
       "<Figure size 432x288 with 1 Axes>"
      ]
     },
     "metadata": {
      "needs_background": "light"
     },
     "output_type": "display_data"
    },
    {
     "name": "stdout",
     "output_type": "stream",
     "text": [
      "Times: [7.205343246459961e-05, 0.00020194673538208007, 0.00041399812698364257, 0.0007070605754852295, 0.0010409398078918457, 0.0014560515880584716, 0.0020039682388305665, 0.002620032548904419, 0.0033119759559631346, 0.004018003225326538, 0.004843947410583496, 0.005745999097824097, 0.006409053087234497, 0.007304938793182373, 0.008393070459365845, 0.009501933336257935, 0.010698999166488648, 0.011910999774932861, 0.013288000345230103]\n"
     ]
    }
   ],
   "source": [
    "z = np.polyfit(docs, y_values_5, 2) #Linear regression helps show that relationship is quadratic.\n",
    "p = np.poly1d(z)\n",
    "plt.plot(docs, p(docs))\n",
    "plt.scatter(docs, y_values_5)\n",
    "plt.xlabel(\"Number of documents\")\n",
    "plt.ylabel(\"Average time to compute all-pairs\")\n",
    "plt.title(\"Worst case running time of all-pairs Jaccard similarity\")\n",
    "plt.xticks(range(2,21)) #Deafult x-ticks go up in 2.5's, this looks cleaner.\n",
    "plt.show()\n",
    "print(\"Times: {}\".format(y_values_5))"
   ]
  },
  {
   "cell_type": "markdown",
   "metadata": {},
   "source": [
    "We now do the same for our sparse consine implementation."
   ]
  },
  {
   "cell_type": "markdown",
   "metadata": {},
   "source": [
    "### Finding the worst case running time of all-pairs Cosine (sparse) similarity"
   ]
  },
  {
   "cell_type": "code",
   "execution_count": 30,
   "metadata": {},
   "outputs": [],
   "source": [
    "y_values_8 = []\n",
    "for n in range(2,21):\n",
    "    (ans, mean,error) = timeit(newsimilarity, list_of_dicts, cosine_dict, n)\n",
    "    y_values_8.append(mean)"
   ]
  },
  {
   "cell_type": "code",
   "execution_count": 31,
   "metadata": {},
   "outputs": [
    {
     "data": {
      "image/png": "[encoded data removed]",
      "text/plain": [
       "<Figure size 432x288 with 1 Axes>"
      ]
     },
     "metadata": {
      "needs_background": "light"
     },
     "output_type": "display_data"
    }
   ],
   "source": [
    "z = np.polyfit(docs, y_values_8, 2)\n",
    "p = np.poly1d(z)\n",
    "plt.plot(docs, p(docs))\n",
    "plt.scatter(docs, y_values_8)\n",
    "plt.xticks(range(2,21))\n",
    "plt.xlabel(\"Number of documents\")\n",
    "plt.ylabel(\"Average time to compute all-pairs\")\n",
    "plt.title(\"Worst case running time of Cosine similarity using sparse representation\")\n",
    "plt.show()"
   ]
  },
  {
   "cell_type": "code",
   "execution_count": 32,
   "metadata": {},
   "outputs": [
    {
     "data": {
      "text/plain": [
       "Text(0.5, 1.0, 'Worst case running time of different similarity measures')"
      ]
     },
     "execution_count": 32,
     "metadata": {},
     "output_type": "execute_result"
    },
    {
     "data": {
      "image/png": "[encoded data removed]",
      "text/plain": [
       "<Figure size 432x288 with 1 Axes>"
      ]
     },
     "metadata": {
      "needs_background": "light"
     },
     "output_type": "display_data"
    }
   ],
   "source": [
    "fig = plt.figure()\n",
    "ax1 = fig.add_subplot(111)\n",
    "ax1.scatter(docs, y_values_5, label = \"Jaccard\", marker = \"s\", c = \"k\")\n",
    "ax1.scatter(docs, y_values_8, label = \"Cosine sparse\", marker = \"*\", c =\"r\")\n",
    "plt.ylim(0,0.012) #Change the limits as required if the plot does not fit well.\n",
    "plt.legend(loc=\"upper left\")\n",
    "plt.xticks(range(2,21))\n",
    "plt.xlabel(\"Number of words\")\n",
    "plt.ylabel(\"Average time to compute different similarity measures\")\n",
    "plt.title(\"Worst case running time of different similarity measures\")"
   ]
  },
  {
   "cell_type": "markdown",
   "metadata": {},
   "source": [
    "### Estimating the time complexities of all-pairs measures"
   ]
  },
  {
   "cell_type": "markdown",
   "metadata": {},
   "source": [
    "From each of the graphs above, It is clear to see that their relationships are quadratic. \n",
    "\n",
    "Once again, we will use logarithms to manipulate our plots to find the respective time complexities in big-O notation.\n",
    "\n",
    "If $y=c.x^n$ then it follows that:\n",
    "$$\\log(y) = \\log(c) + n \\log(x)$$\n",
    "so if we plot a graph of $\\log(y)$ against $\\log(x)$ the gradient will be $n$ which we hope to be ~2 and the y intercept will be $\\log(c)$"
   ]
  },
  {
   "cell_type": "code",
   "execution_count": 33,
   "metadata": {},
   "outputs": [
    {
     "data": {
      "image/png": "[encoded data removed]",
      "text/plain": [
       "<Figure size 432x288 with 1 Axes>"
      ]
     },
     "metadata": {
      "needs_background": "light"
     },
     "output_type": "display_data"
    },
    {
     "name": "stdout",
     "output_type": "stream",
     "text": [
      "Slope for J.S is 2.2253681153324254 and intercept is -4.737694334106675\n",
      "Constant for J.S is 1.8293873256930996e-05\n"
     ]
    }
   ],
   "source": [
    "logxs=[np.log10(x) for x in docs]\n",
    "logys=[np.log10(y) for y in y_values_5]\n",
    "\n",
    "plt.scatter(logxs,logys)\n",
    "plt.xlabel(\"Log of Length of List\")\n",
    "plt.ylabel(\"Log of Average time to sort\")\n",
    "plt.title(\"Worst Case Running Time of Jaccard Similarity\")\n",
    "plt.show()\n",
    "slope1, intercept1 = np.polyfit(logxs, logys, 1)\n",
    "print(\"Slope for J.S is {} and intercept is {}\".format(slope1,intercept1))\n",
    "constant1 = 10**intercept1 #Working in log base 10, meaning if we take 10 to the power of the intercept, we obtain the constant.\n",
    "print(\"Constant for J.S is {}\".format(constant1))"
   ]
  },
  {
   "cell_type": "markdown",
   "metadata": {},
   "source": [
    "The slope produced is usually around 2-2.4, but I will go with $n = 2.249$ which is the current result at the time I am writing this.\n",
    "This shows that empirically that the time compelxity in big-O notation is $O(n^{2.249})$ for our all-pairs Jaccard measure. Originally I decided to go with 2.2 but when computing a huge amount of documents (e.g 200k) it is better to be more accurate."
   ]
  },
  {
   "cell_type": "code",
   "execution_count": 34,
   "metadata": {},
   "outputs": [
    {
     "data": {
      "image/png": "[encoded data removed]",
      "text/plain": [
       "<Figure size 432x288 with 1 Axes>"
      ]
     },
     "metadata": {
      "needs_background": "light"
     },
     "output_type": "display_data"
    },
    {
     "name": "stdout",
     "output_type": "stream",
     "text": [
      "Slope for Cosine sparse is 2.2069431998330353 and intercept is -4.74173983513668\n",
      "Constant for Cosine sparse is 1.8124255041229395e-05\n"
     ]
    }
   ],
   "source": [
    "logxs=[np.log10(x) for x in docs]\n",
    "logys=[np.log10(y) for y in y_values_8]\n",
    "\n",
    "plt.scatter(logxs,logys)\n",
    "plt.xlabel(\"Log of Length of List\")\n",
    "plt.ylabel(\"Log of Average time to sort\")\n",
    "plt.title(\"Worst Case Running Time of Cosine sparse\")\n",
    "plt.show()\n",
    "slope2, intercept2 = np.polyfit(logxs, logys, 1)\n",
    "print(\"Slope for Cosine sparse is {} and intercept is {}\".format(slope2,intercept2))\n",
    "constant2 = 10**intercept2\n",
    "print(\"Constant for Cosine sparse is {}\".format(constant2))"
   ]
  },
  {
   "cell_type": "markdown",
   "metadata": {},
   "source": [
    "The slope produced above seems to be around 2.2 also, suggesting that in big-O notation the time complexity is of the form $O(n^{2.2})$ for the Cosine sparse method."
   ]
  },
  {
   "cell_type": "markdown",
   "metadata": {},
   "source": [
    "Now that we have the time complexity of each all-pairs measure, we can aim to compute how long each algorithm takes for a certain number of documents. Converting from big-O notation and inputing our values, $y_1 = c_1*20^{slope}$ and $y_2 = c_2*20^{slope}$. Keep in my mind that these constants may vary depending on the setup of the reader.\n"
   ]
  },
  {
   "cell_type": "code",
   "execution_count": 35,
   "metadata": {},
   "outputs": [
    {
     "name": "stdout",
     "output_type": "stream",
     "text": [
      "Estimated time taken to compute all-pairs Jaccard and Cosine sparse measures for 20 documents respectively: 0.013475952346743673 0.014373956801866488\n"
     ]
    }
   ],
   "source": [
    "y = constant1*(20**slope1)\n",
    "x = constant2*(20**slope2)\n",
    "print(\"Estimated time taken to compute all-pairs Jaccard and Cosine sparse measures for 20 documents respectively: {} {}\".format(x,y))"
   ]
  },
  {
   "cell_type": "markdown",
   "metadata": {},
   "source": [
    "Therefore, to test if our estimated complexity is correct, these values should correspond to our previously generated times. "
   ]
  },
  {
   "cell_type": "code",
   "execution_count": 36,
   "metadata": {},
   "outputs": [
    {
     "name": "stdout",
     "output_type": "stream",
     "text": [
      "True time taken to compute all-pairs Jaccard and Cosine sparse measures for 20 documents respectively: 0.013288000345230103 0.013808066606521606\n"
     ]
    }
   ],
   "source": [
    "y_1 = y_values_5[18]\n",
    "y_2 = y_values_8[18]\n",
    "print(\"True time taken to compute all-pairs Jaccard and Cosine sparse measures for 20 documents respectively: {} {}\".format(y_1, y_2))\n"
   ]
  },
  {
   "cell_type": "markdown",
   "metadata": {},
   "source": [
    "Our estimated and true times for 20 documents is very close meaning that we can assume our estimated time complexity is close to the true value. We now try this for 200k documents. We will use our previous constants $c_1$ and $c_2$ and our generated slopes. We divide by 86400 as this is the amount of seconds in a day. "
   ]
  },
  {
   "cell_type": "code",
   "execution_count": 37,
   "metadata": {},
   "outputs": [
    {
     "name": "stdout",
     "output_type": "stream",
     "text": [
      "Estimated time taken to compute all-pairs Jaccard similarity for 200k documents in days: 132.5974139769915\n",
      "Estimated time taken to compute all-pairs Cosine similarity for 200k documents in days: 104.91039529570156\n"
     ]
    }
   ],
   "source": [
    "y_3 = constant1*(200000**slope1)\n",
    "y_4 = constant2*(200000**slope2)\n",
    "print(\"Estimated time taken to compute all-pairs Jaccard similarity for 200k documents in days: {}\".format(y_3 / 86400))\n",
    "print(\"Estimated time taken to compute all-pairs Cosine similarity for 200k documents in days: {}\".format(y_4 / 86400))"
   ]
  },
  {
   "cell_type": "markdown",
   "metadata": {},
   "source": [
    "The results above tend to show that the Cosine sparse similarity should be preferred when using a huge amount of doucments."
   ]
  },
  {
   "cell_type": "markdown",
   "metadata": {},
   "source": [
    "# Q5) Map-reduce"
   ]
  },
  {
   "cell_type": "markdown",
   "metadata": {},
   "source": [
    "MapReduce is a programming model and an associated parallel implementation for processing large data sets. A MapReduce program is composed of a map method which sorts and filters and a reduce method that then sums across the outputs of the map stage. \n",
    "\n",
    "\n",
    "A MapReduce system is usually composed of three operations:\n",
    "\n",
    "Map: Each worker node applies the map function and writes the output to a temporary storage. A master node ensures that only one copy of the data is processed.\n",
    "\n",
    "Shuffle: Worker nodes redistribute data based on the output keys (produced by the map function).\n",
    "\n",
    "Reduce: Worker nodes now process each group of output data in parallel."
   ]
  },
  {
   "cell_type": "code",
   "execution_count": 38,
   "metadata": {},
   "outputs": [],
   "source": [
    "from multiprocessing import Pool\n",
    "from collections import defaultdict\n",
    "\n",
    "def map_reduce_parallel(inputs,mapper,reducer,mapprocesses=3,reduceprocesses=2):\n",
    "    \n",
    "    collector=defaultdict(list)  #this dictionary is where we will store intermediate results\n",
    "                                 #it will map keys to lists of values\n",
    "                                 \n",
    "    \n",
    "    mappool = Pool(processes=mapprocesses)\n",
    "    #map stage\n",
    "\n",
    "    mapresults=mappool.map(mapper,inputs)\n",
    "    mappool.close()\n",
    "    for mapresult in mapresults:\n",
    "        for (key, value) in mapresult:     #pass each input to the mapper function and receive back each key,value pair yielded\n",
    "            collector[key].append(value)     #append the value to the list for that key in the intermediate store\n",
    "    \n",
    "    #reduce stage - 1 reducer for each key\n",
    "    outputs=[]\n",
    "    reducepool = Pool(processes=reduceprocesses)\n",
    "    \n",
    "    reduceresults=reducepool.map(reducer,collector.items())\n",
    "    reducepool.close()\n",
    "    \n",
    "    for reduceresult in reduceresults:\n",
    "        outputs+=reduceresult\n",
    "   \n",
    "    return outputs\n"
   ]
  },
  {
   "cell_type": "markdown",
   "metadata": {},
   "source": [
    "I have managed to produce some similarity results, but I believe I am not maximising the usage of the map and reduce functions and am just preparing results based on how I previously did it. print(mapresults) gives us the all-pairs similarities but it is clear that I have not done this correctly. "
   ]
  },
  {
   "cell_type": "code",
   "execution_count": 40,
   "metadata": {},
   "outputs": [
    {
     "data": {
      "text/plain": [
       "[(0.04712041884816754, (0, 1)),\n",
       " (0.041666666666666664, (0, 2)),\n",
       " (0.05263157894736842, (0, 3)),\n",
       " (0.08108108108108109, (0, 5)),\n",
       " (0.06382978723404255, (0, 6)),\n",
       " (0.10497237569060773, (0, 11)),\n",
       " (0.0582010582010582, (0, 13)),\n",
       " (0.07526881720430108, (0, 16)),\n",
       " (0.09289617486338798, (0, 18)),\n",
       " (0.1111111111111111, (1, 3)),\n",
       " (0.0989010989010989, (1, 6)),\n",
       " (0.08695652173913043, (1, 12)),\n",
       " (0.03626943005181347, (1, 14)),\n",
       " (0.06951871657754011, (2, 17)),\n",
       " (0.12994350282485875, (5, 6)),\n",
       " (0.11731843575418995, (5, 15)),\n",
       " (0.12359550561797752, (6, 17))]"
      ]
     },
     "execution_count": 40,
     "metadata": {},
     "output_type": "execute_result"
    }
   ],
   "source": [
    "import defs\n",
    "alist = [list_of_dicts]\n",
    "results=map_reduce_parallel(alist,defs.jaccard_mapper_parallel,defs.jaccard_reducer_parallel)\n",
    "results"
   ]
  },
  {
   "cell_type": "code",
   "execution_count": null,
   "metadata": {},
   "outputs": [],
   "source": [
    "(ans, mean, sd) = defs.timeit(map_reduce_parallel, alist,defs.jaccard_mapper_parallel,defs.jaccard_reducer_parallel)\n",
    "print(mean)"
   ]
  },
  {
   "cell_type": "markdown",
   "metadata": {},
   "source": [
    "# Conclusion"
   ]
  },
  {
   "cell_type": "markdown",
   "metadata": {},
   "source": [
    "To conclude, I think there are a few things worth noting that have been found throughout this notebook. The first is that all of these functions have been created to work with any text, not just my example text imported at the beginning. This means that this work can be reproduced for different styles of documents (where words are not randomly generated?) or where doucment size is much larger. \n",
    "\n",
    "It also seems that from our empirical testing, the numpy cosine similarity measure performs the worst in terms of run-time. It takes much longer than the others, particularly the cosine sparse method. Hence it is probably the least viable method when using real data. Cosine dense also does not seem to perform very well, and should only be considered when wanting to compute the Cosine similarity when your input is not already in a dictionary form to save time. \n",
    "\n",
    "This means that Jaccard and Cosine (sparse) are the most efficent algorithms out of the four. They are different similarity measures so should be used accordingly, and it is also important to note that the Cosine measures produce a much more liberal similarity score than Jaccard. The scores tend to be around double that of Jaccard, indicating a much stronger relationship between documents. Someone looking to find similarities between documents should be aware of this."
   ]
  },
  {
   "cell_type": "markdown",
   "metadata": {},
   "source": [
    "# Appendix"
   ]
  },
  {
   "cell_type": "markdown",
   "metadata": {},
   "source": [
    "Originally, I tried to use our similarity function in combination with the timeit function to test the worst case running time of all-pairs similarity for not only Jaccard and cosine sparse, but also consine dense and the numpy implementation. These two methods took extremely long to calculate (sometimes up to 40minutes) and are not as relevant as I thought. Because of this, I have put the commented version of the code code for their running in this section of the notebook where it can be looked at."
   ]
  },
  {
   "cell_type": "code",
   "execution_count": null,
   "metadata": {},
   "outputs": [],
   "source": [
    "#y_values_6 = []\n",
    "#for n in range(2,21,2):\n",
    "    #(ans, mean, error) = timeit(newsimilarity, list_of_dicts, cosine, n)\n",
    "    #y_values_6.append(mean)"
   ]
  },
  {
   "cell_type": "code",
   "execution_count": null,
   "metadata": {},
   "outputs": [],
   "source": [
    "#z = np.polyfit(docs, y_values_6, 2)\n",
    "#p = np.poly1d(z)\n",
    "#plt.plot(docs, p(docs))\n",
    "#plt.scatter(docs, y_values_6)\n",
    "#plt.xlabel(\"Number of documents\")\n",
    "#plt.ylabel(\"Average time to compute all-pairs\")\n",
    "#plt.title(\"Worst case running time of all-pairs Cosine similarity using dense representation\")\n",
    "#plt.show()"
   ]
  },
  {
   "cell_type": "code",
   "execution_count": null,
   "metadata": {},
   "outputs": [],
   "source": [
    "#y_values_7 = []\n",
    "#for n in range(2,21,2):\n",
    "    #(ans, mean, error) = timeit(newsimilarity, list_of_dicts, numpycosine, n)\n",
    "    #y_values_7.append(mean)"
   ]
  },
  {
   "cell_type": "code",
   "execution_count": null,
   "metadata": {},
   "outputs": [],
   "source": [
    "#z = np.polyfit(docs, y_values_7, 2)\n",
    "#p = np.poly1d(z)\n",
    "#plt.plot(docs, p(docs))\n",
    "#plt.scatter(docs, y_values_7)\n",
    "#plt.xlabel(\"Number of documents\")\n",
    "#plt.ylabel(\"Average time to compute all-pairs\")\n",
    "#plt.title(\"Worst case running time of all-pairs Cosine similarity using numpy.dot\")\n",
    "#plt.show()"
   ]
  }
 ],
 "metadata": {
  "kernelspec": {
   "display_name": "Python 3",
   "language": "python",
   "name": "python3"
  },
  "language_info": {
   "codemirror_mode": {
    "name": "ipython",
    "version": 3
   },
   "file_extension": ".py",
   "mimetype": "text/x-python",
   "name": "python",
   "nbconvert_exporter": "python",
   "pygments_lexer": "ipython3",
   "version": "3.7.3"
  }
 },
 "nbformat": 4,
 "nbformat_minor": 2
}
